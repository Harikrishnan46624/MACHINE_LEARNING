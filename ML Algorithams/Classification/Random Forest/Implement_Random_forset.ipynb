{
 "cells": [
  {
   "cell_type": "code",
   "execution_count": 1,
   "id": "4bb037d0-3e90-4af0-a390-dd7960c8aee7",
   "metadata": {},
   "outputs": [],
   "source": [
    "import numpy as np\n",
    "import pandas as pd\n",
    "import random\n",
    "from sklearn.datasets import make_classification"
   ]
  },
  {
   "cell_type": "code",
   "execution_count": 2,
   "id": "3d630240-90a8-4617-a0df-e3957a761dc0",
   "metadata": {},
   "outputs": [],
   "source": [
    "X,y = make_classification(n_features=5, n_redundant=0, n_informative=5,n_clusters_per_class=1)"
   ]
  },
  {
   "cell_type": "code",
   "execution_count": 3,
   "id": "6ba7b6e2-8df7-410c-b535-064c39aa6792",
   "metadata": {},
   "outputs": [
    {
     "name": "stdout",
     "output_type": "stream",
     "text": [
      "(100, 6)\n"
     ]
    },
    {
     "data": {
      "text/html": [
       "<div>\n",
       "<style scoped>\n",
       "    .dataframe tbody tr th:only-of-type {\n",
       "        vertical-align: middle;\n",
       "    }\n",
       "\n",
       "    .dataframe tbody tr th {\n",
       "        vertical-align: top;\n",
       "    }\n",
       "\n",
       "    .dataframe thead th {\n",
       "        text-align: right;\n",
       "    }\n",
       "</style>\n",
       "<table border=\"1\" class=\"dataframe\">\n",
       "  <thead>\n",
       "    <tr style=\"text-align: right;\">\n",
       "      <th></th>\n",
       "      <th>col1</th>\n",
       "      <th>col2</th>\n",
       "      <th>col3</th>\n",
       "      <th>col4</th>\n",
       "      <th>col5</th>\n",
       "      <th>target</th>\n",
       "    </tr>\n",
       "  </thead>\n",
       "  <tbody>\n",
       "    <tr>\n",
       "      <th>0</th>\n",
       "      <td>-0.745729</td>\n",
       "      <td>2.507226</td>\n",
       "      <td>1.418325</td>\n",
       "      <td>1.543529</td>\n",
       "      <td>-0.781483</td>\n",
       "      <td>1</td>\n",
       "    </tr>\n",
       "    <tr>\n",
       "      <th>1</th>\n",
       "      <td>1.449525</td>\n",
       "      <td>1.574438</td>\n",
       "      <td>0.764843</td>\n",
       "      <td>1.132487</td>\n",
       "      <td>-1.393033</td>\n",
       "      <td>1</td>\n",
       "    </tr>\n",
       "    <tr>\n",
       "      <th>2</th>\n",
       "      <td>-0.451764</td>\n",
       "      <td>1.940374</td>\n",
       "      <td>-1.671540</td>\n",
       "      <td>-1.310660</td>\n",
       "      <td>1.548964</td>\n",
       "      <td>1</td>\n",
       "    </tr>\n",
       "    <tr>\n",
       "      <th>3</th>\n",
       "      <td>1.081765</td>\n",
       "      <td>2.731322</td>\n",
       "      <td>0.154000</td>\n",
       "      <td>-1.243189</td>\n",
       "      <td>-1.638162</td>\n",
       "      <td>0</td>\n",
       "    </tr>\n",
       "    <tr>\n",
       "      <th>4</th>\n",
       "      <td>2.049377</td>\n",
       "      <td>0.030467</td>\n",
       "      <td>-3.744287</td>\n",
       "      <td>-0.089421</td>\n",
       "      <td>0.639198</td>\n",
       "      <td>1</td>\n",
       "    </tr>\n",
       "  </tbody>\n",
       "</table>\n",
       "</div>"
      ],
      "text/plain": [
       "       col1      col2      col3      col4      col5  target\n",
       "0 -0.745729  2.507226  1.418325  1.543529 -0.781483       1\n",
       "1  1.449525  1.574438  0.764843  1.132487 -1.393033       1\n",
       "2 -0.451764  1.940374 -1.671540 -1.310660  1.548964       1\n",
       "3  1.081765  2.731322  0.154000 -1.243189 -1.638162       0\n",
       "4  2.049377  0.030467 -3.744287 -0.089421  0.639198       1"
      ]
     },
     "execution_count": 3,
     "metadata": {},
     "output_type": "execute_result"
    }
   ],
   "source": [
    "df = pd.DataFrame(X,columns=['col1','col2','col3','col4','col5'])\n",
    "df['target'] = y\n",
    "print(df.shape)\n",
    "df.head()"
   ]
  },
  {
   "cell_type": "code",
   "execution_count": 8,
   "id": "054eb6d9-1889-4433-87b3-2fc592ebcf82",
   "metadata": {},
   "outputs": [],
   "source": [
    "# function for row sampling\n",
    "def sample_rows(df, percent):\n",
    "    return df.sample(int(percent*df.shape[0]), replace=True)"
   ]
  },
  {
   "cell_type": "code",
   "execution_count": 9,
   "id": "dbffa8c6-2e6a-4edc-ba82-27de5ebb0892",
   "metadata": {},
   "outputs": [],
   "source": [
    "# function for feature sampling\n",
    "def sample_features(df,percent):\n",
    "  cols = random.sample(df.columns.tolist()[:-1],int(percent*(df.shape[1]-1)))\n",
    "  new_df = df[cols]\n",
    "  new_df['target'] = df['target']\n",
    "  return new_df"
   ]
  },
  {
   "cell_type": "code",
   "execution_count": 10,
   "id": "33bca3eb-1bec-4a7f-ba1c-30ca1a9e6f8b",
   "metadata": {},
   "outputs": [],
   "source": [
    "# function for combined sampling\n",
    "\n",
    "def combined_sampling(df,row_percent,col_percent):\n",
    "  new_df = sample_rows(df,row_percent)\n",
    "  return sample_features(new_df,col_percent)"
   ]
  },
  {
   "cell_type": "code",
   "execution_count": 11,
   "id": "2a47eaf0-7e2c-4203-8914-3d704ab9d7fd",
   "metadata": {},
   "outputs": [
    {
     "name": "stderr",
     "output_type": "stream",
     "text": [
      "C:\\Users\\harik\\AppData\\Local\\Temp\\ipykernel_19988\\3275485051.py:5: SettingWithCopyWarning: \n",
      "A value is trying to be set on a copy of a slice from a DataFrame.\n",
      "Try using .loc[row_indexer,col_indexer] = value instead\n",
      "\n",
      "See the caveats in the documentation: https://pandas.pydata.org/pandas-docs/stable/user_guide/indexing.html#returning-a-view-versus-a-copy\n",
      "  new_df['target'] = df['target']\n"
     ]
    }
   ],
   "source": [
    "df1 = combined_sampling(df,0.5,0.5)"
   ]
  },
  {
   "cell_type": "code",
   "execution_count": 12,
   "id": "9d601c4c-d541-4977-958d-6d40a11604e4",
   "metadata": {},
   "outputs": [
    {
     "name": "stderr",
     "output_type": "stream",
     "text": [
      "C:\\Users\\harik\\AppData\\Local\\Temp\\ipykernel_19988\\3275485051.py:5: SettingWithCopyWarning: \n",
      "A value is trying to be set on a copy of a slice from a DataFrame.\n",
      "Try using .loc[row_indexer,col_indexer] = value instead\n",
      "\n",
      "See the caveats in the documentation: https://pandas.pydata.org/pandas-docs/stable/user_guide/indexing.html#returning-a-view-versus-a-copy\n",
      "  new_df['target'] = df['target']\n"
     ]
    }
   ],
   "source": [
    "df2 = combined_sampling(df,0.5,0.5)"
   ]
  },
  {
   "cell_type": "code",
   "execution_count": 13,
   "id": "1b186981-02cb-464a-b27e-22b4ed725e74",
   "metadata": {},
   "outputs": [
    {
     "name": "stderr",
     "output_type": "stream",
     "text": [
      "C:\\Users\\harik\\AppData\\Local\\Temp\\ipykernel_19988\\3275485051.py:5: SettingWithCopyWarning: \n",
      "A value is trying to be set on a copy of a slice from a DataFrame.\n",
      "Try using .loc[row_indexer,col_indexer] = value instead\n",
      "\n",
      "See the caveats in the documentation: https://pandas.pydata.org/pandas-docs/stable/user_guide/indexing.html#returning-a-view-versus-a-copy\n",
      "  new_df['target'] = df['target']\n"
     ]
    }
   ],
   "source": [
    "df3 = combined_sampling(df,0.5,0.5)"
   ]
  },
  {
   "cell_type": "code",
   "execution_count": 14,
   "id": "de800ccb-bd7e-4a5b-aff6-675b2a33dad0",
   "metadata": {},
   "outputs": [
    {
     "name": "stdout",
     "output_type": "stream",
     "text": [
      "Index(['col4', 'col3', 'target'], dtype='object')\n",
      "Index(['col2', 'col1', 'target'], dtype='object')\n",
      "Index(['col1', 'col3', 'target'], dtype='object')\n"
     ]
    }
   ],
   "source": [
    "print(df1.columns)\n",
    "print(df2.columns)\n",
    "print(df3.columns)"
   ]
  },
  {
   "cell_type": "code",
   "execution_count": 15,
   "id": "c9751823-7f13-43df-b2f9-163cbfa5b768",
   "metadata": {},
   "outputs": [
    {
     "data": {
      "text/html": [
       "<div>\n",
       "<style scoped>\n",
       "    .dataframe tbody tr th:only-of-type {\n",
       "        vertical-align: middle;\n",
       "    }\n",
       "\n",
       "    .dataframe tbody tr th {\n",
       "        vertical-align: top;\n",
       "    }\n",
       "\n",
       "    .dataframe thead th {\n",
       "        text-align: right;\n",
       "    }\n",
       "</style>\n",
       "<table border=\"1\" class=\"dataframe\">\n",
       "  <thead>\n",
       "    <tr style=\"text-align: right;\">\n",
       "      <th></th>\n",
       "      <th>col1</th>\n",
       "      <th>col3</th>\n",
       "      <th>target</th>\n",
       "    </tr>\n",
       "  </thead>\n",
       "  <tbody>\n",
       "    <tr>\n",
       "      <th>48</th>\n",
       "      <td>2.404431</td>\n",
       "      <td>-0.693755</td>\n",
       "      <td>0</td>\n",
       "    </tr>\n",
       "    <tr>\n",
       "      <th>18</th>\n",
       "      <td>1.745286</td>\n",
       "      <td>-0.114123</td>\n",
       "      <td>0</td>\n",
       "    </tr>\n",
       "    <tr>\n",
       "      <th>73</th>\n",
       "      <td>-1.385115</td>\n",
       "      <td>4.511668</td>\n",
       "      <td>0</td>\n",
       "    </tr>\n",
       "    <tr>\n",
       "      <th>88</th>\n",
       "      <td>3.316603</td>\n",
       "      <td>-2.667399</td>\n",
       "      <td>0</td>\n",
       "    </tr>\n",
       "    <tr>\n",
       "      <th>94</th>\n",
       "      <td>3.300311</td>\n",
       "      <td>2.486798</td>\n",
       "      <td>0</td>\n",
       "    </tr>\n",
       "    <tr>\n",
       "      <th>39</th>\n",
       "      <td>2.237988</td>\n",
       "      <td>1.253136</td>\n",
       "      <td>1</td>\n",
       "    </tr>\n",
       "    <tr>\n",
       "      <th>3</th>\n",
       "      <td>1.081765</td>\n",
       "      <td>0.154000</td>\n",
       "      <td>0</td>\n",
       "    </tr>\n",
       "    <tr>\n",
       "      <th>1</th>\n",
       "      <td>1.449525</td>\n",
       "      <td>0.764843</td>\n",
       "      <td>1</td>\n",
       "    </tr>\n",
       "    <tr>\n",
       "      <th>87</th>\n",
       "      <td>1.177880</td>\n",
       "      <td>-2.908569</td>\n",
       "      <td>1</td>\n",
       "    </tr>\n",
       "    <tr>\n",
       "      <th>61</th>\n",
       "      <td>2.015388</td>\n",
       "      <td>1.777912</td>\n",
       "      <td>0</td>\n",
       "    </tr>\n",
       "    <tr>\n",
       "      <th>67</th>\n",
       "      <td>3.234327</td>\n",
       "      <td>0.634381</td>\n",
       "      <td>0</td>\n",
       "    </tr>\n",
       "    <tr>\n",
       "      <th>18</th>\n",
       "      <td>1.745286</td>\n",
       "      <td>-0.114123</td>\n",
       "      <td>0</td>\n",
       "    </tr>\n",
       "    <tr>\n",
       "      <th>41</th>\n",
       "      <td>2.230864</td>\n",
       "      <td>0.264151</td>\n",
       "      <td>0</td>\n",
       "    </tr>\n",
       "    <tr>\n",
       "      <th>6</th>\n",
       "      <td>2.194600</td>\n",
       "      <td>0.192329</td>\n",
       "      <td>0</td>\n",
       "    </tr>\n",
       "    <tr>\n",
       "      <th>86</th>\n",
       "      <td>0.546622</td>\n",
       "      <td>1.639696</td>\n",
       "      <td>0</td>\n",
       "    </tr>\n",
       "    <tr>\n",
       "      <th>91</th>\n",
       "      <td>1.295983</td>\n",
       "      <td>-0.231596</td>\n",
       "      <td>1</td>\n",
       "    </tr>\n",
       "    <tr>\n",
       "      <th>48</th>\n",
       "      <td>2.404431</td>\n",
       "      <td>-0.693755</td>\n",
       "      <td>0</td>\n",
       "    </tr>\n",
       "    <tr>\n",
       "      <th>99</th>\n",
       "      <td>1.564002</td>\n",
       "      <td>1.921168</td>\n",
       "      <td>0</td>\n",
       "    </tr>\n",
       "    <tr>\n",
       "      <th>67</th>\n",
       "      <td>3.234327</td>\n",
       "      <td>0.634381</td>\n",
       "      <td>0</td>\n",
       "    </tr>\n",
       "    <tr>\n",
       "      <th>17</th>\n",
       "      <td>0.133185</td>\n",
       "      <td>2.429377</td>\n",
       "      <td>1</td>\n",
       "    </tr>\n",
       "    <tr>\n",
       "      <th>65</th>\n",
       "      <td>-0.959942</td>\n",
       "      <td>-0.875654</td>\n",
       "      <td>1</td>\n",
       "    </tr>\n",
       "    <tr>\n",
       "      <th>89</th>\n",
       "      <td>0.070028</td>\n",
       "      <td>-0.500549</td>\n",
       "      <td>1</td>\n",
       "    </tr>\n",
       "    <tr>\n",
       "      <th>12</th>\n",
       "      <td>3.359467</td>\n",
       "      <td>0.007056</td>\n",
       "      <td>0</td>\n",
       "    </tr>\n",
       "    <tr>\n",
       "      <th>57</th>\n",
       "      <td>1.732198</td>\n",
       "      <td>1.732751</td>\n",
       "      <td>1</td>\n",
       "    </tr>\n",
       "    <tr>\n",
       "      <th>81</th>\n",
       "      <td>0.237347</td>\n",
       "      <td>2.079047</td>\n",
       "      <td>0</td>\n",
       "    </tr>\n",
       "    <tr>\n",
       "      <th>26</th>\n",
       "      <td>1.570060</td>\n",
       "      <td>0.390133</td>\n",
       "      <td>1</td>\n",
       "    </tr>\n",
       "    <tr>\n",
       "      <th>38</th>\n",
       "      <td>0.738301</td>\n",
       "      <td>2.778132</td>\n",
       "      <td>0</td>\n",
       "    </tr>\n",
       "    <tr>\n",
       "      <th>49</th>\n",
       "      <td>1.373401</td>\n",
       "      <td>-0.619284</td>\n",
       "      <td>1</td>\n",
       "    </tr>\n",
       "    <tr>\n",
       "      <th>59</th>\n",
       "      <td>1.899028</td>\n",
       "      <td>0.497457</td>\n",
       "      <td>1</td>\n",
       "    </tr>\n",
       "    <tr>\n",
       "      <th>2</th>\n",
       "      <td>-0.451764</td>\n",
       "      <td>-1.671540</td>\n",
       "      <td>1</td>\n",
       "    </tr>\n",
       "    <tr>\n",
       "      <th>88</th>\n",
       "      <td>3.316603</td>\n",
       "      <td>-2.667399</td>\n",
       "      <td>0</td>\n",
       "    </tr>\n",
       "    <tr>\n",
       "      <th>74</th>\n",
       "      <td>3.301561</td>\n",
       "      <td>-1.670852</td>\n",
       "      <td>0</td>\n",
       "    </tr>\n",
       "    <tr>\n",
       "      <th>11</th>\n",
       "      <td>-0.184718</td>\n",
       "      <td>1.295956</td>\n",
       "      <td>0</td>\n",
       "    </tr>\n",
       "    <tr>\n",
       "      <th>95</th>\n",
       "      <td>1.404756</td>\n",
       "      <td>2.188478</td>\n",
       "      <td>0</td>\n",
       "    </tr>\n",
       "    <tr>\n",
       "      <th>43</th>\n",
       "      <td>2.681243</td>\n",
       "      <td>2.446428</td>\n",
       "      <td>1</td>\n",
       "    </tr>\n",
       "    <tr>\n",
       "      <th>22</th>\n",
       "      <td>2.048121</td>\n",
       "      <td>-1.633545</td>\n",
       "      <td>0</td>\n",
       "    </tr>\n",
       "    <tr>\n",
       "      <th>40</th>\n",
       "      <td>-0.156238</td>\n",
       "      <td>-0.401327</td>\n",
       "      <td>1</td>\n",
       "    </tr>\n",
       "    <tr>\n",
       "      <th>87</th>\n",
       "      <td>1.177880</td>\n",
       "      <td>-2.908569</td>\n",
       "      <td>1</td>\n",
       "    </tr>\n",
       "    <tr>\n",
       "      <th>91</th>\n",
       "      <td>1.295983</td>\n",
       "      <td>-0.231596</td>\n",
       "      <td>1</td>\n",
       "    </tr>\n",
       "    <tr>\n",
       "      <th>23</th>\n",
       "      <td>1.833995</td>\n",
       "      <td>3.590989</td>\n",
       "      <td>1</td>\n",
       "    </tr>\n",
       "    <tr>\n",
       "      <th>72</th>\n",
       "      <td>2.989531</td>\n",
       "      <td>-0.843491</td>\n",
       "      <td>0</td>\n",
       "    </tr>\n",
       "    <tr>\n",
       "      <th>96</th>\n",
       "      <td>0.278387</td>\n",
       "      <td>-1.140446</td>\n",
       "      <td>1</td>\n",
       "    </tr>\n",
       "    <tr>\n",
       "      <th>97</th>\n",
       "      <td>1.243019</td>\n",
       "      <td>1.161744</td>\n",
       "      <td>0</td>\n",
       "    </tr>\n",
       "    <tr>\n",
       "      <th>38</th>\n",
       "      <td>0.738301</td>\n",
       "      <td>2.778132</td>\n",
       "      <td>0</td>\n",
       "    </tr>\n",
       "    <tr>\n",
       "      <th>50</th>\n",
       "      <td>1.038453</td>\n",
       "      <td>-1.675269</td>\n",
       "      <td>1</td>\n",
       "    </tr>\n",
       "    <tr>\n",
       "      <th>93</th>\n",
       "      <td>0.798901</td>\n",
       "      <td>-0.478299</td>\n",
       "      <td>0</td>\n",
       "    </tr>\n",
       "    <tr>\n",
       "      <th>41</th>\n",
       "      <td>2.230864</td>\n",
       "      <td>0.264151</td>\n",
       "      <td>0</td>\n",
       "    </tr>\n",
       "    <tr>\n",
       "      <th>45</th>\n",
       "      <td>1.833327</td>\n",
       "      <td>0.112475</td>\n",
       "      <td>0</td>\n",
       "    </tr>\n",
       "    <tr>\n",
       "      <th>28</th>\n",
       "      <td>-1.354126</td>\n",
       "      <td>2.750541</td>\n",
       "      <td>0</td>\n",
       "    </tr>\n",
       "    <tr>\n",
       "      <th>33</th>\n",
       "      <td>-1.700029</td>\n",
       "      <td>-0.093852</td>\n",
       "      <td>1</td>\n",
       "    </tr>\n",
       "  </tbody>\n",
       "</table>\n",
       "</div>"
      ],
      "text/plain": [
       "        col1      col3  target\n",
       "48  2.404431 -0.693755       0\n",
       "18  1.745286 -0.114123       0\n",
       "73 -1.385115  4.511668       0\n",
       "88  3.316603 -2.667399       0\n",
       "94  3.300311  2.486798       0\n",
       "39  2.237988  1.253136       1\n",
       "3   1.081765  0.154000       0\n",
       "1   1.449525  0.764843       1\n",
       "87  1.177880 -2.908569       1\n",
       "61  2.015388  1.777912       0\n",
       "67  3.234327  0.634381       0\n",
       "18  1.745286 -0.114123       0\n",
       "41  2.230864  0.264151       0\n",
       "6   2.194600  0.192329       0\n",
       "86  0.546622  1.639696       0\n",
       "91  1.295983 -0.231596       1\n",
       "48  2.404431 -0.693755       0\n",
       "99  1.564002  1.921168       0\n",
       "67  3.234327  0.634381       0\n",
       "17  0.133185  2.429377       1\n",
       "65 -0.959942 -0.875654       1\n",
       "89  0.070028 -0.500549       1\n",
       "12  3.359467  0.007056       0\n",
       "57  1.732198  1.732751       1\n",
       "81  0.237347  2.079047       0\n",
       "26  1.570060  0.390133       1\n",
       "38  0.738301  2.778132       0\n",
       "49  1.373401 -0.619284       1\n",
       "59  1.899028  0.497457       1\n",
       "2  -0.451764 -1.671540       1\n",
       "88  3.316603 -2.667399       0\n",
       "74  3.301561 -1.670852       0\n",
       "11 -0.184718  1.295956       0\n",
       "95  1.404756  2.188478       0\n",
       "43  2.681243  2.446428       1\n",
       "22  2.048121 -1.633545       0\n",
       "40 -0.156238 -0.401327       1\n",
       "87  1.177880 -2.908569       1\n",
       "91  1.295983 -0.231596       1\n",
       "23  1.833995  3.590989       1\n",
       "72  2.989531 -0.843491       0\n",
       "96  0.278387 -1.140446       1\n",
       "97  1.243019  1.161744       0\n",
       "38  0.738301  2.778132       0\n",
       "50  1.038453 -1.675269       1\n",
       "93  0.798901 -0.478299       0\n",
       "41  2.230864  0.264151       0\n",
       "45  1.833327  0.112475       0\n",
       "28 -1.354126  2.750541       0\n",
       "33 -1.700029 -0.093852       1"
      ]
     },
     "execution_count": 15,
     "metadata": {},
     "output_type": "execute_result"
    }
   ],
   "source": [
    "df3"
   ]
  },
  {
   "cell_type": "code",
   "execution_count": 16,
   "id": "0c5eb40a-8d82-47bc-9f96-5805454d71a4",
   "metadata": {},
   "outputs": [],
   "source": [
    "from sklearn.tree import DecisionTreeClassifier\n",
    "clf1 = DecisionTreeClassifier()\n",
    "clf2 = DecisionTreeClassifier()\n",
    "clf3 = DecisionTreeClassifier()"
   ]
  },
  {
   "cell_type": "code",
   "execution_count": 17,
   "id": "b01aacb9-c560-4b3e-a12e-820111ddc797",
   "metadata": {},
   "outputs": [
    {
     "data": {
      "text/html": [
       "<style>#sk-container-id-1 {color: black;background-color: white;}#sk-container-id-1 pre{padding: 0;}#sk-container-id-1 div.sk-toggleable {background-color: white;}#sk-container-id-1 label.sk-toggleable__label {cursor: pointer;display: block;width: 100%;margin-bottom: 0;padding: 0.3em;box-sizing: border-box;text-align: center;}#sk-container-id-1 label.sk-toggleable__label-arrow:before {content: \"▸\";float: left;margin-right: 0.25em;color: #696969;}#sk-container-id-1 label.sk-toggleable__label-arrow:hover:before {color: black;}#sk-container-id-1 div.sk-estimator:hover label.sk-toggleable__label-arrow:before {color: black;}#sk-container-id-1 div.sk-toggleable__content {max-height: 0;max-width: 0;overflow: hidden;text-align: left;background-color: #f0f8ff;}#sk-container-id-1 div.sk-toggleable__content pre {margin: 0.2em;color: black;border-radius: 0.25em;background-color: #f0f8ff;}#sk-container-id-1 input.sk-toggleable__control:checked~div.sk-toggleable__content {max-height: 200px;max-width: 100%;overflow: auto;}#sk-container-id-1 input.sk-toggleable__control:checked~label.sk-toggleable__label-arrow:before {content: \"▾\";}#sk-container-id-1 div.sk-estimator input.sk-toggleable__control:checked~label.sk-toggleable__label {background-color: #d4ebff;}#sk-container-id-1 div.sk-label input.sk-toggleable__control:checked~label.sk-toggleable__label {background-color: #d4ebff;}#sk-container-id-1 input.sk-hidden--visually {border: 0;clip: rect(1px 1px 1px 1px);clip: rect(1px, 1px, 1px, 1px);height: 1px;margin: -1px;overflow: hidden;padding: 0;position: absolute;width: 1px;}#sk-container-id-1 div.sk-estimator {font-family: monospace;background-color: #f0f8ff;border: 1px dotted black;border-radius: 0.25em;box-sizing: border-box;margin-bottom: 0.5em;}#sk-container-id-1 div.sk-estimator:hover {background-color: #d4ebff;}#sk-container-id-1 div.sk-parallel-item::after {content: \"\";width: 100%;border-bottom: 1px solid gray;flex-grow: 1;}#sk-container-id-1 div.sk-label:hover label.sk-toggleable__label {background-color: #d4ebff;}#sk-container-id-1 div.sk-serial::before {content: \"\";position: absolute;border-left: 1px solid gray;box-sizing: border-box;top: 0;bottom: 0;left: 50%;z-index: 0;}#sk-container-id-1 div.sk-serial {display: flex;flex-direction: column;align-items: center;background-color: white;padding-right: 0.2em;padding-left: 0.2em;position: relative;}#sk-container-id-1 div.sk-item {position: relative;z-index: 1;}#sk-container-id-1 div.sk-parallel {display: flex;align-items: stretch;justify-content: center;background-color: white;position: relative;}#sk-container-id-1 div.sk-item::before, #sk-container-id-1 div.sk-parallel-item::before {content: \"\";position: absolute;border-left: 1px solid gray;box-sizing: border-box;top: 0;bottom: 0;left: 50%;z-index: -1;}#sk-container-id-1 div.sk-parallel-item {display: flex;flex-direction: column;z-index: 1;position: relative;background-color: white;}#sk-container-id-1 div.sk-parallel-item:first-child::after {align-self: flex-end;width: 50%;}#sk-container-id-1 div.sk-parallel-item:last-child::after {align-self: flex-start;width: 50%;}#sk-container-id-1 div.sk-parallel-item:only-child::after {width: 0;}#sk-container-id-1 div.sk-dashed-wrapped {border: 1px dashed gray;margin: 0 0.4em 0.5em 0.4em;box-sizing: border-box;padding-bottom: 0.4em;background-color: white;}#sk-container-id-1 div.sk-label label {font-family: monospace;font-weight: bold;display: inline-block;line-height: 1.2em;}#sk-container-id-1 div.sk-label-container {text-align: center;}#sk-container-id-1 div.sk-container {/* jupyter's `normalize.less` sets `[hidden] { display: none; }` but bootstrap.min.css set `[hidden] { display: none !important; }` so we also need the `!important` here to be able to override the default hidden behavior on the sphinx rendered scikit-learn.org. See: https://github.com/scikit-learn/scikit-learn/issues/21755 */display: inline-block !important;position: relative;}#sk-container-id-1 div.sk-text-repr-fallback {display: none;}</style><div id=\"sk-container-id-1\" class=\"sk-top-container\"><div class=\"sk-text-repr-fallback\"><pre>DecisionTreeClassifier()</pre><b>In a Jupyter environment, please rerun this cell to show the HTML representation or trust the notebook. <br />On GitHub, the HTML representation is unable to render, please try loading this page with nbviewer.org.</b></div><div class=\"sk-container\" hidden><div class=\"sk-item\"><div class=\"sk-estimator sk-toggleable\"><input class=\"sk-toggleable__control sk-hidden--visually\" id=\"sk-estimator-id-1\" type=\"checkbox\" checked><label for=\"sk-estimator-id-1\" class=\"sk-toggleable__label sk-toggleable__label-arrow\">DecisionTreeClassifier</label><div class=\"sk-toggleable__content\"><pre>DecisionTreeClassifier()</pre></div></div></div></div></div>"
      ],
      "text/plain": [
       "DecisionTreeClassifier()"
      ]
     },
     "execution_count": 17,
     "metadata": {},
     "output_type": "execute_result"
    }
   ],
   "source": [
    "clf1.fit(df1.iloc[:,0:2],df1.iloc[:,-1])\n",
    "clf2.fit(df2.iloc[:,0:2],df2.iloc[:,-1])\n",
    "clf3.fit(df3.iloc[:,0:2],df3.iloc[:,-1])"
   ]
  },
  {
   "cell_type": "code",
   "execution_count": 18,
   "id": "e2bd7c1f-032b-43a0-bcd6-b96dd0a4bcf9",
   "metadata": {},
   "outputs": [],
   "source": [
    "from sklearn.tree import plot_tree"
   ]
  },
  {
   "cell_type": "code",
   "execution_count": 19,
   "id": "c13d78ff-9f7f-4914-9e82-606fb4628c43",
   "metadata": {},
   "outputs": [
    {
     "data": {
      "text/plain": [
       "[Text(0.3333333333333333, 0.9375, 'x[0] <= -1.047\\ngini = 0.499\\nsamples = 50\\nvalue = [24, 26]'),\n",
       " Text(0.2222222222222222, 0.8125, 'gini = 0.0\\nsamples = 17\\nvalue = [17, 0]'),\n",
       " Text(0.4444444444444444, 0.8125, 'x[0] <= 0.469\\ngini = 0.334\\nsamples = 33\\nvalue = [7, 26]'),\n",
       " Text(0.2222222222222222, 0.6875, 'x[0] <= -0.604\\ngini = 0.48\\nsamples = 15\\nvalue = [6, 9]'),\n",
       " Text(0.1111111111111111, 0.5625, 'gini = 0.0\\nsamples = 3\\nvalue = [0, 3]'),\n",
       " Text(0.3333333333333333, 0.5625, 'x[0] <= -0.171\\ngini = 0.5\\nsamples = 12\\nvalue = [6, 6]'),\n",
       " Text(0.2222222222222222, 0.4375, 'gini = 0.0\\nsamples = 3\\nvalue = [3, 0]'),\n",
       " Text(0.4444444444444444, 0.4375, 'x[0] <= 0.112\\ngini = 0.444\\nsamples = 9\\nvalue = [3, 6]'),\n",
       " Text(0.3333333333333333, 0.3125, 'gini = 0.0\\nsamples = 3\\nvalue = [0, 3]'),\n",
       " Text(0.5555555555555556, 0.3125, 'x[1] <= 0.199\\ngini = 0.5\\nsamples = 6\\nvalue = [3, 3]'),\n",
       " Text(0.4444444444444444, 0.1875, 'gini = 0.0\\nsamples = 2\\nvalue = [2, 0]'),\n",
       " Text(0.6666666666666666, 0.1875, 'x[0] <= 0.203\\ngini = 0.375\\nsamples = 4\\nvalue = [1, 3]'),\n",
       " Text(0.5555555555555556, 0.0625, 'gini = 0.0\\nsamples = 1\\nvalue = [1, 0]'),\n",
       " Text(0.7777777777777778, 0.0625, 'gini = 0.0\\nsamples = 3\\nvalue = [0, 3]'),\n",
       " Text(0.6666666666666666, 0.6875, 'x[0] <= 2.186\\ngini = 0.105\\nsamples = 18\\nvalue = [1, 17]'),\n",
       " Text(0.5555555555555556, 0.5625, 'gini = 0.0\\nsamples = 13\\nvalue = [0, 13]'),\n",
       " Text(0.7777777777777778, 0.5625, 'x[0] <= 2.466\\ngini = 0.32\\nsamples = 5\\nvalue = [1, 4]'),\n",
       " Text(0.6666666666666666, 0.4375, 'gini = 0.0\\nsamples = 1\\nvalue = [1, 0]'),\n",
       " Text(0.8888888888888888, 0.4375, 'gini = 0.0\\nsamples = 4\\nvalue = [0, 4]')]"
      ]
     },
     "execution_count": 19,
     "metadata": {},
     "output_type": "execute_result"
    },
    {
     "data": {
      "image/png": "[encoded data removed]",
      "text/plain": [
       "<Figure size 640x480 with 1 Axes>"
      ]
     },
     "metadata": {},
     "output_type": "display_data"
    }
   ],
   "source": [
    "plot_tree(clf1)"
   ]
  },
  {
   "cell_type": "code",
   "execution_count": 20,
   "id": "71cafdcd-ebaa-48be-ae17-c8a0884eb57c",
   "metadata": {},
   "outputs": [
    {
     "data": {
      "text/plain": [
       "[Text(0.59375, 0.9444444444444444, 'x[1] <= 2.122\\ngini = 0.499\\nsamples = 50\\nvalue = [26, 24]'),\n",
       " Text(0.53125, 0.8333333333333334, 'x[0] <= 1.689\\ngini = 0.473\\nsamples = 39\\nvalue = [15, 24]'),\n",
       " Text(0.375, 0.7222222222222222, 'x[0] <= -0.15\\ngini = 0.355\\nsamples = 26\\nvalue = [6, 20]'),\n",
       " Text(0.25, 0.6111111111111112, 'x[1] <= 1.942\\ngini = 0.5\\nsamples = 8\\nvalue = [4, 4]'),\n",
       " Text(0.1875, 0.5, 'x[1] <= 1.79\\ngini = 0.444\\nsamples = 6\\nvalue = [2, 4]'),\n",
       " Text(0.125, 0.3888888888888889, 'x[1] <= 1.684\\ngini = 0.444\\nsamples = 3\\nvalue = [2, 1]'),\n",
       " Text(0.0625, 0.2777777777777778, 'gini = 0.0\\nsamples = 1\\nvalue = [0, 1]'),\n",
       " Text(0.1875, 0.2777777777777778, 'gini = 0.0\\nsamples = 2\\nvalue = [2, 0]'),\n",
       " Text(0.25, 0.3888888888888889, 'gini = 0.0\\nsamples = 3\\nvalue = [0, 3]'),\n",
       " Text(0.3125, 0.5, 'gini = 0.0\\nsamples = 2\\nvalue = [2, 0]'),\n",
       " Text(0.5, 0.6111111111111112, 'x[1] <= 0.366\\ngini = 0.198\\nsamples = 18\\nvalue = [2, 16]'),\n",
       " Text(0.4375, 0.5, 'gini = 0.0\\nsamples = 7\\nvalue = [0, 7]'),\n",
       " Text(0.5625, 0.5, 'x[1] <= 0.906\\ngini = 0.298\\nsamples = 11\\nvalue = [2, 9]'),\n",
       " Text(0.5, 0.3888888888888889, 'gini = 0.0\\nsamples = 1\\nvalue = [1, 0]'),\n",
       " Text(0.625, 0.3888888888888889, 'x[0] <= 0.646\\ngini = 0.18\\nsamples = 10\\nvalue = [1, 9]'),\n",
       " Text(0.5625, 0.2777777777777778, 'x[0] <= 0.255\\ngini = 0.444\\nsamples = 3\\nvalue = [1, 2]'),\n",
       " Text(0.5, 0.16666666666666666, 'gini = 0.0\\nsamples = 2\\nvalue = [0, 2]'),\n",
       " Text(0.625, 0.16666666666666666, 'gini = 0.0\\nsamples = 1\\nvalue = [1, 0]'),\n",
       " Text(0.6875, 0.2777777777777778, 'gini = 0.0\\nsamples = 7\\nvalue = [0, 7]'),\n",
       " Text(0.6875, 0.7222222222222222, 'x[1] <= -0.17\\ngini = 0.426\\nsamples = 13\\nvalue = [9, 4]'),\n",
       " Text(0.625, 0.6111111111111112, 'gini = 0.0\\nsamples = 3\\nvalue = [3, 0]'),\n",
       " Text(0.75, 0.6111111111111112, 'x[1] <= -0.025\\ngini = 0.48\\nsamples = 10\\nvalue = [6, 4]'),\n",
       " Text(0.6875, 0.5, 'gini = 0.0\\nsamples = 1\\nvalue = [0, 1]'),\n",
       " Text(0.8125, 0.5, 'x[0] <= 2.209\\ngini = 0.444\\nsamples = 9\\nvalue = [6, 3]'),\n",
       " Text(0.75, 0.3888888888888889, 'gini = 0.0\\nsamples = 3\\nvalue = [3, 0]'),\n",
       " Text(0.875, 0.3888888888888889, 'x[1] <= 0.815\\ngini = 0.5\\nsamples = 6\\nvalue = [3, 3]'),\n",
       " Text(0.8125, 0.2777777777777778, 'x[0] <= 3.406\\ngini = 0.375\\nsamples = 4\\nvalue = [3, 1]'),\n",
       " Text(0.75, 0.16666666666666666, 'gini = 0.0\\nsamples = 2\\nvalue = [2, 0]'),\n",
       " Text(0.875, 0.16666666666666666, 'x[0] <= 3.992\\ngini = 0.5\\nsamples = 2\\nvalue = [1, 1]'),\n",
       " Text(0.8125, 0.05555555555555555, 'gini = 0.0\\nsamples = 1\\nvalue = [0, 1]'),\n",
       " Text(0.9375, 0.05555555555555555, 'gini = 0.0\\nsamples = 1\\nvalue = [1, 0]'),\n",
       " Text(0.9375, 0.2777777777777778, 'gini = 0.0\\nsamples = 2\\nvalue = [0, 2]'),\n",
       " Text(0.65625, 0.8333333333333334, 'gini = 0.0\\nsamples = 11\\nvalue = [11, 0]')]"
      ]
     },
     "execution_count": 20,
     "metadata": {},
     "output_type": "execute_result"
    },
    {
     "data": {
      "image/png": "[encoded data removed]",
      "text/plain": [
       "<Figure size 640x480 with 1 Axes>"
      ]
     },
     "metadata": {},
     "output_type": "display_data"
    }
   ],
   "source": [
    "plot_tree(clf2)"
   ]
  },
  {
   "cell_type": "code",
   "execution_count": 21,
   "id": "97c9ba9c-fdee-42e7-a17f-e02199142328",
   "metadata": {},
   "outputs": [
    {
     "data": {
      "text/plain": [
       "[Text(0.5333333333333333, 0.9375, 'x[0] <= 1.957\\ngini = 0.48\\nsamples = 50\\nvalue = [30, 20]'),\n",
       " Text(0.3333333333333333, 0.8125, 'x[1] <= -0.173\\ngini = 0.496\\nsamples = 33\\nvalue = [15, 18]'),\n",
       " Text(0.13333333333333333, 0.6875, 'x[1] <= -0.489\\ngini = 0.153\\nsamples = 12\\nvalue = [1, 11]'),\n",
       " Text(0.06666666666666667, 0.5625, 'gini = 0.0\\nsamples = 8\\nvalue = [0, 8]'),\n",
       " Text(0.2, 0.5625, 'x[1] <= -0.44\\ngini = 0.375\\nsamples = 4\\nvalue = [1, 3]'),\n",
       " Text(0.13333333333333333, 0.4375, 'gini = 0.0\\nsamples = 1\\nvalue = [1, 0]'),\n",
       " Text(0.26666666666666666, 0.4375, 'gini = 0.0\\nsamples = 3\\nvalue = [0, 3]'),\n",
       " Text(0.5333333333333333, 0.6875, 'x[0] <= 1.834\\ngini = 0.444\\nsamples = 21\\nvalue = [14, 7]'),\n",
       " Text(0.4666666666666667, 0.5625, 'x[0] <= -1.543\\ngini = 0.388\\nsamples = 19\\nvalue = [14, 5]'),\n",
       " Text(0.4, 0.4375, 'gini = 0.0\\nsamples = 1\\nvalue = [0, 1]'),\n",
       " Text(0.5333333333333333, 0.4375, 'x[0] <= 1.427\\ngini = 0.346\\nsamples = 18\\nvalue = [14, 4]'),\n",
       " Text(0.4, 0.3125, 'x[0] <= 0.185\\ngini = 0.165\\nsamples = 11\\nvalue = [10, 1]'),\n",
       " Text(0.3333333333333333, 0.1875, 'x[0] <= -0.026\\ngini = 0.375\\nsamples = 4\\nvalue = [3, 1]'),\n",
       " Text(0.26666666666666666, 0.0625, 'gini = 0.0\\nsamples = 3\\nvalue = [3, 0]'),\n",
       " Text(0.4, 0.0625, 'gini = 0.0\\nsamples = 1\\nvalue = [0, 1]'),\n",
       " Text(0.4666666666666667, 0.1875, 'gini = 0.0\\nsamples = 7\\nvalue = [7, 0]'),\n",
       " Text(0.6666666666666666, 0.3125, 'x[1] <= 0.251\\ngini = 0.49\\nsamples = 7\\nvalue = [4, 3]'),\n",
       " Text(0.6, 0.1875, 'gini = 0.0\\nsamples = 3\\nvalue = [3, 0]'),\n",
       " Text(0.7333333333333333, 0.1875, 'x[1] <= 1.827\\ngini = 0.375\\nsamples = 4\\nvalue = [1, 3]'),\n",
       " Text(0.6666666666666666, 0.0625, 'gini = 0.0\\nsamples = 3\\nvalue = [0, 3]'),\n",
       " Text(0.8, 0.0625, 'gini = 0.0\\nsamples = 1\\nvalue = [1, 0]'),\n",
       " Text(0.6, 0.5625, 'gini = 0.0\\nsamples = 2\\nvalue = [0, 2]'),\n",
       " Text(0.7333333333333333, 0.8125, 'x[1] <= 0.944\\ngini = 0.208\\nsamples = 17\\nvalue = [15, 2]'),\n",
       " Text(0.6666666666666666, 0.6875, 'gini = 0.0\\nsamples = 13\\nvalue = [13, 0]'),\n",
       " Text(0.8, 0.6875, 'x[0] <= 2.127\\ngini = 0.5\\nsamples = 4\\nvalue = [2, 2]'),\n",
       " Text(0.7333333333333333, 0.5625, 'gini = 0.0\\nsamples = 1\\nvalue = [1, 0]'),\n",
       " Text(0.8666666666666667, 0.5625, 'x[1] <= 2.467\\ngini = 0.444\\nsamples = 3\\nvalue = [1, 2]'),\n",
       " Text(0.8, 0.4375, 'gini = 0.0\\nsamples = 2\\nvalue = [0, 2]'),\n",
       " Text(0.9333333333333333, 0.4375, 'gini = 0.0\\nsamples = 1\\nvalue = [1, 0]')]"
      ]
     },
     "execution_count": 21,
     "metadata": {},
     "output_type": "execute_result"
    },
    {
     "data": {
      "image/png": "[encoded data removed]",
      "text/plain": [
       "<Figure size 640x480 with 1 Axes>"
      ]
     },
     "metadata": {},
     "output_type": "display_data"
    }
   ],
   "source": [
    "plot_tree(clf3)"
   ]
  },
  {
   "cell_type": "code",
   "execution_count": 22,
   "id": "5dec38df-ddcc-460f-9b34-9e5967354a3a",
   "metadata": {},
   "outputs": [
    {
     "name": "stderr",
     "output_type": "stream",
     "text": [
      "C:\\Users\\harik\\AppData\\Local\\Packages\\PythonSoftwareFoundation.Python.3.11_qbz5n2kfra8p0\\LocalCache\\local-packages\\Python311\\site-packages\\sklearn\\base.py:439: UserWarning: X does not have valid feature names, but DecisionTreeClassifier was fitted with feature names\n",
      "  warnings.warn(\n"
     ]
    },
    {
     "data": {
      "text/plain": [
       "array([1])"
      ]
     },
     "execution_count": 22,
     "metadata": {},
     "output_type": "execute_result"
    }
   ],
   "source": [
    "clf1.predict(np.array([-1.042498,\t-0.064323]).reshape(1,2))"
   ]
  },
  {
   "cell_type": "code",
   "execution_count": 23,
   "id": "dfe2ddcb-237e-4e9d-b1f6-b456a605e84b",
   "metadata": {},
   "outputs": [
    {
     "name": "stderr",
     "output_type": "stream",
     "text": [
      "C:\\Users\\harik\\AppData\\Local\\Packages\\PythonSoftwareFoundation.Python.3.11_qbz5n2kfra8p0\\LocalCache\\local-packages\\Python311\\site-packages\\sklearn\\base.py:439: UserWarning: X does not have valid feature names, but DecisionTreeClassifier was fitted with feature names\n",
      "  warnings.warn(\n"
     ]
    },
    {
     "data": {
      "text/plain": [
       "array([1])"
      ]
     },
     "execution_count": 23,
     "metadata": {},
     "output_type": "execute_result"
    }
   ],
   "source": [
    "clf2.predict(np.array([-1.042498,\t-0.064323]).reshape(1,2))"
   ]
  },
  {
   "cell_type": "code",
   "execution_count": 24,
   "id": "6d9e874c-d453-4299-9336-3f363115330b",
   "metadata": {},
   "outputs": [
    {
     "name": "stderr",
     "output_type": "stream",
     "text": [
      "C:\\Users\\harik\\AppData\\Local\\Packages\\PythonSoftwareFoundation.Python.3.11_qbz5n2kfra8p0\\LocalCache\\local-packages\\Python311\\site-packages\\sklearn\\base.py:439: UserWarning: X does not have valid feature names, but DecisionTreeClassifier was fitted with feature names\n",
      "  warnings.warn(\n"
     ]
    },
    {
     "data": {
      "text/plain": [
       "array([0])"
      ]
     },
     "execution_count": 24,
     "metadata": {},
     "output_type": "execute_result"
    }
   ],
   "source": [
    "clf3.predict(np.array([-1.042498,\t-0.064323]).reshape(1,2))"
   ]
  },
  {
   "cell_type": "code",
   "execution_count": 25,
   "id": "8ecfd4b0-94ba-4059-b7ea-06ac8bc0da8a",
   "metadata": {},
   "outputs": [
    {
     "data": {
      "text/html": [
       "<div>\n",
       "<style scoped>\n",
       "    .dataframe tbody tr th:only-of-type {\n",
       "        vertical-align: middle;\n",
       "    }\n",
       "\n",
       "    .dataframe tbody tr th {\n",
       "        vertical-align: top;\n",
       "    }\n",
       "\n",
       "    .dataframe thead th {\n",
       "        text-align: right;\n",
       "    }\n",
       "</style>\n",
       "<table border=\"1\" class=\"dataframe\">\n",
       "  <thead>\n",
       "    <tr style=\"text-align: right;\">\n",
       "      <th></th>\n",
       "      <th>col1</th>\n",
       "      <th>col2</th>\n",
       "      <th>col3</th>\n",
       "      <th>col4</th>\n",
       "      <th>col5</th>\n",
       "      <th>target</th>\n",
       "    </tr>\n",
       "  </thead>\n",
       "  <tbody>\n",
       "    <tr>\n",
       "      <th>64</th>\n",
       "      <td>1.375117</td>\n",
       "      <td>1.229456</td>\n",
       "      <td>-0.171733</td>\n",
       "      <td>-1.869441</td>\n",
       "      <td>-0.885256</td>\n",
       "      <td>0</td>\n",
       "    </tr>\n",
       "    <tr>\n",
       "      <th>77</th>\n",
       "      <td>-0.191659</td>\n",
       "      <td>1.845777</td>\n",
       "      <td>-0.213194</td>\n",
       "      <td>1.086126</td>\n",
       "      <td>-0.877401</td>\n",
       "      <td>0</td>\n",
       "    </tr>\n",
       "    <tr>\n",
       "      <th>47</th>\n",
       "      <td>1.275414</td>\n",
       "      <td>0.828453</td>\n",
       "      <td>0.373996</td>\n",
       "      <td>-0.746582</td>\n",
       "      <td>-1.302589</td>\n",
       "      <td>0</td>\n",
       "    </tr>\n",
       "    <tr>\n",
       "      <th>27</th>\n",
       "      <td>2.022149</td>\n",
       "      <td>-1.025718</td>\n",
       "      <td>2.376018</td>\n",
       "      <td>0.227120</td>\n",
       "      <td>-1.618573</td>\n",
       "      <td>0</td>\n",
       "    </tr>\n",
       "    <tr>\n",
       "      <th>37</th>\n",
       "      <td>-2.066486</td>\n",
       "      <td>1.097851</td>\n",
       "      <td>-1.001847</td>\n",
       "      <td>-0.885997</td>\n",
       "      <td>0.411115</td>\n",
       "      <td>1</td>\n",
       "    </tr>\n",
       "    <tr>\n",
       "      <th>86</th>\n",
       "      <td>0.546622</td>\n",
       "      <td>1.584869</td>\n",
       "      <td>1.639696</td>\n",
       "      <td>-0.062964</td>\n",
       "      <td>-1.277308</td>\n",
       "      <td>0</td>\n",
       "    </tr>\n",
       "    <tr>\n",
       "      <th>61</th>\n",
       "      <td>2.015388</td>\n",
       "      <td>0.483538</td>\n",
       "      <td>1.777912</td>\n",
       "      <td>-3.080338</td>\n",
       "      <td>-1.298291</td>\n",
       "      <td>0</td>\n",
       "    </tr>\n",
       "    <tr>\n",
       "      <th>28</th>\n",
       "      <td>-1.354126</td>\n",
       "      <td>3.487425</td>\n",
       "      <td>2.750541</td>\n",
       "      <td>-2.267943</td>\n",
       "      <td>0.600986</td>\n",
       "      <td>0</td>\n",
       "    </tr>\n",
       "    <tr>\n",
       "      <th>1</th>\n",
       "      <td>1.449525</td>\n",
       "      <td>1.574438</td>\n",
       "      <td>0.764843</td>\n",
       "      <td>1.132487</td>\n",
       "      <td>-1.393033</td>\n",
       "      <td>1</td>\n",
       "    </tr>\n",
       "    <tr>\n",
       "      <th>37</th>\n",
       "      <td>-2.066486</td>\n",
       "      <td>1.097851</td>\n",
       "      <td>-1.001847</td>\n",
       "      <td>-0.885997</td>\n",
       "      <td>0.411115</td>\n",
       "      <td>1</td>\n",
       "    </tr>\n",
       "    <tr>\n",
       "      <th>84</th>\n",
       "      <td>2.194441</td>\n",
       "      <td>1.179037</td>\n",
       "      <td>1.251722</td>\n",
       "      <td>1.644349</td>\n",
       "      <td>-1.485936</td>\n",
       "      <td>1</td>\n",
       "    </tr>\n",
       "    <tr>\n",
       "      <th>86</th>\n",
       "      <td>0.546622</td>\n",
       "      <td>1.584869</td>\n",
       "      <td>1.639696</td>\n",
       "      <td>-0.062964</td>\n",
       "      <td>-1.277308</td>\n",
       "      <td>0</td>\n",
       "    </tr>\n",
       "    <tr>\n",
       "      <th>38</th>\n",
       "      <td>0.738301</td>\n",
       "      <td>2.223987</td>\n",
       "      <td>2.778132</td>\n",
       "      <td>-1.767788</td>\n",
       "      <td>-1.204245</td>\n",
       "      <td>0</td>\n",
       "    </tr>\n",
       "    <tr>\n",
       "      <th>19</th>\n",
       "      <td>1.426433</td>\n",
       "      <td>4.058561</td>\n",
       "      <td>2.619910</td>\n",
       "      <td>0.078897</td>\n",
       "      <td>-2.049288</td>\n",
       "      <td>1</td>\n",
       "    </tr>\n",
       "  </tbody>\n",
       "</table>\n",
       "</div>"
      ],
      "text/plain": [
       "        col1      col2      col3      col4      col5  target\n",
       "64  1.375117  1.229456 -0.171733 -1.869441 -0.885256       0\n",
       "77 -0.191659  1.845777 -0.213194  1.086126 -0.877401       0\n",
       "47  1.275414  0.828453  0.373996 -0.746582 -1.302589       0\n",
       "27  2.022149 -1.025718  2.376018  0.227120 -1.618573       0\n",
       "37 -2.066486  1.097851 -1.001847 -0.885997  0.411115       1\n",
       "86  0.546622  1.584869  1.639696 -0.062964 -1.277308       0\n",
       "61  2.015388  0.483538  1.777912 -3.080338 -1.298291       0\n",
       "28 -1.354126  3.487425  2.750541 -2.267943  0.600986       0\n",
       "1   1.449525  1.574438  0.764843  1.132487 -1.393033       1\n",
       "37 -2.066486  1.097851 -1.001847 -0.885997  0.411115       1\n",
       "84  2.194441  1.179037  1.251722  1.644349 -1.485936       1\n",
       "86  0.546622  1.584869  1.639696 -0.062964 -1.277308       0\n",
       "38  0.738301  2.223987  2.778132 -1.767788 -1.204245       0\n",
       "19  1.426433  4.058561  2.619910  0.078897 -2.049288       1"
      ]
     },
     "execution_count": 25,
     "metadata": {},
     "output_type": "execute_result"
    }
   ],
   "source": [
    "df.sample(14,replace=True)"
   ]
  },
  {
   "cell_type": "code",
   "execution_count": null,
   "id": "f28e3aff-3af6-4f63-9ab9-3d2d6760ecfa",
   "metadata": {},
   "outputs": [],
   "source": []
  }
 ],
 "metadata": {
  "kernelspec": {
   "display_name": "Python 3 (ipykernel)",
   "language": "python",
   "name": "python3"
  },
  "language_info": {
   "codemirror_mode": {
    "name": "ipython",
    "version": 3
   },
   "file_extension": ".py",
   "mimetype": "text/x-python",
   "name": "python",
   "nbconvert_exporter": "python",
   "pygments_lexer": "ipython3",
   "version": "3.11.5"
  }
 },
 "nbformat": 4,
 "nbformat_minor": 5
}
