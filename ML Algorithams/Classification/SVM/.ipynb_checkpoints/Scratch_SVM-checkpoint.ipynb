{
 "cells": [
  {
   "cell_type": "markdown",
   "id": "d3d135a0-5d76-43f0-ac31-60227e6d0ab9",
   "metadata": {},
   "source": [
    "\n",
    "SVM Classifier\n",
    "\n",
    "Equation of the Hyperplane:\n",
    "\n",
    "y = wx - b\n",
    "\n",
    "Gradient Descent:\n",
    "\n",
    "Gradient Descent is an optimization algorithm used for minimizing the loss function in various machine learning algorithms. It is used for updating the parameters of the learning model.\n",
    "\n",
    "w = w - α*dw\n",
    "\n",
    "b = b - α*db\n",
    "\n",
    "Learning Rate:\n",
    "\n",
    "Learning rate is a tuning parameter in an optimization algorithm that determines the step size at each iteration while moving toward a minimum of a loss function."
   ]
  },
  {
   "cell_type": "code",
   "execution_count": 1,
   "id": "d047543a-99de-45af-993b-9e8bc0772fbc",
   "metadata": {},
   "outputs": [],
   "source": [
    "import numpy as np"
   ]
  },
  {
   "cell_type": "code",
   "execution_count": 3,
   "id": "2a7996ef-54ad-4110-9971-7d72a1764d0a",
   "metadata": {},
   "outputs": [],
   "source": [
    "class SVM_Classifier():\n",
    "    # initiating the hyperparameters\n",
    "    def __init__(self, learning_rate, no_of_iterations, lambda_parameter) -> None:\n",
    "\n",
    "        self.learning_rate = learning_rate\n",
    "        self.no_of_iterations = no_of_iterations\n",
    "        self.lambda_parameter = lambda_parameter\n",
    "    \n",
    "    # fitting the dataset to SVM Classifier\n",
    "    def fit(self, X, y):\n",
    "\n",
    "        # m  --> number of Data points --> number of rows\n",
    "        # n  --> number of input features --> number of columns\n",
    "        self.m, self.n = X.shape\n",
    "    \n",
    "     # initiating the weight value and bias value\n",
    "        self.w = np.zeros(self.n)\n",
    "\n",
    "        self.b = 0\n",
    "\n",
    "        self.X = X\n",
    "\n",
    "        self.Y = y\n",
    "\n",
    "        # implementing Gradient Descent algorithm for Optimization\n",
    "        for i in range(self.no_of_iterations):\n",
    "            self.update_weight()\n",
    "\n",
    "    def update_weight(self):\n",
    "\n",
    "        # label encoding\n",
    "        y_label = np.where(self.y <= 0, -1, 1)\n",
    "\n",
    "        # gradients ( dw, db)\n",
    "        for index, x_i in enumerate(self.y):\n",
    "            condition = y_label[index] * (np.dot(x_i, self.w) - self.b) >= 1\n",
    "\n",
    "            if condition == True:\n",
    "                dw = 2 * self.lambda_parameter * self.w\n",
    "                db = 0\n",
    "                \n",
    "            else:\n",
    "                dw = 2 * self.lambda_parameter * self.w - np.dot(x_i, y_label[index])\n",
    "                db = y_label[index]\n",
    "\n",
    "        self.w = self.w - self.learning_rate * dw\n",
    "        self.b = self.b - self.learning_rate * db\n",
    "\n",
    "\n",
    "    # predict the label for a given input value\n",
    "    def predict(self, X):\n",
    "        output = np.dot(X, self.w) - self.b\n",
    "    \n",
    "        predicted_labels = np.sign(output)\n",
    "\n",
    "        y_hat = np.where(predicted_labels <= -1, 0, 1)\n",
    "\n",
    "        return y_hat"
   ]
  },
  {
   "cell_type": "code",
   "execution_count": 4,
   "id": "5ab34834-4e91-4982-8baf-ee286e486d29",
   "metadata": {},
   "outputs": [],
   "source": [
    "model = SVM_Classifier(learning_rate=0.001, no_of_iterations=1000, lambda_parameter=0.01)"
   ]
  },
  {
   "cell_type": "code",
   "execution_count": null,
   "id": "ffe22a68-d501-489c-b8a8-cc24bf47dcd0",
   "metadata": {},
   "outputs": [],
   "source": []
  }
 ],
 "metadata": {
  "kernelspec": {
   "display_name": "Python 3 (ipykernel)",
   "language": "python",
   "name": "python3"
  },
  "language_info": {
   "codemirror_mode": {
    "name": "ipython",
    "version": 3
   },
   "file_extension": ".py",
   "mimetype": "text/x-python",
   "name": "python",
   "nbconvert_exporter": "python",
   "pygments_lexer": "ipython3",
   "version": "3.11.5"
  }
 },
 "nbformat": 4,
 "nbformat_minor": 5
}
