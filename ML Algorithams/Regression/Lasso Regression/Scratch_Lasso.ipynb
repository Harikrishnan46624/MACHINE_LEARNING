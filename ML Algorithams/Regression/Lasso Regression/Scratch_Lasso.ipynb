{
 "cells": [
  {
   "cell_type": "raw",
   "id": "aca37f8a-2e3d-4e82-a902-46e0daaadb6b",
   "metadata": {},
   "source": [
    "Lasso Regression:\n",
    "\n",
    "Y = wX + b\n",
    "\n",
    "Y --> Dependent Variable\n",
    "\n",
    "X --> Independent Variable\n",
    "\n",
    "w --> weight\n",
    "\n",
    "b --> bias"
   ]
  },
  {
   "cell_type": "raw",
   "id": "6405be97-bbc9-427c-a40e-b59c6fbfe78e",
   "metadata": {},
   "source": [
    "Gradient Descent:\n",
    "\n",
    "Gradient Descent is an optimization algorithm used for minimizing the loss function in various machine learning algorithms. It is used for updating the parameters of the learning model.\n",
    "\n",
    "w = w - α*dw\n",
    "\n",
    "b = b - α*db"
   ]
  },
  {
   "cell_type": "raw",
   "id": "89bdfaec-1c88-4312-94cb-9ea93f64b80f",
   "metadata": {},
   "source": [
    "Learning Rate:\n",
    "\n",
    "Learning rate is a tuning parameter in an optimization algorithm that determines the step size at each iteration while moving toward a minimum of a loss function."
   ]
  },
  {
   "cell_type": "code",
   "execution_count": 1,
   "id": "b9b60ddb-7b61-4e11-8e61-3b5a8e4f74df",
   "metadata": {},
   "outputs": [],
   "source": [
    "import numpy as np\n",
    "\n",
    "# creating a class for Lasso Regression\n",
    "\n",
    "class Lasso_Regression():\n",
    "\n",
    "  #initiating the hyperparameters\n",
    "  def __init__(self, learning_rate, no_of_iterations, lambda_parameter):\n",
    "\n",
    "    self.learning_rate = learning_rate\n",
    "    self.no_of_iterations = no_of_iterations\n",
    "    self.lambda_parameter = lambda_parameter\n",
    "\n",
    "\n",
    "  # fitting the dataset to the Lasso Regression model\n",
    "  def fit(self, X, Y):\n",
    "\n",
    "    # m --> number of Data points --> number of rows\n",
    "    # n --> number of input features --> number of columns\n",
    "    self.m, self.n = X.shape\n",
    "\n",
    "    self.w = np.zeros(self.n)\n",
    "\n",
    "    self.b = 0\n",
    "\n",
    "    self.X = X\n",
    "\n",
    "    self.Y = Y\n",
    "\n",
    "    # implementing Gradient Descent algorithm for Optimization\n",
    "\n",
    "    for i in range(self.no_of_iterations):     # missed \"self\"\n",
    "      self.upadte_weights()\n",
    "\n",
    "\n",
    "  # function for updating the weight & bias value\n",
    "  def upadte_weights(self):\n",
    "\n",
    "    # linear equation of the model\n",
    "    Y_prediction = self.predict(self.X)\n",
    "\n",
    "    # gradients (dw, db)\n",
    "\n",
    "    # gradient for weight\n",
    "    dw = np.zeros(self.n)\n",
    "\n",
    "    for i in range(self.n):\n",
    "\n",
    "      if self.w[i]>0:\n",
    "\n",
    "        dw[i] = (-(2*(self.X[:,i]).dot(self.Y - Y_prediction)) + self.lambda_parameter) / self.m \n",
    "\n",
    "      else :\n",
    "\n",
    "        dw[i] = (-(2*(self.X[:,i]).dot(self.Y - Y_prediction)) - self.lambda_parameter) / self.m\n",
    "\n",
    "\n",
    "    # gradient for bias\n",
    "    db = - 2 * np.sum(self.Y - Y_prediction) / self.m\n",
    "\n",
    "\n",
    "    # updating the weights & bias\n",
    "\n",
    "    self.w = self.w - self.learning_rate*dw\n",
    "    self.b = self.b - self.learning_rate*db\n",
    "\n",
    "    \n",
    "\n",
    "\n",
    "  # Predicting the Target variable\n",
    "  def predict(self,X):\n",
    "\n",
    "    return X.dot(self.w) + self.b\n",
    "\n",
    "\n"
   ]
  },
  {
   "cell_type": "code",
   "execution_count": null,
   "id": "20077ffb-67eb-478d-ab3a-ac3c7b568bdc",
   "metadata": {},
   "outputs": [],
   "source": []
  }
 ],
 "metadata": {
  "kernelspec": {
   "display_name": "Python 3 (ipykernel)",
   "language": "python",
   "name": "python3"
  },
  "language_info": {
   "codemirror_mode": {
    "name": "ipython",
    "version": 3
   },
   "file_extension": ".py",
   "mimetype": "text/x-python",
   "name": "python",
   "nbconvert_exporter": "python",
   "pygments_lexer": "ipython3",
   "version": "3.11.6"
  }
 },
 "nbformat": 4,
 "nbformat_minor": 5
}
