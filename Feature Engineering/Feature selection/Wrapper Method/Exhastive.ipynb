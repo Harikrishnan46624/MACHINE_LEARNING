{
 "cells": [
  {
   "cell_type": "raw",
   "id": "97d767c1-ba9b-4642-b95d-85f647c5ddd9",
   "metadata": {},
   "source": [
    "Exhaustive Feature Selection\n",
    "\n",
    "This is the most robust feature selection method covered so far. This is a brute-force evaluation of each feature subset. This means that it tries every possible combination of the variables and returns the best performing subset."
   ]
  },
  {
   "cell_type": "code",
   "execution_count": 1,
   "id": "1751428d-f865-4785-9d30-4525e0b5a017",
   "metadata": {},
   "outputs": [],
   "source": [
    "import pandas as pd\n",
    "import numpy as np\n",
    "import matplotlib.pyplot as plt\n",
    "from sklearn.neighbors import KNeighborsClassifier as knn\n",
    "from sklearn.linear_model import LogisticRegression as LGR\n",
    "from mlxtend.feature_selection import ExhaustiveFeatureSelector\n",
    "from mlxtend.plotting import plot_sequential_feature_selection"
   ]
  },
  {
   "cell_type": "code",
   "execution_count": 2,
   "id": "de5c87ed-25fe-4fe6-91a4-fff41a54445b",
   "metadata": {},
   "outputs": [
    {
     "data": {
      "text/html": [
       "<div>\n",
       "<style scoped>\n",
       "    .dataframe tbody tr th:only-of-type {\n",
       "        vertical-align: middle;\n",
       "    }\n",
       "\n",
       "    .dataframe tbody tr th {\n",
       "        vertical-align: top;\n",
       "    }\n",
       "\n",
       "    .dataframe thead th {\n",
       "        text-align: right;\n",
       "    }\n",
       "</style>\n",
       "<table border=\"1\" class=\"dataframe\">\n",
       "  <thead>\n",
       "    <tr style=\"text-align: right;\">\n",
       "      <th></th>\n",
       "      <th>sepal length (cm)</th>\n",
       "      <th>sepal width (cm)</th>\n",
       "      <th>petal length (cm)</th>\n",
       "      <th>petal width (cm)</th>\n",
       "      <th>target</th>\n",
       "    </tr>\n",
       "  </thead>\n",
       "  <tbody>\n",
       "    <tr>\n",
       "      <th>0</th>\n",
       "      <td>5.1</td>\n",
       "      <td>3.5</td>\n",
       "      <td>1.4</td>\n",
       "      <td>0.2</td>\n",
       "      <td>0</td>\n",
       "    </tr>\n",
       "    <tr>\n",
       "      <th>1</th>\n",
       "      <td>4.9</td>\n",
       "      <td>3.0</td>\n",
       "      <td>1.4</td>\n",
       "      <td>0.2</td>\n",
       "      <td>0</td>\n",
       "    </tr>\n",
       "    <tr>\n",
       "      <th>2</th>\n",
       "      <td>4.7</td>\n",
       "      <td>3.2</td>\n",
       "      <td>1.3</td>\n",
       "      <td>0.2</td>\n",
       "      <td>0</td>\n",
       "    </tr>\n",
       "    <tr>\n",
       "      <th>3</th>\n",
       "      <td>4.6</td>\n",
       "      <td>3.1</td>\n",
       "      <td>1.5</td>\n",
       "      <td>0.2</td>\n",
       "      <td>0</td>\n",
       "    </tr>\n",
       "    <tr>\n",
       "      <th>4</th>\n",
       "      <td>5.0</td>\n",
       "      <td>3.6</td>\n",
       "      <td>1.4</td>\n",
       "      <td>0.2</td>\n",
       "      <td>0</td>\n",
       "    </tr>\n",
       "  </tbody>\n",
       "</table>\n",
       "</div>"
      ],
      "text/plain": [
       "   sepal length (cm)  sepal width (cm)  petal length (cm)  petal width (cm)  \\\n",
       "0                5.1               3.5                1.4               0.2   \n",
       "1                4.9               3.0                1.4               0.2   \n",
       "2                4.7               3.2                1.3               0.2   \n",
       "3                4.6               3.1                1.5               0.2   \n",
       "4                5.0               3.6                1.4               0.2   \n",
       "\n",
       "   target  \n",
       "0       0  \n",
       "1       0  \n",
       "2       0  \n",
       "3       0  \n",
       "4       0  "
      ]
     },
     "execution_count": 2,
     "metadata": {},
     "output_type": "execute_result"
    }
   ],
   "source": [
    "from sklearn.datasets import load_iris\n",
    "iris_data = load_iris()\n",
    "df_iris = pd.DataFrame(iris_data.data, columns=iris_data.feature_names)\n",
    "df_iris['target'] = pd.Series(iris_data.target)\n",
    "df_iris.head()"
   ]
  },
  {
   "cell_type": "code",
   "execution_count": 5,
   "id": "fb43dc23-7f6c-4926-bc19-d5ac154a22de",
   "metadata": {},
   "outputs": [],
   "source": [
    "X = df_iris.iloc[:,0:-1]\n",
    "y = df_iris[\"target\"]"
   ]
  },
  {
   "cell_type": "code",
   "execution_count": 6,
   "id": "4576e00b-5277-4da1-b794-41b1750eb1e1",
   "metadata": {},
   "outputs": [
    {
     "data": {
      "text/plain": [
       "('sepal length (cm)',\n",
       " 'sepal width (cm)',\n",
       " 'petal length (cm)',\n",
       " 'petal width (cm)')"
      ]
     },
     "execution_count": 6,
     "metadata": {},
     "output_type": "execute_result"
    }
   ],
   "source": [
    "feature_names = tuple(X.columns)\n",
    "feature_names"
   ]
  },
  {
   "cell_type": "code",
   "execution_count": 7,
   "id": "83073f04-84a3-4fa6-a711-ce9d02e52624",
   "metadata": {},
   "outputs": [],
   "source": [
    "efs = ExhaustiveFeatureSelector(\n",
    "           #knn(n_neighbors=3),\n",
    "           #rfc(n_jobs=8),\n",
    "           LGR(max_iter=100),\n",
    "           min_features=1, \n",
    "           max_features=4, \n",
    "           #scoring = 'neg_mean_squared_error',  # sklearn regressors\n",
    "           scoring='accuracy',  # sklearn classifiers,\n",
    "           n_jobs=8,\n",
    "           cv=3)"
   ]
  },
  {
   "cell_type": "code",
   "execution_count": 9,
   "id": "700c3632-4a00-453e-8d21-9954dd512cff",
   "metadata": {},
   "outputs": [
    {
     "name": "stderr",
     "output_type": "stream",
     "text": [
      "Features: 15/15"
     ]
    }
   ],
   "source": [
    "efs = efs.fit(X, y)"
   ]
  },
  {
   "cell_type": "code",
   "execution_count": 10,
   "id": "f59e68ad-fd6a-4aff-8914-fa287521222a",
   "metadata": {},
   "outputs": [
    {
     "data": {
      "text/plain": [
       "('sepal length (cm)',\n",
       " 'sepal width (cm)',\n",
       " 'petal length (cm)',\n",
       " 'petal width (cm)')"
      ]
     },
     "execution_count": 10,
     "metadata": {},
     "output_type": "execute_result"
    }
   ],
   "source": [
    "efs.best_feature_names_"
   ]
  },
  {
   "cell_type": "code",
   "execution_count": 11,
   "id": "33de70e8-910e-4092-b024-1a414db98ab0",
   "metadata": {},
   "outputs": [
    {
     "data": {
      "text/plain": [
       "0.9733333333333333"
      ]
     },
     "execution_count": 11,
     "metadata": {},
     "output_type": "execute_result"
    }
   ],
   "source": [
    "efs.best_score_"
   ]
  },
  {
   "cell_type": "code",
   "execution_count": 12,
   "id": "cf2c2938-9d3c-4c92-bed8-5cc1d5766fc2",
   "metadata": {},
   "outputs": [
    {
     "data": {
      "text/html": [
       "<div>\n",
       "<style scoped>\n",
       "    .dataframe tbody tr th:only-of-type {\n",
       "        vertical-align: middle;\n",
       "    }\n",
       "\n",
       "    .dataframe tbody tr th {\n",
       "        vertical-align: top;\n",
       "    }\n",
       "\n",
       "    .dataframe thead th {\n",
       "        text-align: right;\n",
       "    }\n",
       "</style>\n",
       "<table border=\"1\" class=\"dataframe\">\n",
       "  <thead>\n",
       "    <tr style=\"text-align: right;\">\n",
       "      <th></th>\n",
       "      <th>feature_idx</th>\n",
       "      <th>avg_score</th>\n",
       "    </tr>\n",
       "  </thead>\n",
       "  <tbody>\n",
       "    <tr>\n",
       "      <th>0</th>\n",
       "      <td>(0,)</td>\n",
       "      <td>0.726667</td>\n",
       "    </tr>\n",
       "    <tr>\n",
       "      <th>1</th>\n",
       "      <td>(1,)</td>\n",
       "      <td>0.566667</td>\n",
       "    </tr>\n",
       "    <tr>\n",
       "      <th>2</th>\n",
       "      <td>(2,)</td>\n",
       "      <td>0.953333</td>\n",
       "    </tr>\n",
       "    <tr>\n",
       "      <th>3</th>\n",
       "      <td>(3,)</td>\n",
       "      <td>0.96</td>\n",
       "    </tr>\n",
       "    <tr>\n",
       "      <th>4</th>\n",
       "      <td>(0, 1)</td>\n",
       "      <td>0.82</td>\n",
       "    </tr>\n",
       "    <tr>\n",
       "      <th>5</th>\n",
       "      <td>(0, 2)</td>\n",
       "      <td>0.946667</td>\n",
       "    </tr>\n",
       "    <tr>\n",
       "      <th>6</th>\n",
       "      <td>(0, 3)</td>\n",
       "      <td>0.94</td>\n",
       "    </tr>\n",
       "    <tr>\n",
       "      <th>7</th>\n",
       "      <td>(1, 2)</td>\n",
       "      <td>0.953333</td>\n",
       "    </tr>\n",
       "    <tr>\n",
       "      <th>8</th>\n",
       "      <td>(1, 3)</td>\n",
       "      <td>0.933333</td>\n",
       "    </tr>\n",
       "    <tr>\n",
       "      <th>9</th>\n",
       "      <td>(2, 3)</td>\n",
       "      <td>0.96</td>\n",
       "    </tr>\n",
       "    <tr>\n",
       "      <th>10</th>\n",
       "      <td>(0, 1, 2)</td>\n",
       "      <td>0.946667</td>\n",
       "    </tr>\n",
       "    <tr>\n",
       "      <th>11</th>\n",
       "      <td>(0, 1, 3)</td>\n",
       "      <td>0.94</td>\n",
       "    </tr>\n",
       "    <tr>\n",
       "      <th>12</th>\n",
       "      <td>(0, 2, 3)</td>\n",
       "      <td>0.966667</td>\n",
       "    </tr>\n",
       "    <tr>\n",
       "      <th>13</th>\n",
       "      <td>(1, 2, 3)</td>\n",
       "      <td>0.96</td>\n",
       "    </tr>\n",
       "    <tr>\n",
       "      <th>14</th>\n",
       "      <td>(0, 1, 2, 3)</td>\n",
       "      <td>0.973333</td>\n",
       "    </tr>\n",
       "  </tbody>\n",
       "</table>\n",
       "</div>"
      ],
      "text/plain": [
       "     feature_idx avg_score\n",
       "0           (0,)  0.726667\n",
       "1           (1,)  0.566667\n",
       "2           (2,)  0.953333\n",
       "3           (3,)      0.96\n",
       "4         (0, 1)      0.82\n",
       "5         (0, 2)  0.946667\n",
       "6         (0, 3)      0.94\n",
       "7         (1, 2)  0.953333\n",
       "8         (1, 3)  0.933333\n",
       "9         (2, 3)      0.96\n",
       "10     (0, 1, 2)  0.946667\n",
       "11     (0, 1, 3)      0.94\n",
       "12     (0, 2, 3)  0.966667\n",
       "13     (1, 2, 3)      0.96\n",
       "14  (0, 1, 2, 3)  0.973333"
      ]
     },
     "execution_count": 12,
     "metadata": {},
     "output_type": "execute_result"
    }
   ],
   "source": [
    "df = pd.DataFrame.from_dict(efs.get_metric_dict()).T\n",
    "df = df[[\"feature_idx\",\"avg_score\"]]\n",
    "df"
   ]
  },
  {
   "cell_type": "markdown",
   "id": "4e69756d-d31f-425f-9c33-ac7c4835772a",
   "metadata": {},
   "source": [
    "Advantages:\n",
    "\n",
    "They detect the interaction between variables\n",
    "They find the optimal feature subset for the desired machine learning algorithm"
   ]
  },
  {
   "cell_type": "markdown",
   "id": "b6964614-8766-4fde-9ed4-8130a8ded0b1",
   "metadata": {},
   "source": [
    "Disadvantages:\n",
    "\n",
    "Computationaly are very expensive and takes lots of time"
   ]
  },
  {
   "cell_type": "code",
   "execution_count": null,
   "id": "ec7eb04b-dd0a-441f-93d7-fb8ba11d4953",
   "metadata": {},
   "outputs": [],
   "source": []
  }
 ],
 "metadata": {
  "kernelspec": {
   "display_name": "Python 3 (ipykernel)",
   "language": "python",
   "name": "python3"
  },
  "language_info": {
   "codemirror_mode": {
    "name": "ipython",
    "version": 3
   },
   "file_extension": ".py",
   "mimetype": "text/x-python",
   "name": "python",
   "nbconvert_exporter": "python",
   "pygments_lexer": "ipython3",
   "version": "3.11.5"
  }
 },
 "nbformat": 4,
 "nbformat_minor": 5
}
