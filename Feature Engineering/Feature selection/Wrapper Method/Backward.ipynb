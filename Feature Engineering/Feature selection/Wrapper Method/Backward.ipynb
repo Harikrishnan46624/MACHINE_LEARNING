{
 "cells": [
  {
   "cell_type": "raw",
   "id": "98415d97-f363-4cf0-ab6f-61ea6e63ac53",
   "metadata": {},
   "source": [
    "2. Backward Selection\n",
    "\n",
    "In backward elimination, we start with all the features and removes the least significant feature at each iteration which improves the performance of the model. We repeat this until no improvement is observed on removal of features"
   ]
  },
  {
   "cell_type": "raw",
   "id": "9921e36d-2999-4c30-ab79-c3b7c1d94cb8",
   "metadata": {},
   "source": [
    "Choose a significance level (e.g. SL = 0.05 with a 95% confidence).\n",
    "Fit a full model including all the features.\n",
    "Consider the feature with the highest p-value. If the p-value > significance level then go to Step 4, otherwise terminate the process.\n",
    "Remove the feature which is under consideration.\n",
    "Fit a model without this feature. Repeat the entire process from Step 3."
   ]
  },
  {
   "cell_type": "code",
   "execution_count": 37,
   "id": "72ff1f88-2d53-4a04-ab1b-d248689ac3ed",
   "metadata": {},
   "outputs": [],
   "source": [
    "import pandas as pd\n",
    "import numpy as np\n",
    "import seaborn as sns\n",
    "import matplotlib.pyplot as plt"
   ]
  },
  {
   "cell_type": "code",
   "execution_count": 38,
   "id": "48f5d158-d497-4112-95f7-4c438500b62b",
   "metadata": {},
   "outputs": [],
   "source": [
    "df_wine = pd.read_csv(\"https://raw.githubusercontent.com/atulpatelDS/Data_Files/master/wine_quality/winequality.csv\")\n"
   ]
  },
  {
   "cell_type": "code",
   "execution_count": 39,
   "id": "e311c976-0348-43d0-99ab-7eeb30bb20a3",
   "metadata": {},
   "outputs": [],
   "source": [
    "X = df_wine.iloc[:,0:-1]\n",
    "y = df_wine[\"color\"]"
   ]
  },
  {
   "cell_type": "code",
   "execution_count": 40,
   "id": "69353557-178c-4e9b-9ea4-0a20c3e939d6",
   "metadata": {},
   "outputs": [
    {
     "data": {
      "text/plain": [
       "('fixed acidity',\n",
       " 'volatile acidity',\n",
       " 'citric acid',\n",
       " 'residual sugar',\n",
       " 'chlorides',\n",
       " 'free sulfur dioxide',\n",
       " 'total sulfur dioxide',\n",
       " 'density',\n",
       " 'pH',\n",
       " 'sulphates',\n",
       " 'alcohol',\n",
       " 'quality',\n",
       " 'good')"
      ]
     },
     "execution_count": 40,
     "metadata": {},
     "output_type": "execute_result"
    }
   ],
   "source": [
    "feature_names = tuple(X.columns)\n",
    "feature_names"
   ]
  },
  {
   "cell_type": "code",
   "execution_count": 44,
   "id": "24d52595-2491-48ff-bdf7-425c600db97d",
   "metadata": {},
   "outputs": [],
   "source": [
    "# http://rasbt.github.io/mlxtend/user_guide/feature_selection/SequentialFeatureSelector/\n",
    "# Lets use the built in function in Python\n",
    "from mlxtend.feature_selection import SequentialFeatureSelector as SFS\n",
    "from sklearn.neighbors import KNeighborsClassifier as knn\n",
    "from sklearn.linear_model import LogisticRegression as LGR\n",
    "from sklearn.ensemble import RandomForestClassifier as rfc\n",
    "from mlxtend.plotting import plot_sequential_feature_selection as plot_sfs"
   ]
  },
  {
   "cell_type": "code",
   "execution_count": 46,
   "id": "0239810f-7baf-4170-ba6e-19db406b16cb",
   "metadata": {},
   "outputs": [
    {
     "name": "stderr",
     "output_type": "stream",
     "text": [
      "[Parallel(n_jobs=1)]: Using backend SequentialBackend with 1 concurrent workers.\n",
      "[Parallel(n_jobs=1)]: Done   1 out of   1 | elapsed:    3.7s remaining:    0.0s\n",
      "[Parallel(n_jobs=1)]: Done  13 out of  13 | elapsed:   49.6s finished\n",
      "\n",
      "[2023-08-25 19:06:12] Features: 12/1 -- score: 0.9841460545330345[Parallel(n_jobs=1)]: Using backend SequentialBackend with 1 concurrent workers.\n",
      "[Parallel(n_jobs=1)]: Done   1 out of   1 | elapsed:    2.9s remaining:    0.0s\n",
      "[Parallel(n_jobs=1)]: Done  12 out of  12 | elapsed:   39.2s finished\n",
      "\n",
      "[2023-08-25 19:06:51] Features: 11/1 -- score: 0.9842999480387286[Parallel(n_jobs=1)]: Using backend SequentialBackend with 1 concurrent workers.\n",
      "[Parallel(n_jobs=1)]: Done   1 out of   1 | elapsed:    2.2s remaining:    0.0s\n",
      "[Parallel(n_jobs=1)]: Done  11 out of  11 | elapsed:   29.1s finished\n",
      "\n",
      "[2023-08-25 19:07:20] Features: 10/1 -- score: 0.9843000191211791[Parallel(n_jobs=1)]: Using backend SequentialBackend with 1 concurrent workers.\n",
      "[Parallel(n_jobs=1)]: Done   1 out of   1 | elapsed:    1.9s remaining:    0.0s\n",
      "[Parallel(n_jobs=1)]: Done  10 out of  10 | elapsed:   18.9s finished\n",
      "\n",
      "[2023-08-25 19:07:39] Features: 9/1 -- score: 0.9843000191211791[Parallel(n_jobs=1)]: Using backend SequentialBackend with 1 concurrent workers.\n",
      "[Parallel(n_jobs=1)]: Done   1 out of   1 | elapsed:    1.1s remaining:    0.0s\n",
      "[Parallel(n_jobs=1)]: Done   9 out of   9 | elapsed:   11.1s finished\n",
      "\n",
      "[2023-08-25 19:07:50] Features: 8/1 -- score: 0.9836843029335016[Parallel(n_jobs=1)]: Using backend SequentialBackend with 1 concurrent workers.\n",
      "[Parallel(n_jobs=1)]: Done   1 out of   1 | elapsed:    0.7s remaining:    0.0s\n",
      "[Parallel(n_jobs=1)]: Done   8 out of   8 | elapsed:    5.2s finished\n",
      "\n",
      "[2023-08-25 19:07:56] Features: 7/1 -- score: 0.9829147643225807[Parallel(n_jobs=1)]: Using backend SequentialBackend with 1 concurrent workers.\n",
      "[Parallel(n_jobs=1)]: Done   1 out of   1 | elapsed:    0.6s remaining:    0.0s\n",
      "[Parallel(n_jobs=1)]: Done   7 out of   7 | elapsed:    3.7s finished\n",
      "\n",
      "[2023-08-25 19:07:59] Features: 6/1 -- score: 0.9813755449358373[Parallel(n_jobs=1)]: Using backend SequentialBackend with 1 concurrent workers.\n",
      "[Parallel(n_jobs=1)]: Done   1 out of   1 | elapsed:    0.5s remaining:    0.0s\n",
      "[Parallel(n_jobs=1)]: Done   6 out of   6 | elapsed:    2.6s finished\n",
      "\n",
      "[2023-08-25 19:08:02] Features: 5/1 -- score: 0.9802981482310776[Parallel(n_jobs=1)]: Using backend SequentialBackend with 1 concurrent workers.\n",
      "[Parallel(n_jobs=1)]: Done   1 out of   1 | elapsed:    0.3s remaining:    0.0s\n",
      "[Parallel(n_jobs=1)]: Done   5 out of   5 | elapsed:    1.6s finished\n",
      "\n",
      "[2023-08-25 19:08:04] Features: 4/1 -- score: 0.9741416971788087[Parallel(n_jobs=1)]: Using backend SequentialBackend with 1 concurrent workers.\n",
      "[Parallel(n_jobs=1)]: Done   1 out of   1 | elapsed:    0.1s remaining:    0.0s\n",
      "[Parallel(n_jobs=1)]: Done   4 out of   4 | elapsed:    1.0s finished\n",
      "\n",
      "[2023-08-25 19:08:05] Features: 3/1 -- score: 0.9604432559458692[Parallel(n_jobs=1)]: Using backend SequentialBackend with 1 concurrent workers.\n",
      "[Parallel(n_jobs=1)]: Done   1 out of   1 | elapsed:    0.0s remaining:    0.0s\n",
      "[Parallel(n_jobs=1)]: Done   3 out of   3 | elapsed:    0.3s finished\n",
      "\n",
      "[2023-08-25 19:08:05] Features: 2/1 -- score: 0.952901692259903[Parallel(n_jobs=1)]: Using backend SequentialBackend with 1 concurrent workers.\n",
      "[Parallel(n_jobs=1)]: Done   1 out of   1 | elapsed:    0.0s remaining:    0.0s\n",
      "[Parallel(n_jobs=1)]: Done   2 out of   2 | elapsed:    0.1s finished\n",
      "\n",
      "[2023-08-25 19:08:05] Features: 1/1 -- score: 0.9253509162883303"
     ]
    }
   ],
   "source": [
    "sbs = SFS(#knn(n_neighbors=3),\n",
    "           #rfc(n_jobs=8),\n",
    "           LGR(max_iter=4000),\n",
    "           k_features='best', \n",
    "           forward=False, \n",
    "           floating=False, \n",
    "           verbose=2,\n",
    "           #scoring = 'neg_mean_squared_error',  # sklearn regressors\n",
    "           scoring='accuracy',  # sklearn classifiers\n",
    "           cv=3)\n",
    "sbs = sbs.fit(X, y)"
   ]
  },
  {
   "cell_type": "code",
   "execution_count": 47,
   "id": "8072b230-fc51-4a61-942d-f6ab6989ebac",
   "metadata": {},
   "outputs": [
    {
     "data": {
      "text/plain": [
       "(('fixed acidity',\n",
       "  'volatile acidity',\n",
       "  'residual sugar',\n",
       "  'chlorides',\n",
       "  'free sulfur dioxide',\n",
       "  'total sulfur dioxide',\n",
       "  'density',\n",
       "  'pH',\n",
       "  'sulphates',\n",
       "  'alcohol'),\n",
       " (0, 1, 3, 4, 5, 6, 7, 8, 9, 10))"
      ]
     },
     "execution_count": 47,
     "metadata": {},
     "output_type": "execute_result"
    }
   ],
   "source": [
    "#print(\"Selected Features :\", sbs.k_feature_names_)\n",
    "sbs.k_feature_names_, sbs.k_feature_idx_"
   ]
  },
  {
   "cell_type": "code",
   "execution_count": 48,
   "id": "9d14a422-3d54-4001-b866-e62ae05a6f62",
   "metadata": {},
   "outputs": [],
   "source": [
    "#df.style.set_properties(**{'text-align': 'left'})\n",
    "df = pd.DataFrame.from_dict(sbs.get_metric_dict()).T\n",
    "df = df[[\"feature_idx\",\"avg_score\"]]"
   ]
  },
  {
   "cell_type": "code",
   "execution_count": 49,
   "id": "8f921d36-0644-499d-92a4-d0895df2b5ae",
   "metadata": {},
   "outputs": [
    {
     "data": {
      "text/html": [
       "<div>\n",
       "<style scoped>\n",
       "    .dataframe tbody tr th:only-of-type {\n",
       "        vertical-align: middle;\n",
       "    }\n",
       "\n",
       "    .dataframe tbody tr th {\n",
       "        vertical-align: top;\n",
       "    }\n",
       "\n",
       "    .dataframe thead th {\n",
       "        text-align: right;\n",
       "    }\n",
       "</style>\n",
       "<table border=\"1\" class=\"dataframe\">\n",
       "  <thead>\n",
       "    <tr style=\"text-align: right;\">\n",
       "      <th></th>\n",
       "      <th>feature_idx</th>\n",
       "      <th>avg_score</th>\n",
       "    </tr>\n",
       "  </thead>\n",
       "  <tbody>\n",
       "    <tr>\n",
       "      <th>13</th>\n",
       "      <td>(0, 1, 2, 3, 4, 5, 6, 7, 8, 9, 10, 11, 12)</td>\n",
       "      <td>0.983222</td>\n",
       "    </tr>\n",
       "    <tr>\n",
       "      <th>12</th>\n",
       "      <td>(0, 1, 3, 4, 5, 6, 7, 8, 9, 10, 11, 12)</td>\n",
       "      <td>0.984146</td>\n",
       "    </tr>\n",
       "    <tr>\n",
       "      <th>11</th>\n",
       "      <td>(0, 1, 3, 4, 5, 6, 7, 8, 9, 10, 12)</td>\n",
       "      <td>0.9843</td>\n",
       "    </tr>\n",
       "    <tr>\n",
       "      <th>10</th>\n",
       "      <td>(0, 1, 3, 4, 5, 6, 7, 8, 9, 10)</td>\n",
       "      <td>0.9843</td>\n",
       "    </tr>\n",
       "    <tr>\n",
       "      <th>9</th>\n",
       "      <td>(0, 1, 3, 4, 5, 6, 8, 9, 10)</td>\n",
       "      <td>0.9843</td>\n",
       "    </tr>\n",
       "    <tr>\n",
       "      <th>8</th>\n",
       "      <td>(0, 1, 3, 5, 6, 8, 9, 10)</td>\n",
       "      <td>0.983684</td>\n",
       "    </tr>\n",
       "    <tr>\n",
       "      <th>7</th>\n",
       "      <td>(0, 1, 5, 6, 8, 9, 10)</td>\n",
       "      <td>0.982915</td>\n",
       "    </tr>\n",
       "    <tr>\n",
       "      <th>6</th>\n",
       "      <td>(0, 1, 6, 8, 9, 10)</td>\n",
       "      <td>0.981376</td>\n",
       "    </tr>\n",
       "    <tr>\n",
       "      <th>5</th>\n",
       "      <td>(0, 1, 6, 8, 9)</td>\n",
       "      <td>0.980298</td>\n",
       "    </tr>\n",
       "    <tr>\n",
       "      <th>4</th>\n",
       "      <td>(0, 1, 6, 8)</td>\n",
       "      <td>0.974142</td>\n",
       "    </tr>\n",
       "    <tr>\n",
       "      <th>3</th>\n",
       "      <td>(0, 1, 6)</td>\n",
       "      <td>0.960443</td>\n",
       "    </tr>\n",
       "    <tr>\n",
       "      <th>2</th>\n",
       "      <td>(1, 6)</td>\n",
       "      <td>0.952902</td>\n",
       "    </tr>\n",
       "    <tr>\n",
       "      <th>1</th>\n",
       "      <td>(6,)</td>\n",
       "      <td>0.925351</td>\n",
       "    </tr>\n",
       "  </tbody>\n",
       "</table>\n",
       "</div>"
      ],
      "text/plain": [
       "                                   feature_idx avg_score\n",
       "13  (0, 1, 2, 3, 4, 5, 6, 7, 8, 9, 10, 11, 12)  0.983222\n",
       "12     (0, 1, 3, 4, 5, 6, 7, 8, 9, 10, 11, 12)  0.984146\n",
       "11         (0, 1, 3, 4, 5, 6, 7, 8, 9, 10, 12)    0.9843\n",
       "10             (0, 1, 3, 4, 5, 6, 7, 8, 9, 10)    0.9843\n",
       "9                 (0, 1, 3, 4, 5, 6, 8, 9, 10)    0.9843\n",
       "8                    (0, 1, 3, 5, 6, 8, 9, 10)  0.983684\n",
       "7                       (0, 1, 5, 6, 8, 9, 10)  0.982915\n",
       "6                          (0, 1, 6, 8, 9, 10)  0.981376\n",
       "5                              (0, 1, 6, 8, 9)  0.980298\n",
       "4                                 (0, 1, 6, 8)  0.974142\n",
       "3                                    (0, 1, 6)  0.960443\n",
       "2                                       (1, 6)  0.952902\n",
       "1                                         (6,)  0.925351"
      ]
     },
     "execution_count": 49,
     "metadata": {},
     "output_type": "execute_result"
    }
   ],
   "source": [
    "df"
   ]
  },
  {
   "cell_type": "code",
   "execution_count": 50,
   "id": "02c458a2-43bf-46ef-acfb-98a8a72a1fca",
   "metadata": {},
   "outputs": [
    {
     "data": {
      "text/plain": [
       "{13: {'feature_idx': (0, 1, 2, 3, 4, 5, 6, 7, 8, 9, 10, 11, 12),\n",
       "  'cv_scores': array([0.97737765, 0.99261311, 0.97967667]),\n",
       "  'avg_score': 0.9832224802515181,\n",
       "  'feature_names': ('fixed acidity',\n",
       "   'volatile acidity',\n",
       "   'citric acid',\n",
       "   'residual sugar',\n",
       "   'chlorides',\n",
       "   'free sulfur dioxide',\n",
       "   'total sulfur dioxide',\n",
       "   'density',\n",
       "   'pH',\n",
       "   'sulphates',\n",
       "   'alcohol',\n",
       "   'quality',\n",
       "   'good')},\n",
       " 12: {'feature_idx': (0, 1, 3, 4, 5, 6, 7, 8, 9, 10, 11, 12),\n",
       "  'cv_scores': array([0.9787627 , 0.99261311, 0.98106236]),\n",
       "  'avg_score': 0.9841460545330345,\n",
       "  'feature_names': ('fixed acidity',\n",
       "   'volatile acidity',\n",
       "   'residual sugar',\n",
       "   'chlorides',\n",
       "   'free sulfur dioxide',\n",
       "   'total sulfur dioxide',\n",
       "   'density',\n",
       "   'pH',\n",
       "   'sulphates',\n",
       "   'alcohol',\n",
       "   'quality',\n",
       "   'good')},\n",
       " 11: {'feature_idx': (0, 1, 3, 4, 5, 6, 7, 8, 9, 10, 12),\n",
       "  'cv_scores': array([0.97968606, 0.99215143, 0.98106236]),\n",
       "  'avg_score': 0.9842999480387286,\n",
       "  'feature_names': ('fixed acidity',\n",
       "   'volatile acidity',\n",
       "   'residual sugar',\n",
       "   'chlorides',\n",
       "   'free sulfur dioxide',\n",
       "   'total sulfur dioxide',\n",
       "   'density',\n",
       "   'pH',\n",
       "   'sulphates',\n",
       "   'alcohol',\n",
       "   'good')},\n",
       " 10: {'feature_idx': (0, 1, 3, 4, 5, 6, 7, 8, 9, 10),\n",
       "  'cv_scores': array([0.97922438, 0.99215143, 0.98152425]),\n",
       "  'avg_score': 0.9843000191211791,\n",
       "  'feature_names': ('fixed acidity',\n",
       "   'volatile acidity',\n",
       "   'residual sugar',\n",
       "   'chlorides',\n",
       "   'free sulfur dioxide',\n",
       "   'total sulfur dioxide',\n",
       "   'density',\n",
       "   'pH',\n",
       "   'sulphates',\n",
       "   'alcohol')},\n",
       " 9: {'feature_idx': (0, 1, 3, 4, 5, 6, 8, 9, 10),\n",
       "  'cv_scores': array([0.97922438, 0.99215143, 0.98152425]),\n",
       "  'avg_score': 0.9843000191211791,\n",
       "  'feature_names': ('fixed acidity',\n",
       "   'volatile acidity',\n",
       "   'residual sugar',\n",
       "   'chlorides',\n",
       "   'free sulfur dioxide',\n",
       "   'total sulfur dioxide',\n",
       "   'pH',\n",
       "   'sulphates',\n",
       "   'alcohol')},\n",
       " 8: {'feature_idx': (0, 1, 3, 5, 6, 8, 9, 10),\n",
       "  'cv_scores': array([0.97830102, 0.99215143, 0.98060046]),\n",
       "  'avg_score': 0.9836843029335016,\n",
       "  'feature_names': ('fixed acidity',\n",
       "   'volatile acidity',\n",
       "   'residual sugar',\n",
       "   'free sulfur dioxide',\n",
       "   'total sulfur dioxide',\n",
       "   'pH',\n",
       "   'sulphates',\n",
       "   'alcohol')},\n",
       " 7: {'feature_idx': (0, 1, 5, 6, 8, 9, 10),\n",
       "  'cv_scores': array([0.97737765, 0.99122807, 0.98013857]),\n",
       "  'avg_score': 0.9829147643225807,\n",
       "  'feature_names': ('fixed acidity',\n",
       "   'volatile acidity',\n",
       "   'free sulfur dioxide',\n",
       "   'total sulfur dioxide',\n",
       "   'pH',\n",
       "   'sulphates',\n",
       "   'alcohol')},\n",
       " 6: {'feature_idx': (0, 1, 6, 8, 9, 10),\n",
       "  'cv_scores': array([0.97506925, 0.99076639, 0.97829099]),\n",
       "  'avg_score': 0.9813755449358373,\n",
       "  'feature_names': ('fixed acidity',\n",
       "   'volatile acidity',\n",
       "   'total sulfur dioxide',\n",
       "   'pH',\n",
       "   'sulphates',\n",
       "   'alcohol')},\n",
       " 5: {'feature_idx': (0, 1, 6, 8, 9),\n",
       "  'cv_scores': array([0.97599261, 0.98753463, 0.97736721]),\n",
       "  'avg_score': 0.9802981482310776,\n",
       "  'feature_names': ('fixed acidity',\n",
       "   'volatile acidity',\n",
       "   'total sulfur dioxide',\n",
       "   'pH',\n",
       "   'sulphates')},\n",
       " 4: {'feature_idx': (0, 1, 6, 8),\n",
       "  'cv_scores': array([0.96398892, 0.9856879 , 0.97274827]),\n",
       "  'avg_score': 0.9741416971788087,\n",
       "  'feature_names': ('fixed acidity',\n",
       "   'volatile acidity',\n",
       "   'total sulfur dioxide',\n",
       "   'pH')},\n",
       " 3: {'feature_idx': (0, 1, 6),\n",
       "  'cv_scores': array([0.9501385 , 0.97091413, 0.96027714]),\n",
       "  'avg_score': 0.9604432559458692,\n",
       "  'feature_names': ('fixed acidity',\n",
       "   'volatile acidity',\n",
       "   'total sulfur dioxide')},\n",
       " 2: {'feature_idx': (1, 6),\n",
       "  'cv_scores': array([0.94275162, 0.96075716, 0.9551963 ]),\n",
       "  'avg_score': 0.952901692259903,\n",
       "  'feature_names': ('volatile acidity', 'total sulfur dioxide')},\n",
       " 1: {'feature_idx': (6,),\n",
       "  'cv_scores': array([0.91274238, 0.93305633, 0.93025404]),\n",
       "  'avg_score': 0.9253509162883303,\n",
       "  'feature_names': ('total sulfur dioxide',)}}"
      ]
     },
     "execution_count": 50,
     "metadata": {},
     "output_type": "execute_result"
    }
   ],
   "source": [
    "sbs.subsets_"
   ]
  },
  {
   "cell_type": "code",
   "execution_count": 51,
   "id": "d39d4b46-778a-43a6-b667-41b246013942",
   "metadata": {},
   "outputs": [
    {
     "name": "stdout",
     "output_type": "stream",
     "text": [
      "Selected Features : ('fixed acidity', 'volatile acidity', 'residual sugar', 'chlorides', 'free sulfur dioxide', 'total sulfur dioxide', 'density', 'pH', 'sulphates', 'alcohol')\n",
      "Selected Features ID : (0, 1, 3, 4, 5, 6, 7, 8, 9, 10)\n"
     ]
    },
    {
     "data": {
      "image/png": "[encoded data removed]",
      "text/plain": [
       "<Figure size 640x480 with 1 Axes>"
      ]
     },
     "metadata": {},
     "output_type": "display_data"
    }
   ],
   "source": [
    "fig = plot_sfs(sbs.get_metric_dict(), kind='std_err')\n",
    "print(\"Selected Features :\", sbs.k_feature_names_)\n",
    "print(\"Selected Features ID :\", sbs.k_feature_idx_)\n",
    "plt.title('Sequential Forward Selection (w. StdErr)')\n",
    "plt.grid()\n",
    "plt.show()"
   ]
  },
  {
   "cell_type": "markdown",
   "id": "b0df671d-54f0-4bc6-bb1b-9ff328f720e6",
   "metadata": {},
   "source": [
    "Disadvantages of Forward and Backward Feature Selection\n",
    "\n",
    "Since we know that SFS adds features at each iteration, a problem can occur when we add up a feature that was useful in the beginning, but after adding more ones, is now non-useful. At this point, there’s no way to remove this kind of feature.\n",
    "\n",
    "The same thing happens to SBS but in the reverse direction—this is because of the inability of SBS to see the usefulness of a feature after being removed from the feature set.\n",
    "\n",
    "For above reasons, and for more generalization for SBS and SFS, there are two methods that can solve such an issue:\n",
    "\n",
    "Exhaustive Feature Selection\n",
    "Recursive Feature Elimination"
   ]
  },
  {
   "cell_type": "code",
   "execution_count": null,
   "id": "27cc10be-7179-48d7-87cd-4ab0e8c12cc4",
   "metadata": {},
   "outputs": [],
   "source": []
  }
 ],
 "metadata": {
  "kernelspec": {
   "display_name": "Python 3 (ipykernel)",
   "language": "python",
   "name": "python3"
  },
  "language_info": {
   "codemirror_mode": {
    "name": "ipython",
    "version": 3
   },
   "file_extension": ".py",
   "mimetype": "text/x-python",
   "name": "python",
   "nbconvert_exporter": "python",
   "pygments_lexer": "ipython3",
   "version": "3.11.5"
  }
 },
 "nbformat": 4,
 "nbformat_minor": 5
}
