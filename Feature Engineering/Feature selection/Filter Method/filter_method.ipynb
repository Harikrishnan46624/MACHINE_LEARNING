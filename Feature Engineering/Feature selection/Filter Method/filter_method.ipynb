{
 "cells": [
  {
   "cell_type": "raw",
   "id": "59aa6318-71dd-4f57-97a4-a311ddccea72",
   "metadata": {},
   "source": [
    "Filter based Feature Selection methods\n",
    "Filter methods select features from a dataset independently for any machine learning algorithm.\n",
    "These methods rely only on the characteristics of these variables, so features are filtered out of the data before learning begins.\n",
    "Univariate filter methods evaluate each feature individually.\n",
    "These methods consist of providing a score to each feature, often based on statistical tests."
   ]
  },
  {
   "cell_type": "raw",
   "id": "3f64fbad-ca9e-4acd-8eb5-88fbb1164d30",
   "metadata": {},
   "source": [
    "Filter Methods: Advantages\n",
    "\n",
    "They are computationally inexpensive, you can process thousands of features in a matter of seconds.\n",
    "Filter methods are very good for eliminating irrelevant, redundant, constant, duplicated, and correlated features.\n",
    "Filter Method Types\n",
    "\n",
    "Basic Statistical Filter Methods\n",
    "VarianceThreshod (Remove the Constant Feature and Quasi-Constant Features)\n",
    "Remove Duplicate Features\n",
    "Correlation & Ranking based statistical Filter Methods\n",
    "Pearson’s correlation coefficient\n",
    "Spearman’s rank coefficient\n",
    "Kendall’s rank coefficient\n",
    "Statistical Test based Methods\n",
    "Anova or F-Test\n",
    "Mutual Information\n",
    "Chi Square"
   ]
  },
  {
   "cell_type": "markdown",
   "id": "d28dddf1-3518-42dd-bcea-b8499877ec73",
   "metadata": {},
   "source": [
    "Variance Threshold\n",
    "Removing Numerical features with low variance\n",
    "\n",
    "We simply compute the variance of each features, and we select the subset of features based on a user-specified threshold.\n",
    "We assume that features with a higher variance may contain more useful information.\n",
    "This feature selection algorithm looks only at the features (X), not the desired outputs (y), and can thus be used for unsupervised learning.\n",
    "As we are not taking the relationship between features variables or feature and target variables into account, which is one of the drawbacks of Variance Threshold filter method.\n",
    "It is applicable only on Numerical features."
   ]
  },
  {
   "cell_type": "code",
   "execution_count": 1,
   "id": "67c82c7d-3b92-4e1d-b5b1-24bd849accf1",
   "metadata": {},
   "outputs": [],
   "source": [
    "import pandas as pd\n",
    "import numpy as np\n",
    "import seaborn as sns\n",
    "import matplotlib.pyplot as plt"
   ]
  },
  {
   "cell_type": "code",
   "execution_count": 2,
   "id": "7d249633-d20c-4d53-ba1a-9e6e2dc97f95",
   "metadata": {},
   "outputs": [],
   "source": [
    "# Lets create a dataframe\n",
    "col1 = np.ones(100)\n",
    "col2 = np.zeros(100)\n",
    "col2[:1] = 1\n",
    "col3 = np.random.randint(15,30,size = 100)\n",
    "col4 = np.ones(100)\n",
    "col4[:40] = 0\n",
    "col5 = np.zeros(100)\n",
    "col5[:20] = 1\n",
    "col6 = np.random.randint(30,40,size = 100)\n",
    "col7 = np.ones(100)\n",
    "col8 = np.zeros(100)\n",
    "col8[:4] = 1"
   ]
  },
  {
   "cell_type": "code",
   "execution_count": 3,
   "id": "6bc2b337-655f-4031-a9bb-ccb0a5747b21",
   "metadata": {},
   "outputs": [],
   "source": [
    "df = pd.DataFrame({\"A\":col1,\"B\":col2,\"C\":col3,\"D\":col4,\"E\":col5,\"F\":col6,\"G\":col7})\n"
   ]
  },
  {
   "cell_type": "code",
   "execution_count": 4,
   "id": "bca66a79-0c02-47df-b5ec-5ce55a47991c",
   "metadata": {},
   "outputs": [
    {
     "data": {
      "text/html": [
       "<div>\n",
       "<style scoped>\n",
       "    .dataframe tbody tr th:only-of-type {\n",
       "        vertical-align: middle;\n",
       "    }\n",
       "\n",
       "    .dataframe tbody tr th {\n",
       "        vertical-align: top;\n",
       "    }\n",
       "\n",
       "    .dataframe thead th {\n",
       "        text-align: right;\n",
       "    }\n",
       "</style>\n",
       "<table border=\"1\" class=\"dataframe\">\n",
       "  <thead>\n",
       "    <tr style=\"text-align: right;\">\n",
       "      <th></th>\n",
       "      <th>A</th>\n",
       "      <th>B</th>\n",
       "      <th>C</th>\n",
       "      <th>D</th>\n",
       "      <th>E</th>\n",
       "      <th>F</th>\n",
       "      <th>G</th>\n",
       "    </tr>\n",
       "  </thead>\n",
       "  <tbody>\n",
       "    <tr>\n",
       "      <th>0</th>\n",
       "      <td>1.0</td>\n",
       "      <td>1.0</td>\n",
       "      <td>28</td>\n",
       "      <td>0.0</td>\n",
       "      <td>1.0</td>\n",
       "      <td>33</td>\n",
       "      <td>1.0</td>\n",
       "    </tr>\n",
       "    <tr>\n",
       "      <th>1</th>\n",
       "      <td>1.0</td>\n",
       "      <td>0.0</td>\n",
       "      <td>15</td>\n",
       "      <td>0.0</td>\n",
       "      <td>1.0</td>\n",
       "      <td>39</td>\n",
       "      <td>1.0</td>\n",
       "    </tr>\n",
       "    <tr>\n",
       "      <th>2</th>\n",
       "      <td>1.0</td>\n",
       "      <td>0.0</td>\n",
       "      <td>27</td>\n",
       "      <td>0.0</td>\n",
       "      <td>1.0</td>\n",
       "      <td>30</td>\n",
       "      <td>1.0</td>\n",
       "    </tr>\n",
       "    <tr>\n",
       "      <th>3</th>\n",
       "      <td>1.0</td>\n",
       "      <td>0.0</td>\n",
       "      <td>25</td>\n",
       "      <td>0.0</td>\n",
       "      <td>1.0</td>\n",
       "      <td>31</td>\n",
       "      <td>1.0</td>\n",
       "    </tr>\n",
       "    <tr>\n",
       "      <th>4</th>\n",
       "      <td>1.0</td>\n",
       "      <td>0.0</td>\n",
       "      <td>28</td>\n",
       "      <td>0.0</td>\n",
       "      <td>1.0</td>\n",
       "      <td>30</td>\n",
       "      <td>1.0</td>\n",
       "    </tr>\n",
       "  </tbody>\n",
       "</table>\n",
       "</div>"
      ],
      "text/plain": [
       "     A    B   C    D    E   F    G\n",
       "0  1.0  1.0  28  0.0  1.0  33  1.0\n",
       "1  1.0  0.0  15  0.0  1.0  39  1.0\n",
       "2  1.0  0.0  27  0.0  1.0  30  1.0\n",
       "3  1.0  0.0  25  0.0  1.0  31  1.0\n",
       "4  1.0  0.0  28  0.0  1.0  30  1.0"
      ]
     },
     "execution_count": 4,
     "metadata": {},
     "output_type": "execute_result"
    }
   ],
   "source": [
    "df.head()"
   ]
  },
  {
   "cell_type": "code",
   "execution_count": 5,
   "id": "58dc045a-4142-4f00-bc18-f4dfec604a1e",
   "metadata": {},
   "outputs": [],
   "source": [
    "df_var = df.var()"
   ]
  },
  {
   "cell_type": "code",
   "execution_count": 6,
   "id": "f4c375f0-4675-46ec-a64b-9543a7122788",
   "metadata": {},
   "outputs": [
    {
     "data": {
      "text/html": [
       "<div>\n",
       "<style scoped>\n",
       "    .dataframe tbody tr th:only-of-type {\n",
       "        vertical-align: middle;\n",
       "    }\n",
       "\n",
       "    .dataframe tbody tr th {\n",
       "        vertical-align: top;\n",
       "    }\n",
       "\n",
       "    .dataframe thead th {\n",
       "        text-align: right;\n",
       "    }\n",
       "</style>\n",
       "<table border=\"1\" class=\"dataframe\">\n",
       "  <thead>\n",
       "    <tr style=\"text-align: right;\">\n",
       "      <th></th>\n",
       "      <th>0</th>\n",
       "    </tr>\n",
       "  </thead>\n",
       "  <tbody>\n",
       "    <tr>\n",
       "      <th>A</th>\n",
       "      <td>0.000000</td>\n",
       "    </tr>\n",
       "    <tr>\n",
       "      <th>B</th>\n",
       "      <td>0.010000</td>\n",
       "    </tr>\n",
       "    <tr>\n",
       "      <th>C</th>\n",
       "      <td>20.178182</td>\n",
       "    </tr>\n",
       "    <tr>\n",
       "      <th>D</th>\n",
       "      <td>0.242424</td>\n",
       "    </tr>\n",
       "    <tr>\n",
       "      <th>E</th>\n",
       "      <td>0.161616</td>\n",
       "    </tr>\n",
       "    <tr>\n",
       "      <th>F</th>\n",
       "      <td>9.087980</td>\n",
       "    </tr>\n",
       "    <tr>\n",
       "      <th>G</th>\n",
       "      <td>0.000000</td>\n",
       "    </tr>\n",
       "  </tbody>\n",
       "</table>\n",
       "</div>"
      ],
      "text/plain": [
       "           0\n",
       "A   0.000000\n",
       "B   0.010000\n",
       "C  20.178182\n",
       "D   0.242424\n",
       "E   0.161616\n",
       "F   9.087980\n",
       "G   0.000000"
      ]
     },
     "execution_count": 6,
     "metadata": {},
     "output_type": "execute_result"
    }
   ],
   "source": [
    "df_var = df.var().to_frame() #Convert Series to DataFrame\n",
    "df_var"
   ]
  },
  {
   "cell_type": "code",
   "execution_count": 7,
   "id": "1738b08f-9288-4ae0-a508-34074b782759",
   "metadata": {},
   "outputs": [
    {
     "data": {
      "text/plain": [
       "(7, 1)"
      ]
     },
     "execution_count": 7,
     "metadata": {},
     "output_type": "execute_result"
    }
   ],
   "source": [
    "df_var.shape"
   ]
  },
  {
   "cell_type": "code",
   "execution_count": 8,
   "id": "f77c6afd-fec8-44b9-8723-6b35706c69d2",
   "metadata": {},
   "outputs": [
    {
     "data": {
      "text/html": [
       "<div>\n",
       "<style scoped>\n",
       "    .dataframe tbody tr th:only-of-type {\n",
       "        vertical-align: middle;\n",
       "    }\n",
       "\n",
       "    .dataframe tbody tr th {\n",
       "        vertical-align: top;\n",
       "    }\n",
       "\n",
       "    .dataframe thead th {\n",
       "        text-align: right;\n",
       "    }\n",
       "</style>\n",
       "<table border=\"1\" class=\"dataframe\">\n",
       "  <thead>\n",
       "    <tr style=\"text-align: right;\">\n",
       "      <th></th>\n",
       "      <th>Variance</th>\n",
       "    </tr>\n",
       "  </thead>\n",
       "  <tbody>\n",
       "    <tr>\n",
       "      <th>A</th>\n",
       "      <td>0.000000</td>\n",
       "    </tr>\n",
       "    <tr>\n",
       "      <th>B</th>\n",
       "      <td>0.010000</td>\n",
       "    </tr>\n",
       "    <tr>\n",
       "      <th>C</th>\n",
       "      <td>20.178182</td>\n",
       "    </tr>\n",
       "    <tr>\n",
       "      <th>D</th>\n",
       "      <td>0.242424</td>\n",
       "    </tr>\n",
       "    <tr>\n",
       "      <th>E</th>\n",
       "      <td>0.161616</td>\n",
       "    </tr>\n",
       "    <tr>\n",
       "      <th>F</th>\n",
       "      <td>9.087980</td>\n",
       "    </tr>\n",
       "    <tr>\n",
       "      <th>G</th>\n",
       "      <td>0.000000</td>\n",
       "    </tr>\n",
       "  </tbody>\n",
       "</table>\n",
       "</div>"
      ],
      "text/plain": [
       "    Variance\n",
       "A   0.000000\n",
       "B   0.010000\n",
       "C  20.178182\n",
       "D   0.242424\n",
       "E   0.161616\n",
       "F   9.087980\n",
       "G   0.000000"
      ]
     },
     "execution_count": 8,
     "metadata": {},
     "output_type": "execute_result"
    }
   ],
   "source": [
    "df_var = df_var.rename(columns={0:\"Variance\"})\n",
    "df_var"
   ]
  },
  {
   "cell_type": "code",
   "execution_count": 9,
   "id": "f3c1e163-b7bf-4057-93a4-9269b35f68a9",
   "metadata": {},
   "outputs": [
    {
     "data": {
      "text/html": [
       "<div>\n",
       "<style scoped>\n",
       "    .dataframe tbody tr th:only-of-type {\n",
       "        vertical-align: middle;\n",
       "    }\n",
       "\n",
       "    .dataframe tbody tr th {\n",
       "        vertical-align: top;\n",
       "    }\n",
       "\n",
       "    .dataframe thead th {\n",
       "        text-align: right;\n",
       "    }\n",
       "</style>\n",
       "<table border=\"1\" class=\"dataframe\">\n",
       "  <thead>\n",
       "    <tr style=\"text-align: right;\">\n",
       "      <th></th>\n",
       "      <th>C</th>\n",
       "      <th>D</th>\n",
       "      <th>E</th>\n",
       "      <th>F</th>\n",
       "    </tr>\n",
       "  </thead>\n",
       "  <tbody>\n",
       "    <tr>\n",
       "      <th>0</th>\n",
       "      <td>28</td>\n",
       "      <td>0.0</td>\n",
       "      <td>1.0</td>\n",
       "      <td>33</td>\n",
       "    </tr>\n",
       "    <tr>\n",
       "      <th>1</th>\n",
       "      <td>15</td>\n",
       "      <td>0.0</td>\n",
       "      <td>1.0</td>\n",
       "      <td>39</td>\n",
       "    </tr>\n",
       "    <tr>\n",
       "      <th>2</th>\n",
       "      <td>27</td>\n",
       "      <td>0.0</td>\n",
       "      <td>1.0</td>\n",
       "      <td>30</td>\n",
       "    </tr>\n",
       "    <tr>\n",
       "      <th>3</th>\n",
       "      <td>25</td>\n",
       "      <td>0.0</td>\n",
       "      <td>1.0</td>\n",
       "      <td>31</td>\n",
       "    </tr>\n",
       "    <tr>\n",
       "      <th>4</th>\n",
       "      <td>28</td>\n",
       "      <td>0.0</td>\n",
       "      <td>1.0</td>\n",
       "      <td>30</td>\n",
       "    </tr>\n",
       "    <tr>\n",
       "      <th>...</th>\n",
       "      <td>...</td>\n",
       "      <td>...</td>\n",
       "      <td>...</td>\n",
       "      <td>...</td>\n",
       "    </tr>\n",
       "    <tr>\n",
       "      <th>95</th>\n",
       "      <td>27</td>\n",
       "      <td>1.0</td>\n",
       "      <td>0.0</td>\n",
       "      <td>30</td>\n",
       "    </tr>\n",
       "    <tr>\n",
       "      <th>96</th>\n",
       "      <td>21</td>\n",
       "      <td>1.0</td>\n",
       "      <td>0.0</td>\n",
       "      <td>34</td>\n",
       "    </tr>\n",
       "    <tr>\n",
       "      <th>97</th>\n",
       "      <td>28</td>\n",
       "      <td>1.0</td>\n",
       "      <td>0.0</td>\n",
       "      <td>30</td>\n",
       "    </tr>\n",
       "    <tr>\n",
       "      <th>98</th>\n",
       "      <td>27</td>\n",
       "      <td>1.0</td>\n",
       "      <td>0.0</td>\n",
       "      <td>36</td>\n",
       "    </tr>\n",
       "    <tr>\n",
       "      <th>99</th>\n",
       "      <td>27</td>\n",
       "      <td>1.0</td>\n",
       "      <td>0.0</td>\n",
       "      <td>32</td>\n",
       "    </tr>\n",
       "  </tbody>\n",
       "</table>\n",
       "<p>100 rows × 4 columns</p>\n",
       "</div>"
      ],
      "text/plain": [
       "     C    D    E   F\n",
       "0   28  0.0  1.0  33\n",
       "1   15  0.0  1.0  39\n",
       "2   27  0.0  1.0  30\n",
       "3   25  0.0  1.0  31\n",
       "4   28  0.0  1.0  30\n",
       "..  ..  ...  ...  ..\n",
       "95  27  1.0  0.0  30\n",
       "96  21  1.0  0.0  34\n",
       "97  28  1.0  0.0  30\n",
       "98  27  1.0  0.0  36\n",
       "99  27  1.0  0.0  32\n",
       "\n",
       "[100 rows x 4 columns]"
      ]
     },
     "execution_count": 9,
     "metadata": {},
     "output_type": "execute_result"
    }
   ],
   "source": [
    "# select those columns where variance is geater than 1 , variancethreshold = 1%\n",
    "df1 = df.loc[:, df.var() > 0.01]\n",
    "df1"
   ]
  },
  {
   "cell_type": "markdown",
   "id": "447f8227-931c-4932-b2be-1a64645db701",
   "metadata": {},
   "source": [
    "Feature Selection - Variance Threshold : sklearn.feature_selection.VarianceThreshold"
   ]
  },
  {
   "cell_type": "code",
   "execution_count": 10,
   "id": "c6a0dcee-e5ca-4a6f-a6af-b2c3111b969f",
   "metadata": {},
   "outputs": [],
   "source": [
    "from sklearn.feature_selection import VarianceThreshold"
   ]
  },
  {
   "cell_type": "code",
   "execution_count": 11,
   "id": "928c54a8-8867-42f5-82d0-f3456835f94d",
   "metadata": {},
   "outputs": [
    {
     "data": {
      "text/html": [
       "<style>#sk-container-id-1 {color: black;background-color: white;}#sk-container-id-1 pre{padding: 0;}#sk-container-id-1 div.sk-toggleable {background-color: white;}#sk-container-id-1 label.sk-toggleable__label {cursor: pointer;display: block;width: 100%;margin-bottom: 0;padding: 0.3em;box-sizing: border-box;text-align: center;}#sk-container-id-1 label.sk-toggleable__label-arrow:before {content: \"▸\";float: left;margin-right: 0.25em;color: #696969;}#sk-container-id-1 label.sk-toggleable__label-arrow:hover:before {color: black;}#sk-container-id-1 div.sk-estimator:hover label.sk-toggleable__label-arrow:before {color: black;}#sk-container-id-1 div.sk-toggleable__content {max-height: 0;max-width: 0;overflow: hidden;text-align: left;background-color: #f0f8ff;}#sk-container-id-1 div.sk-toggleable__content pre {margin: 0.2em;color: black;border-radius: 0.25em;background-color: #f0f8ff;}#sk-container-id-1 input.sk-toggleable__control:checked~div.sk-toggleable__content {max-height: 200px;max-width: 100%;overflow: auto;}#sk-container-id-1 input.sk-toggleable__control:checked~label.sk-toggleable__label-arrow:before {content: \"▾\";}#sk-container-id-1 div.sk-estimator input.sk-toggleable__control:checked~label.sk-toggleable__label {background-color: #d4ebff;}#sk-container-id-1 div.sk-label input.sk-toggleable__control:checked~label.sk-toggleable__label {background-color: #d4ebff;}#sk-container-id-1 input.sk-hidden--visually {border: 0;clip: rect(1px 1px 1px 1px);clip: rect(1px, 1px, 1px, 1px);height: 1px;margin: -1px;overflow: hidden;padding: 0;position: absolute;width: 1px;}#sk-container-id-1 div.sk-estimator {font-family: monospace;background-color: #f0f8ff;border: 1px dotted black;border-radius: 0.25em;box-sizing: border-box;margin-bottom: 0.5em;}#sk-container-id-1 div.sk-estimator:hover {background-color: #d4ebff;}#sk-container-id-1 div.sk-parallel-item::after {content: \"\";width: 100%;border-bottom: 1px solid gray;flex-grow: 1;}#sk-container-id-1 div.sk-label:hover label.sk-toggleable__label {background-color: #d4ebff;}#sk-container-id-1 div.sk-serial::before {content: \"\";position: absolute;border-left: 1px solid gray;box-sizing: border-box;top: 0;bottom: 0;left: 50%;z-index: 0;}#sk-container-id-1 div.sk-serial {display: flex;flex-direction: column;align-items: center;background-color: white;padding-right: 0.2em;padding-left: 0.2em;position: relative;}#sk-container-id-1 div.sk-item {position: relative;z-index: 1;}#sk-container-id-1 div.sk-parallel {display: flex;align-items: stretch;justify-content: center;background-color: white;position: relative;}#sk-container-id-1 div.sk-item::before, #sk-container-id-1 div.sk-parallel-item::before {content: \"\";position: absolute;border-left: 1px solid gray;box-sizing: border-box;top: 0;bottom: 0;left: 50%;z-index: -1;}#sk-container-id-1 div.sk-parallel-item {display: flex;flex-direction: column;z-index: 1;position: relative;background-color: white;}#sk-container-id-1 div.sk-parallel-item:first-child::after {align-self: flex-end;width: 50%;}#sk-container-id-1 div.sk-parallel-item:last-child::after {align-self: flex-start;width: 50%;}#sk-container-id-1 div.sk-parallel-item:only-child::after {width: 0;}#sk-container-id-1 div.sk-dashed-wrapped {border: 1px dashed gray;margin: 0 0.4em 0.5em 0.4em;box-sizing: border-box;padding-bottom: 0.4em;background-color: white;}#sk-container-id-1 div.sk-label label {font-family: monospace;font-weight: bold;display: inline-block;line-height: 1.2em;}#sk-container-id-1 div.sk-label-container {text-align: center;}#sk-container-id-1 div.sk-container {/* jupyter's `normalize.less` sets `[hidden] { display: none; }` but bootstrap.min.css set `[hidden] { display: none !important; }` so we also need the `!important` here to be able to override the default hidden behavior on the sphinx rendered scikit-learn.org. See: https://github.com/scikit-learn/scikit-learn/issues/21755 */display: inline-block !important;position: relative;}#sk-container-id-1 div.sk-text-repr-fallback {display: none;}</style><div id=\"sk-container-id-1\" class=\"sk-top-container\"><div class=\"sk-text-repr-fallback\"><pre>VarianceThreshold(threshold=0.01)</pre><b>In a Jupyter environment, please rerun this cell to show the HTML representation or trust the notebook. <br />On GitHub, the HTML representation is unable to render, please try loading this page with nbviewer.org.</b></div><div class=\"sk-container\" hidden><div class=\"sk-item\"><div class=\"sk-estimator sk-toggleable\"><input class=\"sk-toggleable__control sk-hidden--visually\" id=\"sk-estimator-id-1\" type=\"checkbox\" checked><label for=\"sk-estimator-id-1\" class=\"sk-toggleable__label sk-toggleable__label-arrow\">VarianceThreshold</label><div class=\"sk-toggleable__content\"><pre>VarianceThreshold(threshold=0.01)</pre></div></div></div></div></div>"
      ],
      "text/plain": [
       "VarianceThreshold(threshold=0.01)"
      ]
     },
     "execution_count": 11,
     "metadata": {},
     "output_type": "execute_result"
    }
   ],
   "source": [
    "# Lets use the sklearn\n",
    "selector = VarianceThreshold(threshold=0.01) # variance 1%\n",
    "# fit the object to the data\n",
    "selector.fit(df)"
   ]
  },
  {
   "cell_type": "code",
   "execution_count": 12,
   "id": "7a25d827-d031-44e8-a267-23114fe6d0c4",
   "metadata": {},
   "outputs": [
    {
     "data": {
      "text/plain": [
       "array([False, False,  True,  True,  True,  True, False])"
      ]
     },
     "execution_count": 12,
     "metadata": {},
     "output_type": "execute_result"
    }
   ],
   "source": [
    "# Get features which have the variance greater than the set threshold value = 0.01\n",
    "selector.get_support(indices=False)"
   ]
  },
  {
   "cell_type": "code",
   "execution_count": 13,
   "id": "a6a2c8e4-a30d-4af0-967b-32e077409224",
   "metadata": {},
   "outputs": [
    {
     "data": {
      "text/plain": [
       "Index(['A', 'B', 'C', 'D', 'E', 'F', 'G'], dtype='object')"
      ]
     },
     "execution_count": 13,
     "metadata": {},
     "output_type": "execute_result"
    }
   ],
   "source": [
    "df.columns"
   ]
  },
  {
   "cell_type": "code",
   "execution_count": 14,
   "id": "e349a9d1-c8a9-47af-a1af-a918a2227544",
   "metadata": {},
   "outputs": [
    {
     "data": {
      "text/plain": [
       "Index(['C', 'D', 'E', 'F'], dtype='object')"
      ]
     },
     "execution_count": 14,
     "metadata": {},
     "output_type": "execute_result"
    }
   ],
   "source": [
    "df.columns[selector.get_support()]"
   ]
  },
  {
   "cell_type": "code",
   "execution_count": 16,
   "id": "975e1d5e-44d0-4c5d-99b2-4340fdb0aa47",
   "metadata": {},
   "outputs": [
    {
     "data": {
      "text/plain": [
       "['A', 'B', 'G']"
      ]
     },
     "execution_count": 16,
     "metadata": {},
     "output_type": "execute_result"
    }
   ],
   "source": [
    "#Get features which have the variance less than the set threshold value using list comprehension\n",
    "selected_cols = [column for column in df.columns if column not in df.columns[selector.get_support()]]\n",
    "\n",
    "#features which have the variance less than the set threshold value\n",
    "selected_cols"
   ]
  },
  {
   "cell_type": "code",
   "execution_count": 17,
   "id": "8afb6ff3-ae1e-4474-ae1a-4bfe7edaaf47",
   "metadata": {},
   "outputs": [
    {
     "data": {
      "text/html": [
       "<div>\n",
       "<style scoped>\n",
       "    .dataframe tbody tr th:only-of-type {\n",
       "        vertical-align: middle;\n",
       "    }\n",
       "\n",
       "    .dataframe tbody tr th {\n",
       "        vertical-align: top;\n",
       "    }\n",
       "\n",
       "    .dataframe thead th {\n",
       "        text-align: right;\n",
       "    }\n",
       "</style>\n",
       "<table border=\"1\" class=\"dataframe\">\n",
       "  <thead>\n",
       "    <tr style=\"text-align: right;\">\n",
       "      <th></th>\n",
       "      <th>C</th>\n",
       "      <th>D</th>\n",
       "      <th>E</th>\n",
       "      <th>F</th>\n",
       "    </tr>\n",
       "  </thead>\n",
       "  <tbody>\n",
       "    <tr>\n",
       "      <th>0</th>\n",
       "      <td>28</td>\n",
       "      <td>0.0</td>\n",
       "      <td>1.0</td>\n",
       "      <td>33</td>\n",
       "    </tr>\n",
       "    <tr>\n",
       "      <th>1</th>\n",
       "      <td>15</td>\n",
       "      <td>0.0</td>\n",
       "      <td>1.0</td>\n",
       "      <td>39</td>\n",
       "    </tr>\n",
       "    <tr>\n",
       "      <th>2</th>\n",
       "      <td>27</td>\n",
       "      <td>0.0</td>\n",
       "      <td>1.0</td>\n",
       "      <td>30</td>\n",
       "    </tr>\n",
       "    <tr>\n",
       "      <th>3</th>\n",
       "      <td>25</td>\n",
       "      <td>0.0</td>\n",
       "      <td>1.0</td>\n",
       "      <td>31</td>\n",
       "    </tr>\n",
       "    <tr>\n",
       "      <th>4</th>\n",
       "      <td>28</td>\n",
       "      <td>0.0</td>\n",
       "      <td>1.0</td>\n",
       "      <td>30</td>\n",
       "    </tr>\n",
       "  </tbody>\n",
       "</table>\n",
       "</div>"
      ],
      "text/plain": [
       "    C    D    E   F\n",
       "0  28  0.0  1.0  33\n",
       "1  15  0.0  1.0  39\n",
       "2  27  0.0  1.0  30\n",
       "3  25  0.0  1.0  31\n",
       "4  28  0.0  1.0  30"
      ]
     },
     "execution_count": 17,
     "metadata": {},
     "output_type": "execute_result"
    }
   ],
   "source": [
    "# lets drop those columns from the dataset where variance is < 1\n",
    "df2 = df.drop(labels=selected_cols,axis=1)\n",
    "df2.head()"
   ]
  },
  {
   "cell_type": "code",
   "execution_count": 18,
   "id": "b7030a51-0cf1-4ebc-a656-1973bf59e6a6",
   "metadata": {},
   "outputs": [],
   "source": [
    "df_op = selector.transform(df)"
   ]
  },
  {
   "cell_type": "code",
   "execution_count": 19,
   "id": "48bbe97e-cbd9-4fcc-9a31-2e53fc6a705c",
   "metadata": {},
   "outputs": [
    {
     "data": {
      "text/plain": [
       "array([[28.,  0.,  1., 33.],\n",
       "       [15.,  0.,  1., 39.],\n",
       "       [27.,  0.,  1., 30.],\n",
       "       [25.,  0.,  1., 31.],\n",
       "       [28.,  0.,  1., 30.],\n",
       "       [20.,  0.,  1., 35.],\n",
       "       [22.,  0.,  1., 34.],\n",
       "       [21.,  0.,  1., 38.],\n",
       "       [18.,  0.,  1., 36.],\n",
       "       [22.,  0.,  1., 37.],\n",
       "       [28.,  0.,  1., 38.],\n",
       "       [15.,  0.,  1., 30.],\n",
       "       [29.,  0.,  1., 35.],\n",
       "       [19.,  0.,  1., 30.],\n",
       "       [19.,  0.,  1., 33.],\n",
       "       [19.,  0.,  1., 39.],\n",
       "       [22.,  0.,  1., 39.],\n",
       "       [18.,  0.,  1., 33.],\n",
       "       [24.,  0.,  1., 36.],\n",
       "       [17.,  0.,  1., 37.],\n",
       "       [25.,  0.,  0., 38.],\n",
       "       [15.,  0.,  0., 31.],\n",
       "       [26.,  0.,  0., 35.],\n",
       "       [19.,  0.,  0., 32.],\n",
       "       [24.,  0.,  0., 38.],\n",
       "       [17.,  0.,  0., 32.],\n",
       "       [29.,  0.,  0., 36.],\n",
       "       [25.,  0.,  0., 31.],\n",
       "       [21.,  0.,  0., 38.],\n",
       "       [22.,  0.,  0., 30.],\n",
       "       [20.,  0.,  0., 37.],\n",
       "       [25.,  0.,  0., 38.],\n",
       "       [18.,  0.,  0., 32.],\n",
       "       [23.,  0.,  0., 35.],\n",
       "       [16.,  0.,  0., 33.],\n",
       "       [26.,  0.,  0., 39.],\n",
       "       [26.,  0.,  0., 33.],\n",
       "       [26.,  0.,  0., 32.],\n",
       "       [17.,  0.,  0., 38.],\n",
       "       [28.,  0.,  0., 32.],\n",
       "       [29.,  1.,  0., 35.],\n",
       "       [19.,  1.,  0., 37.],\n",
       "       [15.,  1.,  0., 39.],\n",
       "       [21.,  1.,  0., 31.],\n",
       "       [25.,  1.,  0., 35.],\n",
       "       [29.,  1.,  0., 31.],\n",
       "       [16.,  1.,  0., 35.],\n",
       "       [24.,  1.,  0., 31.],\n",
       "       [20.,  1.,  0., 31.],\n",
       "       [24.,  1.,  0., 33.],\n",
       "       [27.,  1.,  0., 37.],\n",
       "       [15.,  1.,  0., 33.],\n",
       "       [15.,  1.,  0., 36.],\n",
       "       [22.,  1.,  0., 34.],\n",
       "       [18.,  1.,  0., 33.],\n",
       "       [21.,  1.,  0., 32.],\n",
       "       [20.,  1.,  0., 31.],\n",
       "       [17.,  1.,  0., 39.],\n",
       "       [21.,  1.,  0., 37.],\n",
       "       [15.,  1.,  0., 31.],\n",
       "       [24.,  1.,  0., 30.],\n",
       "       [29.,  1.,  0., 37.],\n",
       "       [26.,  1.,  0., 30.],\n",
       "       [20.,  1.,  0., 36.],\n",
       "       [15.,  1.,  0., 35.],\n",
       "       [20.,  1.,  0., 38.],\n",
       "       [22.,  1.,  0., 37.],\n",
       "       [29.,  1.,  0., 35.],\n",
       "       [25.,  1.,  0., 31.],\n",
       "       [17.,  1.,  0., 33.],\n",
       "       [24.,  1.,  0., 31.],\n",
       "       [28.,  1.,  0., 32.],\n",
       "       [17.,  1.,  0., 36.],\n",
       "       [29.,  1.,  0., 30.],\n",
       "       [20.,  1.,  0., 34.],\n",
       "       [27.,  1.,  0., 32.],\n",
       "       [18.,  1.,  0., 39.],\n",
       "       [27.,  1.,  0., 32.],\n",
       "       [25.,  1.,  0., 39.],\n",
       "       [16.,  1.,  0., 38.],\n",
       "       [20.,  1.,  0., 37.],\n",
       "       [16.,  1.,  0., 39.],\n",
       "       [22.,  1.,  0., 35.],\n",
       "       [20.,  1.,  0., 31.],\n",
       "       [23.,  1.,  0., 38.],\n",
       "       [27.,  1.,  0., 36.],\n",
       "       [24.,  1.,  0., 33.],\n",
       "       [29.,  1.,  0., 33.],\n",
       "       [18.,  1.,  0., 30.],\n",
       "       [25.,  1.,  0., 39.],\n",
       "       [28.,  1.,  0., 32.],\n",
       "       [19.,  1.,  0., 36.],\n",
       "       [15.,  1.,  0., 32.],\n",
       "       [19.,  1.,  0., 31.],\n",
       "       [16.,  1.,  0., 30.],\n",
       "       [27.,  1.,  0., 30.],\n",
       "       [21.,  1.,  0., 34.],\n",
       "       [28.,  1.,  0., 30.],\n",
       "       [27.,  1.,  0., 36.],\n",
       "       [27.,  1.,  0., 32.]])"
      ]
     },
     "execution_count": 19,
     "metadata": {},
     "output_type": "execute_result"
    }
   ],
   "source": [
    "df_op"
   ]
  },
  {
   "cell_type": "raw",
   "id": "6156de62-0e0a-48c9-8a21-6c31af866769",
   "metadata": {},
   "source": [
    "Feature Selection Method : Variance Threshold to remove the Constant Features\n",
    "Those features which contain constant values (only one value for all the outputs or target values) in the dataset.\n",
    "These features provide no information that allows ML models to predict the target.\n",
    "threshold = 0"
   ]
  },
  {
   "cell_type": "code",
   "execution_count": 20,
   "id": "3bcd95e2-1372-4153-9a81-2a102a754824",
   "metadata": {},
   "outputs": [],
   "source": [
    "# https://www.kaggle.com/c/santander-customer-satisfaction/data --Load the dataset\n",
    "df_s = pd.read_csv(\"https://raw.githubusercontent.com/atulpatelDS/Data_Files/master/Santander_CS/train.csv\")#,\n",
    "                     #encoding = \"ISO-8859-1\")"
   ]
  },
  {
   "cell_type": "code",
   "execution_count": 21,
   "id": "c6ec7401-f89b-44c8-8aa9-1a1383471086",
   "metadata": {},
   "outputs": [
    {
     "data": {
      "text/html": [
       "<div>\n",
       "<style scoped>\n",
       "    .dataframe tbody tr th:only-of-type {\n",
       "        vertical-align: middle;\n",
       "    }\n",
       "\n",
       "    .dataframe tbody tr th {\n",
       "        vertical-align: top;\n",
       "    }\n",
       "\n",
       "    .dataframe thead th {\n",
       "        text-align: right;\n",
       "    }\n",
       "</style>\n",
       "<table border=\"1\" class=\"dataframe\">\n",
       "  <thead>\n",
       "    <tr style=\"text-align: right;\">\n",
       "      <th></th>\n",
       "      <th>ID</th>\n",
       "      <th>var3</th>\n",
       "      <th>var15</th>\n",
       "      <th>imp_ent_var16_ult1</th>\n",
       "      <th>imp_op_var39_comer_ult1</th>\n",
       "      <th>imp_op_var39_comer_ult3</th>\n",
       "      <th>imp_op_var40_comer_ult1</th>\n",
       "      <th>imp_op_var40_comer_ult3</th>\n",
       "      <th>imp_op_var40_efect_ult1</th>\n",
       "      <th>imp_op_var40_efect_ult3</th>\n",
       "      <th>...</th>\n",
       "      <th>saldo_medio_var33_hace2</th>\n",
       "      <th>saldo_medio_var33_hace3</th>\n",
       "      <th>saldo_medio_var33_ult1</th>\n",
       "      <th>saldo_medio_var33_ult3</th>\n",
       "      <th>saldo_medio_var44_hace2</th>\n",
       "      <th>saldo_medio_var44_hace3</th>\n",
       "      <th>saldo_medio_var44_ult1</th>\n",
       "      <th>saldo_medio_var44_ult3</th>\n",
       "      <th>var38</th>\n",
       "      <th>TARGET</th>\n",
       "    </tr>\n",
       "  </thead>\n",
       "  <tbody>\n",
       "    <tr>\n",
       "      <th>0</th>\n",
       "      <td>1</td>\n",
       "      <td>2</td>\n",
       "      <td>23</td>\n",
       "      <td>0.0</td>\n",
       "      <td>0.0</td>\n",
       "      <td>0.0</td>\n",
       "      <td>0.0</td>\n",
       "      <td>0.0</td>\n",
       "      <td>0.0</td>\n",
       "      <td>0.0</td>\n",
       "      <td>...</td>\n",
       "      <td>0.0</td>\n",
       "      <td>0.0</td>\n",
       "      <td>0.0</td>\n",
       "      <td>0.0</td>\n",
       "      <td>0.0</td>\n",
       "      <td>0.0</td>\n",
       "      <td>0.0</td>\n",
       "      <td>0.0</td>\n",
       "      <td>39205.170000</td>\n",
       "      <td>0</td>\n",
       "    </tr>\n",
       "    <tr>\n",
       "      <th>1</th>\n",
       "      <td>3</td>\n",
       "      <td>2</td>\n",
       "      <td>34</td>\n",
       "      <td>0.0</td>\n",
       "      <td>0.0</td>\n",
       "      <td>0.0</td>\n",
       "      <td>0.0</td>\n",
       "      <td>0.0</td>\n",
       "      <td>0.0</td>\n",
       "      <td>0.0</td>\n",
       "      <td>...</td>\n",
       "      <td>0.0</td>\n",
       "      <td>0.0</td>\n",
       "      <td>0.0</td>\n",
       "      <td>0.0</td>\n",
       "      <td>0.0</td>\n",
       "      <td>0.0</td>\n",
       "      <td>0.0</td>\n",
       "      <td>0.0</td>\n",
       "      <td>49278.030000</td>\n",
       "      <td>0</td>\n",
       "    </tr>\n",
       "    <tr>\n",
       "      <th>2</th>\n",
       "      <td>4</td>\n",
       "      <td>2</td>\n",
       "      <td>23</td>\n",
       "      <td>0.0</td>\n",
       "      <td>0.0</td>\n",
       "      <td>0.0</td>\n",
       "      <td>0.0</td>\n",
       "      <td>0.0</td>\n",
       "      <td>0.0</td>\n",
       "      <td>0.0</td>\n",
       "      <td>...</td>\n",
       "      <td>0.0</td>\n",
       "      <td>0.0</td>\n",
       "      <td>0.0</td>\n",
       "      <td>0.0</td>\n",
       "      <td>0.0</td>\n",
       "      <td>0.0</td>\n",
       "      <td>0.0</td>\n",
       "      <td>0.0</td>\n",
       "      <td>67333.770000</td>\n",
       "      <td>0</td>\n",
       "    </tr>\n",
       "    <tr>\n",
       "      <th>3</th>\n",
       "      <td>8</td>\n",
       "      <td>2</td>\n",
       "      <td>37</td>\n",
       "      <td>0.0</td>\n",
       "      <td>195.0</td>\n",
       "      <td>195.0</td>\n",
       "      <td>0.0</td>\n",
       "      <td>0.0</td>\n",
       "      <td>0.0</td>\n",
       "      <td>0.0</td>\n",
       "      <td>...</td>\n",
       "      <td>0.0</td>\n",
       "      <td>0.0</td>\n",
       "      <td>0.0</td>\n",
       "      <td>0.0</td>\n",
       "      <td>0.0</td>\n",
       "      <td>0.0</td>\n",
       "      <td>0.0</td>\n",
       "      <td>0.0</td>\n",
       "      <td>64007.970000</td>\n",
       "      <td>0</td>\n",
       "    </tr>\n",
       "    <tr>\n",
       "      <th>4</th>\n",
       "      <td>10</td>\n",
       "      <td>2</td>\n",
       "      <td>39</td>\n",
       "      <td>0.0</td>\n",
       "      <td>0.0</td>\n",
       "      <td>0.0</td>\n",
       "      <td>0.0</td>\n",
       "      <td>0.0</td>\n",
       "      <td>0.0</td>\n",
       "      <td>0.0</td>\n",
       "      <td>...</td>\n",
       "      <td>0.0</td>\n",
       "      <td>0.0</td>\n",
       "      <td>0.0</td>\n",
       "      <td>0.0</td>\n",
       "      <td>0.0</td>\n",
       "      <td>0.0</td>\n",
       "      <td>0.0</td>\n",
       "      <td>0.0</td>\n",
       "      <td>117310.979016</td>\n",
       "      <td>0</td>\n",
       "    </tr>\n",
       "  </tbody>\n",
       "</table>\n",
       "<p>5 rows × 371 columns</p>\n",
       "</div>"
      ],
      "text/plain": [
       "   ID  var3  var15  imp_ent_var16_ult1  imp_op_var39_comer_ult1  \\\n",
       "0   1     2     23                 0.0                      0.0   \n",
       "1   3     2     34                 0.0                      0.0   \n",
       "2   4     2     23                 0.0                      0.0   \n",
       "3   8     2     37                 0.0                    195.0   \n",
       "4  10     2     39                 0.0                      0.0   \n",
       "\n",
       "   imp_op_var39_comer_ult3  imp_op_var40_comer_ult1  imp_op_var40_comer_ult3  \\\n",
       "0                      0.0                      0.0                      0.0   \n",
       "1                      0.0                      0.0                      0.0   \n",
       "2                      0.0                      0.0                      0.0   \n",
       "3                    195.0                      0.0                      0.0   \n",
       "4                      0.0                      0.0                      0.0   \n",
       "\n",
       "   imp_op_var40_efect_ult1  imp_op_var40_efect_ult3  ...  \\\n",
       "0                      0.0                      0.0  ...   \n",
       "1                      0.0                      0.0  ...   \n",
       "2                      0.0                      0.0  ...   \n",
       "3                      0.0                      0.0  ...   \n",
       "4                      0.0                      0.0  ...   \n",
       "\n",
       "   saldo_medio_var33_hace2  saldo_medio_var33_hace3  saldo_medio_var33_ult1  \\\n",
       "0                      0.0                      0.0                     0.0   \n",
       "1                      0.0                      0.0                     0.0   \n",
       "2                      0.0                      0.0                     0.0   \n",
       "3                      0.0                      0.0                     0.0   \n",
       "4                      0.0                      0.0                     0.0   \n",
       "\n",
       "   saldo_medio_var33_ult3  saldo_medio_var44_hace2  saldo_medio_var44_hace3  \\\n",
       "0                     0.0                      0.0                      0.0   \n",
       "1                     0.0                      0.0                      0.0   \n",
       "2                     0.0                      0.0                      0.0   \n",
       "3                     0.0                      0.0                      0.0   \n",
       "4                     0.0                      0.0                      0.0   \n",
       "\n",
       "   saldo_medio_var44_ult1  saldo_medio_var44_ult3          var38  TARGET  \n",
       "0                     0.0                     0.0   39205.170000       0  \n",
       "1                     0.0                     0.0   49278.030000       0  \n",
       "2                     0.0                     0.0   67333.770000       0  \n",
       "3                     0.0                     0.0   64007.970000       0  \n",
       "4                     0.0                     0.0  117310.979016       0  \n",
       "\n",
       "[5 rows x 371 columns]"
      ]
     },
     "execution_count": 21,
     "metadata": {},
     "output_type": "execute_result"
    }
   ],
   "source": [
    "df_s.head()"
   ]
  },
  {
   "cell_type": "code",
   "execution_count": 22,
   "id": "dd275a59-715f-401e-9721-f86b24f86d92",
   "metadata": {},
   "outputs": [],
   "source": [
    "X_s = df_s.iloc[:,0:-1]\n",
    "y_s = df_s[\"TARGET\"]"
   ]
  },
  {
   "cell_type": "code",
   "execution_count": 23,
   "id": "2350b481-a1b4-4749-a642-dc312d474715",
   "metadata": {},
   "outputs": [
    {
     "data": {
      "text/plain": [
       "((53214, 370), (22806, 370))"
      ]
     },
     "execution_count": 23,
     "metadata": {},
     "output_type": "execute_result"
    }
   ],
   "source": [
    "from sklearn.model_selection import train_test_split\n",
    "X_train,X_test,y_train,y_test = train_test_split(X_s,y_s,test_size = 0.3,random_state = 42)\n",
    "\n",
    "#X_train,X_test,y_train,y_test = train_test_split(X_m,y_m,test_size = 0.3,random_state = 42)\n",
    "X_train.shape,X_test.shape"
   ]
  },
  {
   "cell_type": "code",
   "execution_count": 24,
   "id": "bea6efaa-c630-4344-ac84-832a18abfbd5",
   "metadata": {},
   "outputs": [
    {
     "data": {
      "text/html": [
       "<style>#sk-container-id-2 {color: black;background-color: white;}#sk-container-id-2 pre{padding: 0;}#sk-container-id-2 div.sk-toggleable {background-color: white;}#sk-container-id-2 label.sk-toggleable__label {cursor: pointer;display: block;width: 100%;margin-bottom: 0;padding: 0.3em;box-sizing: border-box;text-align: center;}#sk-container-id-2 label.sk-toggleable__label-arrow:before {content: \"▸\";float: left;margin-right: 0.25em;color: #696969;}#sk-container-id-2 label.sk-toggleable__label-arrow:hover:before {color: black;}#sk-container-id-2 div.sk-estimator:hover label.sk-toggleable__label-arrow:before {color: black;}#sk-container-id-2 div.sk-toggleable__content {max-height: 0;max-width: 0;overflow: hidden;text-align: left;background-color: #f0f8ff;}#sk-container-id-2 div.sk-toggleable__content pre {margin: 0.2em;color: black;border-radius: 0.25em;background-color: #f0f8ff;}#sk-container-id-2 input.sk-toggleable__control:checked~div.sk-toggleable__content {max-height: 200px;max-width: 100%;overflow: auto;}#sk-container-id-2 input.sk-toggleable__control:checked~label.sk-toggleable__label-arrow:before {content: \"▾\";}#sk-container-id-2 div.sk-estimator input.sk-toggleable__control:checked~label.sk-toggleable__label {background-color: #d4ebff;}#sk-container-id-2 div.sk-label input.sk-toggleable__control:checked~label.sk-toggleable__label {background-color: #d4ebff;}#sk-container-id-2 input.sk-hidden--visually {border: 0;clip: rect(1px 1px 1px 1px);clip: rect(1px, 1px, 1px, 1px);height: 1px;margin: -1px;overflow: hidden;padding: 0;position: absolute;width: 1px;}#sk-container-id-2 div.sk-estimator {font-family: monospace;background-color: #f0f8ff;border: 1px dotted black;border-radius: 0.25em;box-sizing: border-box;margin-bottom: 0.5em;}#sk-container-id-2 div.sk-estimator:hover {background-color: #d4ebff;}#sk-container-id-2 div.sk-parallel-item::after {content: \"\";width: 100%;border-bottom: 1px solid gray;flex-grow: 1;}#sk-container-id-2 div.sk-label:hover label.sk-toggleable__label {background-color: #d4ebff;}#sk-container-id-2 div.sk-serial::before {content: \"\";position: absolute;border-left: 1px solid gray;box-sizing: border-box;top: 0;bottom: 0;left: 50%;z-index: 0;}#sk-container-id-2 div.sk-serial {display: flex;flex-direction: column;align-items: center;background-color: white;padding-right: 0.2em;padding-left: 0.2em;position: relative;}#sk-container-id-2 div.sk-item {position: relative;z-index: 1;}#sk-container-id-2 div.sk-parallel {display: flex;align-items: stretch;justify-content: center;background-color: white;position: relative;}#sk-container-id-2 div.sk-item::before, #sk-container-id-2 div.sk-parallel-item::before {content: \"\";position: absolute;border-left: 1px solid gray;box-sizing: border-box;top: 0;bottom: 0;left: 50%;z-index: -1;}#sk-container-id-2 div.sk-parallel-item {display: flex;flex-direction: column;z-index: 1;position: relative;background-color: white;}#sk-container-id-2 div.sk-parallel-item:first-child::after {align-self: flex-end;width: 50%;}#sk-container-id-2 div.sk-parallel-item:last-child::after {align-self: flex-start;width: 50%;}#sk-container-id-2 div.sk-parallel-item:only-child::after {width: 0;}#sk-container-id-2 div.sk-dashed-wrapped {border: 1px dashed gray;margin: 0 0.4em 0.5em 0.4em;box-sizing: border-box;padding-bottom: 0.4em;background-color: white;}#sk-container-id-2 div.sk-label label {font-family: monospace;font-weight: bold;display: inline-block;line-height: 1.2em;}#sk-container-id-2 div.sk-label-container {text-align: center;}#sk-container-id-2 div.sk-container {/* jupyter's `normalize.less` sets `[hidden] { display: none; }` but bootstrap.min.css set `[hidden] { display: none !important; }` so we also need the `!important` here to be able to override the default hidden behavior on the sphinx rendered scikit-learn.org. See: https://github.com/scikit-learn/scikit-learn/issues/21755 */display: inline-block !important;position: relative;}#sk-container-id-2 div.sk-text-repr-fallback {display: none;}</style><div id=\"sk-container-id-2\" class=\"sk-top-container\"><div class=\"sk-text-repr-fallback\"><pre>VarianceThreshold(threshold=0)</pre><b>In a Jupyter environment, please rerun this cell to show the HTML representation or trust the notebook. <br />On GitHub, the HTML representation is unable to render, please try loading this page with nbviewer.org.</b></div><div class=\"sk-container\" hidden><div class=\"sk-item\"><div class=\"sk-estimator sk-toggleable\"><input class=\"sk-toggleable__control sk-hidden--visually\" id=\"sk-estimator-id-2\" type=\"checkbox\" checked><label for=\"sk-estimator-id-2\" class=\"sk-toggleable__label sk-toggleable__label-arrow\">VarianceThreshold</label><div class=\"sk-toggleable__content\"><pre>VarianceThreshold(threshold=0)</pre></div></div></div></div></div>"
      ],
      "text/plain": [
       "VarianceThreshold(threshold=0)"
      ]
     },
     "execution_count": 24,
     "metadata": {},
     "output_type": "execute_result"
    }
   ],
   "source": [
    "# Lets apply variancethreshold\n",
    "constant_selector= VarianceThreshold(threshold=0)\n",
    "constant_selector.fit(X_train)"
   ]
  },
  {
   "cell_type": "code",
   "execution_count": 25,
   "id": "f0f7beaf-170d-49cb-bb2c-ad536f2ab614",
   "metadata": {},
   "outputs": [
    {
     "data": {
      "text/plain": [
       "324"
      ]
     },
     "execution_count": 25,
     "metadata": {},
     "output_type": "execute_result"
    }
   ],
   "source": [
    "# Get features which have the variance greater than the set threshold value = 0.0\n",
    "sum(constant_selector.get_support())"
   ]
  },
  {
   "cell_type": "code",
   "execution_count": 26,
   "id": "f5e80140-b690-41b9-a6f2-b4fbacd17a53",
   "metadata": {},
   "outputs": [],
   "source": [
    "# Above we can get how many features are not constant\n",
    "# find the number of constant features with the help of the following script:\n",
    "constant_selected_cols = [column for column in X_train.columns if column not in X_train.columns[constant_selector.get_support()]]"
   ]
  },
  {
   "cell_type": "code",
   "execution_count": 27,
   "id": "40f076ec-a0ba-4db3-9aaf-8286d3cef05b",
   "metadata": {},
   "outputs": [
    {
     "data": {
      "text/plain": [
       "46"
      ]
     },
     "execution_count": 27,
     "metadata": {},
     "output_type": "execute_result"
    }
   ],
   "source": [
    "# Constant Columns\n",
    "len(constant_selected_cols)"
   ]
  },
  {
   "cell_type": "code",
   "execution_count": 28,
   "id": "21c7b7ab-736d-4408-a1f4-4f172b5a28c0",
   "metadata": {},
   "outputs": [
    {
     "data": {
      "text/html": [
       "<div>\n",
       "<style scoped>\n",
       "    .dataframe tbody tr th:only-of-type {\n",
       "        vertical-align: middle;\n",
       "    }\n",
       "\n",
       "    .dataframe tbody tr th {\n",
       "        vertical-align: top;\n",
       "    }\n",
       "\n",
       "    .dataframe thead th {\n",
       "        text-align: right;\n",
       "    }\n",
       "</style>\n",
       "<table border=\"1\" class=\"dataframe\">\n",
       "  <thead>\n",
       "    <tr style=\"text-align: right;\">\n",
       "      <th></th>\n",
       "      <th>ID</th>\n",
       "      <th>var3</th>\n",
       "      <th>var15</th>\n",
       "      <th>imp_ent_var16_ult1</th>\n",
       "      <th>imp_op_var39_comer_ult1</th>\n",
       "      <th>imp_op_var39_comer_ult3</th>\n",
       "      <th>imp_op_var40_comer_ult1</th>\n",
       "      <th>imp_op_var40_comer_ult3</th>\n",
       "      <th>imp_op_var40_efect_ult1</th>\n",
       "      <th>imp_op_var40_efect_ult3</th>\n",
       "      <th>...</th>\n",
       "      <th>saldo_medio_var29_ult3</th>\n",
       "      <th>saldo_medio_var33_hace2</th>\n",
       "      <th>saldo_medio_var33_hace3</th>\n",
       "      <th>saldo_medio_var33_ult1</th>\n",
       "      <th>saldo_medio_var33_ult3</th>\n",
       "      <th>saldo_medio_var44_hace2</th>\n",
       "      <th>saldo_medio_var44_hace3</th>\n",
       "      <th>saldo_medio_var44_ult1</th>\n",
       "      <th>saldo_medio_var44_ult3</th>\n",
       "      <th>var38</th>\n",
       "    </tr>\n",
       "  </thead>\n",
       "  <tbody>\n",
       "    <tr>\n",
       "      <th>199</th>\n",
       "      <td>394</td>\n",
       "      <td>2</td>\n",
       "      <td>71</td>\n",
       "      <td>0.0</td>\n",
       "      <td>0.0</td>\n",
       "      <td>0.0</td>\n",
       "      <td>0.0</td>\n",
       "      <td>0.0</td>\n",
       "      <td>0.0</td>\n",
       "      <td>0.0</td>\n",
       "      <td>...</td>\n",
       "      <td>0.0</td>\n",
       "      <td>0.0</td>\n",
       "      <td>0.0</td>\n",
       "      <td>0.0</td>\n",
       "      <td>0.0</td>\n",
       "      <td>0.0</td>\n",
       "      <td>0.0</td>\n",
       "      <td>0.0</td>\n",
       "      <td>0.0</td>\n",
       "      <td>165191.58</td>\n",
       "    </tr>\n",
       "    <tr>\n",
       "      <th>62460</th>\n",
       "      <td>124716</td>\n",
       "      <td>2</td>\n",
       "      <td>23</td>\n",
       "      <td>0.0</td>\n",
       "      <td>0.0</td>\n",
       "      <td>0.0</td>\n",
       "      <td>0.0</td>\n",
       "      <td>0.0</td>\n",
       "      <td>0.0</td>\n",
       "      <td>0.0</td>\n",
       "      <td>...</td>\n",
       "      <td>0.0</td>\n",
       "      <td>0.0</td>\n",
       "      <td>0.0</td>\n",
       "      <td>0.0</td>\n",
       "      <td>0.0</td>\n",
       "      <td>0.0</td>\n",
       "      <td>0.0</td>\n",
       "      <td>0.0</td>\n",
       "      <td>0.0</td>\n",
       "      <td>110940.57</td>\n",
       "    </tr>\n",
       "    <tr>\n",
       "      <th>32495</th>\n",
       "      <td>64953</td>\n",
       "      <td>2</td>\n",
       "      <td>38</td>\n",
       "      <td>0.0</td>\n",
       "      <td>0.0</td>\n",
       "      <td>0.0</td>\n",
       "      <td>0.0</td>\n",
       "      <td>0.0</td>\n",
       "      <td>0.0</td>\n",
       "      <td>0.0</td>\n",
       "      <td>...</td>\n",
       "      <td>0.0</td>\n",
       "      <td>0.0</td>\n",
       "      <td>0.0</td>\n",
       "      <td>0.0</td>\n",
       "      <td>0.0</td>\n",
       "      <td>0.0</td>\n",
       "      <td>0.0</td>\n",
       "      <td>0.0</td>\n",
       "      <td>0.0</td>\n",
       "      <td>89347.14</td>\n",
       "    </tr>\n",
       "    <tr>\n",
       "      <th>46788</th>\n",
       "      <td>93556</td>\n",
       "      <td>2</td>\n",
       "      <td>24</td>\n",
       "      <td>0.0</td>\n",
       "      <td>0.0</td>\n",
       "      <td>0.0</td>\n",
       "      <td>0.0</td>\n",
       "      <td>0.0</td>\n",
       "      <td>0.0</td>\n",
       "      <td>0.0</td>\n",
       "      <td>...</td>\n",
       "      <td>0.0</td>\n",
       "      <td>0.0</td>\n",
       "      <td>0.0</td>\n",
       "      <td>0.0</td>\n",
       "      <td>0.0</td>\n",
       "      <td>0.0</td>\n",
       "      <td>0.0</td>\n",
       "      <td>0.0</td>\n",
       "      <td>0.0</td>\n",
       "      <td>92325.69</td>\n",
       "    </tr>\n",
       "    <tr>\n",
       "      <th>61106</th>\n",
       "      <td>121970</td>\n",
       "      <td>2</td>\n",
       "      <td>53</td>\n",
       "      <td>0.0</td>\n",
       "      <td>0.0</td>\n",
       "      <td>0.0</td>\n",
       "      <td>0.0</td>\n",
       "      <td>0.0</td>\n",
       "      <td>0.0</td>\n",
       "      <td>0.0</td>\n",
       "      <td>...</td>\n",
       "      <td>0.0</td>\n",
       "      <td>0.0</td>\n",
       "      <td>0.0</td>\n",
       "      <td>0.0</td>\n",
       "      <td>0.0</td>\n",
       "      <td>0.0</td>\n",
       "      <td>0.0</td>\n",
       "      <td>0.0</td>\n",
       "      <td>0.0</td>\n",
       "      <td>112730.85</td>\n",
       "    </tr>\n",
       "  </tbody>\n",
       "</table>\n",
       "<p>5 rows × 324 columns</p>\n",
       "</div>"
      ],
      "text/plain": [
       "           ID  var3  var15  imp_ent_var16_ult1  imp_op_var39_comer_ult1  \\\n",
       "199       394     2     71                 0.0                      0.0   \n",
       "62460  124716     2     23                 0.0                      0.0   \n",
       "32495   64953     2     38                 0.0                      0.0   \n",
       "46788   93556     2     24                 0.0                      0.0   \n",
       "61106  121970     2     53                 0.0                      0.0   \n",
       "\n",
       "       imp_op_var39_comer_ult3  imp_op_var40_comer_ult1  \\\n",
       "199                        0.0                      0.0   \n",
       "62460                      0.0                      0.0   \n",
       "32495                      0.0                      0.0   \n",
       "46788                      0.0                      0.0   \n",
       "61106                      0.0                      0.0   \n",
       "\n",
       "       imp_op_var40_comer_ult3  imp_op_var40_efect_ult1  \\\n",
       "199                        0.0                      0.0   \n",
       "62460                      0.0                      0.0   \n",
       "32495                      0.0                      0.0   \n",
       "46788                      0.0                      0.0   \n",
       "61106                      0.0                      0.0   \n",
       "\n",
       "       imp_op_var40_efect_ult3  ...  saldo_medio_var29_ult3  \\\n",
       "199                        0.0  ...                     0.0   \n",
       "62460                      0.0  ...                     0.0   \n",
       "32495                      0.0  ...                     0.0   \n",
       "46788                      0.0  ...                     0.0   \n",
       "61106                      0.0  ...                     0.0   \n",
       "\n",
       "       saldo_medio_var33_hace2  saldo_medio_var33_hace3  \\\n",
       "199                        0.0                      0.0   \n",
       "62460                      0.0                      0.0   \n",
       "32495                      0.0                      0.0   \n",
       "46788                      0.0                      0.0   \n",
       "61106                      0.0                      0.0   \n",
       "\n",
       "       saldo_medio_var33_ult1  saldo_medio_var33_ult3  \\\n",
       "199                       0.0                     0.0   \n",
       "62460                     0.0                     0.0   \n",
       "32495                     0.0                     0.0   \n",
       "46788                     0.0                     0.0   \n",
       "61106                     0.0                     0.0   \n",
       "\n",
       "       saldo_medio_var44_hace2  saldo_medio_var44_hace3  \\\n",
       "199                        0.0                      0.0   \n",
       "62460                      0.0                      0.0   \n",
       "32495                      0.0                      0.0   \n",
       "46788                      0.0                      0.0   \n",
       "61106                      0.0                      0.0   \n",
       "\n",
       "       saldo_medio_var44_ult1  saldo_medio_var44_ult3      var38  \n",
       "199                       0.0                     0.0  165191.58  \n",
       "62460                     0.0                     0.0  110940.57  \n",
       "32495                     0.0                     0.0   89347.14  \n",
       "46788                     0.0                     0.0   92325.69  \n",
       "61106                     0.0                     0.0  112730.85  \n",
       "\n",
       "[5 rows x 324 columns]"
      ]
     },
     "execution_count": 28,
     "metadata": {},
     "output_type": "execute_result"
    }
   ],
   "source": [
    "# lets drop those columns from the dataset where variance is = 0\n",
    "X_train_op = X_train.drop(labels=constant_selected_cols,axis=1)\n",
    "X_train_op.head()"
   ]
  },
  {
   "cell_type": "code",
   "execution_count": 29,
   "id": "70da6521-c648-4f45-ac09-53ccdf5e6c83",
   "metadata": {},
   "outputs": [],
   "source": [
    "# Other method ---lets drop those columns from the dataset where variance is = 0\n",
    "X_train_ac = constant_selector.transform(X_train)\n",
    "X_test_ac = constant_selector.transform(X_test)"
   ]
  },
  {
   "cell_type": "code",
   "execution_count": 30,
   "id": "ebbd6596-48b2-4762-8f4a-324625e1ee04",
   "metadata": {},
   "outputs": [
    {
     "data": {
      "text/plain": [
       "((53214, 324), (22806, 324))"
      ]
     },
     "execution_count": 30,
     "metadata": {},
     "output_type": "execute_result"
    }
   ],
   "source": [
    "X_train_ac.shape, X_test_ac.shape"
   ]
  },
  {
   "cell_type": "raw",
   "id": "460f5178-5542-4d6d-a9e1-627926cada2f",
   "metadata": {},
   "source": [
    "Feature Selection Method : Variance Threshold to remove the Quasi-Constant Features\n",
    "Features that are almost constant. In other words, these features have the same values for a very large subset of the outputs.\n",
    "Such features are not very useful for making predictions. There is no rule as to what should be the threshold for the variance of quasi-constant features. However, as a rule of thumb, remove those quasi-constant features that have more than 99% similar values for the output observations.\n",
    "We will create a quasi-constant filter with the help of VarianceThreshold function. However, instead of passing 0 as the value for the threshold parameter, we will pass 0.01, which means that if the variance of the values in a column is less than 0.01, remove that column. In other words, remove feature column where approximately 99% of the values are similar.\n",
    "threshold = 0.01"
   ]
  },
  {
   "cell_type": "code",
   "execution_count": 31,
   "id": "74613243-601d-4c2a-80ca-f78a4d64659d",
   "metadata": {},
   "outputs": [
    {
     "data": {
      "text/html": [
       "<style>#sk-container-id-3 {color: black;background-color: white;}#sk-container-id-3 pre{padding: 0;}#sk-container-id-3 div.sk-toggleable {background-color: white;}#sk-container-id-3 label.sk-toggleable__label {cursor: pointer;display: block;width: 100%;margin-bottom: 0;padding: 0.3em;box-sizing: border-box;text-align: center;}#sk-container-id-3 label.sk-toggleable__label-arrow:before {content: \"▸\";float: left;margin-right: 0.25em;color: #696969;}#sk-container-id-3 label.sk-toggleable__label-arrow:hover:before {color: black;}#sk-container-id-3 div.sk-estimator:hover label.sk-toggleable__label-arrow:before {color: black;}#sk-container-id-3 div.sk-toggleable__content {max-height: 0;max-width: 0;overflow: hidden;text-align: left;background-color: #f0f8ff;}#sk-container-id-3 div.sk-toggleable__content pre {margin: 0.2em;color: black;border-radius: 0.25em;background-color: #f0f8ff;}#sk-container-id-3 input.sk-toggleable__control:checked~div.sk-toggleable__content {max-height: 200px;max-width: 100%;overflow: auto;}#sk-container-id-3 input.sk-toggleable__control:checked~label.sk-toggleable__label-arrow:before {content: \"▾\";}#sk-container-id-3 div.sk-estimator input.sk-toggleable__control:checked~label.sk-toggleable__label {background-color: #d4ebff;}#sk-container-id-3 div.sk-label input.sk-toggleable__control:checked~label.sk-toggleable__label {background-color: #d4ebff;}#sk-container-id-3 input.sk-hidden--visually {border: 0;clip: rect(1px 1px 1px 1px);clip: rect(1px, 1px, 1px, 1px);height: 1px;margin: -1px;overflow: hidden;padding: 0;position: absolute;width: 1px;}#sk-container-id-3 div.sk-estimator {font-family: monospace;background-color: #f0f8ff;border: 1px dotted black;border-radius: 0.25em;box-sizing: border-box;margin-bottom: 0.5em;}#sk-container-id-3 div.sk-estimator:hover {background-color: #d4ebff;}#sk-container-id-3 div.sk-parallel-item::after {content: \"\";width: 100%;border-bottom: 1px solid gray;flex-grow: 1;}#sk-container-id-3 div.sk-label:hover label.sk-toggleable__label {background-color: #d4ebff;}#sk-container-id-3 div.sk-serial::before {content: \"\";position: absolute;border-left: 1px solid gray;box-sizing: border-box;top: 0;bottom: 0;left: 50%;z-index: 0;}#sk-container-id-3 div.sk-serial {display: flex;flex-direction: column;align-items: center;background-color: white;padding-right: 0.2em;padding-left: 0.2em;position: relative;}#sk-container-id-3 div.sk-item {position: relative;z-index: 1;}#sk-container-id-3 div.sk-parallel {display: flex;align-items: stretch;justify-content: center;background-color: white;position: relative;}#sk-container-id-3 div.sk-item::before, #sk-container-id-3 div.sk-parallel-item::before {content: \"\";position: absolute;border-left: 1px solid gray;box-sizing: border-box;top: 0;bottom: 0;left: 50%;z-index: -1;}#sk-container-id-3 div.sk-parallel-item {display: flex;flex-direction: column;z-index: 1;position: relative;background-color: white;}#sk-container-id-3 div.sk-parallel-item:first-child::after {align-self: flex-end;width: 50%;}#sk-container-id-3 div.sk-parallel-item:last-child::after {align-self: flex-start;width: 50%;}#sk-container-id-3 div.sk-parallel-item:only-child::after {width: 0;}#sk-container-id-3 div.sk-dashed-wrapped {border: 1px dashed gray;margin: 0 0.4em 0.5em 0.4em;box-sizing: border-box;padding-bottom: 0.4em;background-color: white;}#sk-container-id-3 div.sk-label label {font-family: monospace;font-weight: bold;display: inline-block;line-height: 1.2em;}#sk-container-id-3 div.sk-label-container {text-align: center;}#sk-container-id-3 div.sk-container {/* jupyter's `normalize.less` sets `[hidden] { display: none; }` but bootstrap.min.css set `[hidden] { display: none !important; }` so we also need the `!important` here to be able to override the default hidden behavior on the sphinx rendered scikit-learn.org. See: https://github.com/scikit-learn/scikit-learn/issues/21755 */display: inline-block !important;position: relative;}#sk-container-id-3 div.sk-text-repr-fallback {display: none;}</style><div id=\"sk-container-id-3\" class=\"sk-top-container\"><div class=\"sk-text-repr-fallback\"><pre>VarianceThreshold(threshold=0.01)</pre><b>In a Jupyter environment, please rerun this cell to show the HTML representation or trust the notebook. <br />On GitHub, the HTML representation is unable to render, please try loading this page with nbviewer.org.</b></div><div class=\"sk-container\" hidden><div class=\"sk-item\"><div class=\"sk-estimator sk-toggleable\"><input class=\"sk-toggleable__control sk-hidden--visually\" id=\"sk-estimator-id-3\" type=\"checkbox\" checked><label for=\"sk-estimator-id-3\" class=\"sk-toggleable__label sk-toggleable__label-arrow\">VarianceThreshold</label><div class=\"sk-toggleable__content\"><pre>VarianceThreshold(threshold=0.01)</pre></div></div></div></div></div>"
      ],
      "text/plain": [
       "VarianceThreshold(threshold=0.01)"
      ]
     },
     "execution_count": 31,
     "metadata": {},
     "output_type": "execute_result"
    }
   ],
   "source": [
    "# Lets create threshold = 0.01 to remove the quasi-constant columns\n",
    "quasi_constant_selector = VarianceThreshold(threshold=0.01)\n",
    "quasi_constant_selector.fit(X_train)"
   ]
  },
  {
   "cell_type": "code",
   "execution_count": 32,
   "id": "1524f769-0861-4a94-8de2-032f5bfb6103",
   "metadata": {},
   "outputs": [
    {
     "data": {
      "text/plain": [
       "((76020, 370), (76020,))"
      ]
     },
     "execution_count": 32,
     "metadata": {},
     "output_type": "execute_result"
    }
   ],
   "source": [
    "X_s.shape,y_s.shape"
   ]
  },
  {
   "cell_type": "code",
   "execution_count": 33,
   "id": "206ec725-257b-4bd5-92dd-36de0a5bc51f",
   "metadata": {},
   "outputs": [
    {
     "data": {
      "text/plain": [
       "266"
      ]
     },
     "execution_count": 33,
     "metadata": {},
     "output_type": "execute_result"
    }
   ],
   "source": [
    "# Get features which have the variance greater than the set threshold value = 0.01\n",
    "sum(quasi_constant_selector.get_support())"
   ]
  },
  {
   "cell_type": "code",
   "execution_count": 34,
   "id": "ac948d1b-51f2-4b39-be39-51de0fe02ece",
   "metadata": {},
   "outputs": [],
   "source": [
    "# Filter out the Quasi-constant features\n",
    "quasi_features = [cols for cols in X_train.columns if cols not in X_train.columns[quasi_constant_selector.get_support()]]"
   ]
  },
  {
   "cell_type": "code",
   "execution_count": 35,
   "id": "8c59caa9-5156-4ab0-8a20-fb46193a9284",
   "metadata": {},
   "outputs": [
    {
     "data": {
      "text/plain": [
       "104"
      ]
     },
     "execution_count": 35,
     "metadata": {},
     "output_type": "execute_result"
    }
   ],
   "source": [
    "# Check the Quasi-constant columns count\n",
    "len(quasi_features)"
   ]
  },
  {
   "cell_type": "code",
   "execution_count": 36,
   "id": "69d29ccc-1311-4071-bfde-6954db067661",
   "metadata": {},
   "outputs": [
    {
     "name": "stdout",
     "output_type": "stream",
     "text": [
      "Total Features : 370\n",
      "Total constant features : 46\n",
      "Total non-quasi constant features : 266\n"
     ]
    }
   ],
   "source": [
    "print(\"Total Features :\",len(X_train.columns))\n",
    "print(\"Total constant features :\",len(constant_selected_cols))\n",
    "print(\"Total non-quasi constant features :\",len(X_train.columns)- len(quasi_features))"
   ]
  },
  {
   "cell_type": "code",
   "execution_count": 37,
   "id": "53619191-52db-4a21-82c0-592d87170d6a",
   "metadata": {},
   "outputs": [],
   "source": [
    "frame = X_train.var().to_frame()\n",
    "#frame = X_train.var().to_frame()"
   ]
  },
  {
   "cell_type": "code",
   "execution_count": 38,
   "id": "7d492feb-46b3-407b-b324-548fcb78292e",
   "metadata": {},
   "outputs": [],
   "source": [
    "frame = frame.rename(columns={0:\"Variance\"})"
   ]
  },
  {
   "cell_type": "code",
   "execution_count": 39,
   "id": "02768a1d-8bb4-4bbd-87d6-fa5d0bd8a934",
   "metadata": {},
   "outputs": [
    {
     "name": "stdout",
     "output_type": "stream",
     "text": [
      "Total Features : 370\n",
      "Total constant features : 46\n",
      "Total non constant and non-quast constant features : 266\n"
     ]
    }
   ],
   "source": [
    "print(\"Total Features :\",sum(frame.Variance.values>=0))\n",
    "print(\"Total constant features :\",sum(frame.Variance.values==0))\n",
    "print(\"Total non constant and non-quast constant features :\",sum(frame.Variance.values > 0.01))"
   ]
  },
  {
   "cell_type": "code",
   "execution_count": 40,
   "id": "b31367d2-db9e-4720-be49-2da9d9b4dcce",
   "metadata": {},
   "outputs": [],
   "source": [
    "# lets transfor the train nad test data using fit selector\n",
    "X_train_aq = quasi_constant_selector.transform(X_train)\n",
    "X_test_aq = quasi_constant_selector.transform(X_test)"
   ]
  },
  {
   "cell_type": "code",
   "execution_count": 41,
   "id": "724fc958-6e22-4f4a-a2da-384f9cbcc8d0",
   "metadata": {},
   "outputs": [
    {
     "data": {
      "text/plain": [
       "((53214, 266), (22806, 266))"
      ]
     },
     "execution_count": 41,
     "metadata": {},
     "output_type": "execute_result"
    }
   ],
   "source": [
    "X_train_aq.shape, X_test_aq.shape"
   ]
  },
  {
   "cell_type": "raw",
   "id": "75af73c5-e9d8-471e-8f00-fe54e2971cc4",
   "metadata": {},
   "source": [
    "Disadvange of Variance Threshold\n",
    "\n",
    "Does not consider the dependent(Target) variable.\n",
    "Does not consider correlations"
   ]
  }
 ],
 "metadata": {
  "kernelspec": {
   "display_name": "Python 3 (ipykernel)",
   "language": "python",
   "name": "python3"
  },
  "language_info": {
   "codemirror_mode": {
    "name": "ipython",
    "version": 3
   },
   "file_extension": ".py",
   "mimetype": "text/x-python",
   "name": "python",
   "nbconvert_exporter": "python",
   "pygments_lexer": "ipython3",
   "version": "3.11.5"
  }
 },
 "nbformat": 4,
 "nbformat_minor": 5
}
