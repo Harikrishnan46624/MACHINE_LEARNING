{
 "cells": [
  {
   "cell_type": "code",
   "execution_count": 1,
   "id": "a19f32c3-31b6-4706-84f3-a2cff51497d9",
   "metadata": {},
   "outputs": [],
   "source": [
    "import pandas as pd"
   ]
  },
  {
   "cell_type": "code",
   "execution_count": 3,
   "id": "fc279a23-ac62-446a-9594-ae48a1a6a0df",
   "metadata": {},
   "outputs": [
    {
     "data": {
      "text/html": [
       "<div>\n",
       "<style scoped>\n",
       "    .dataframe tbody tr th:only-of-type {\n",
       "        vertical-align: middle;\n",
       "    }\n",
       "\n",
       "    .dataframe tbody tr th {\n",
       "        vertical-align: top;\n",
       "    }\n",
       "\n",
       "    .dataframe thead th {\n",
       "        text-align: right;\n",
       "    }\n",
       "</style>\n",
       "<table border=\"1\" class=\"dataframe\">\n",
       "  <thead>\n",
       "    <tr style=\"text-align: right;\">\n",
       "      <th></th>\n",
       "      <th>Unnamed: 0</th>\n",
       "      <th>symboling</th>\n",
       "      <th>normalized-losses</th>\n",
       "      <th>make</th>\n",
       "      <th>fuel-type</th>\n",
       "      <th>aspiration</th>\n",
       "      <th>num-of-doors</th>\n",
       "      <th>body-style</th>\n",
       "      <th>drive-wheels</th>\n",
       "      <th>engine-location</th>\n",
       "      <th>...</th>\n",
       "      <th>engine-size</th>\n",
       "      <th>fuel-system</th>\n",
       "      <th>bore</th>\n",
       "      <th>stroke</th>\n",
       "      <th>compression-ratio</th>\n",
       "      <th>horsepower</th>\n",
       "      <th>peak-rpm</th>\n",
       "      <th>city-mpg</th>\n",
       "      <th>highway-mpg</th>\n",
       "      <th>price</th>\n",
       "    </tr>\n",
       "  </thead>\n",
       "  <tbody>\n",
       "    <tr>\n",
       "      <th>0</th>\n",
       "      <td>0</td>\n",
       "      <td>3</td>\n",
       "      <td>122.0</td>\n",
       "      <td>alfa-romero</td>\n",
       "      <td>gas</td>\n",
       "      <td>std</td>\n",
       "      <td>two</td>\n",
       "      <td>convertible</td>\n",
       "      <td>rwd</td>\n",
       "      <td>front</td>\n",
       "      <td>...</td>\n",
       "      <td>130</td>\n",
       "      <td>mpfi</td>\n",
       "      <td>3.47</td>\n",
       "      <td>2.68</td>\n",
       "      <td>9.0</td>\n",
       "      <td>111.0</td>\n",
       "      <td>5000.0</td>\n",
       "      <td>21</td>\n",
       "      <td>27</td>\n",
       "      <td>13495</td>\n",
       "    </tr>\n",
       "    <tr>\n",
       "      <th>1</th>\n",
       "      <td>1</td>\n",
       "      <td>3</td>\n",
       "      <td>122.0</td>\n",
       "      <td>alfa-romero</td>\n",
       "      <td>gas</td>\n",
       "      <td>std</td>\n",
       "      <td>two</td>\n",
       "      <td>convertible</td>\n",
       "      <td>rwd</td>\n",
       "      <td>front</td>\n",
       "      <td>...</td>\n",
       "      <td>130</td>\n",
       "      <td>mpfi</td>\n",
       "      <td>3.47</td>\n",
       "      <td>2.68</td>\n",
       "      <td>9.0</td>\n",
       "      <td>111.0</td>\n",
       "      <td>5000.0</td>\n",
       "      <td>21</td>\n",
       "      <td>27</td>\n",
       "      <td>16500</td>\n",
       "    </tr>\n",
       "    <tr>\n",
       "      <th>2</th>\n",
       "      <td>2</td>\n",
       "      <td>1</td>\n",
       "      <td>122.0</td>\n",
       "      <td>alfa-romero</td>\n",
       "      <td>gas</td>\n",
       "      <td>std</td>\n",
       "      <td>two</td>\n",
       "      <td>hatchback</td>\n",
       "      <td>rwd</td>\n",
       "      <td>front</td>\n",
       "      <td>...</td>\n",
       "      <td>152</td>\n",
       "      <td>mpfi</td>\n",
       "      <td>2.68</td>\n",
       "      <td>3.47</td>\n",
       "      <td>9.0</td>\n",
       "      <td>154.0</td>\n",
       "      <td>5000.0</td>\n",
       "      <td>19</td>\n",
       "      <td>26</td>\n",
       "      <td>16500</td>\n",
       "    </tr>\n",
       "    <tr>\n",
       "      <th>3</th>\n",
       "      <td>3</td>\n",
       "      <td>2</td>\n",
       "      <td>164.0</td>\n",
       "      <td>audi</td>\n",
       "      <td>gas</td>\n",
       "      <td>std</td>\n",
       "      <td>four</td>\n",
       "      <td>sedan</td>\n",
       "      <td>fwd</td>\n",
       "      <td>front</td>\n",
       "      <td>...</td>\n",
       "      <td>109</td>\n",
       "      <td>mpfi</td>\n",
       "      <td>3.19</td>\n",
       "      <td>3.40</td>\n",
       "      <td>10.0</td>\n",
       "      <td>102.0</td>\n",
       "      <td>5500.0</td>\n",
       "      <td>24</td>\n",
       "      <td>30</td>\n",
       "      <td>13950</td>\n",
       "    </tr>\n",
       "    <tr>\n",
       "      <th>4</th>\n",
       "      <td>4</td>\n",
       "      <td>2</td>\n",
       "      <td>164.0</td>\n",
       "      <td>audi</td>\n",
       "      <td>gas</td>\n",
       "      <td>std</td>\n",
       "      <td>four</td>\n",
       "      <td>sedan</td>\n",
       "      <td>4wd</td>\n",
       "      <td>front</td>\n",
       "      <td>...</td>\n",
       "      <td>136</td>\n",
       "      <td>mpfi</td>\n",
       "      <td>3.19</td>\n",
       "      <td>3.40</td>\n",
       "      <td>8.0</td>\n",
       "      <td>115.0</td>\n",
       "      <td>5500.0</td>\n",
       "      <td>18</td>\n",
       "      <td>22</td>\n",
       "      <td>17450</td>\n",
       "    </tr>\n",
       "  </tbody>\n",
       "</table>\n",
       "<p>5 rows × 27 columns</p>\n",
       "</div>"
      ],
      "text/plain": [
       "   Unnamed: 0  symboling  normalized-losses         make fuel-type aspiration  \\\n",
       "0           0          3              122.0  alfa-romero       gas        std   \n",
       "1           1          3              122.0  alfa-romero       gas        std   \n",
       "2           2          1              122.0  alfa-romero       gas        std   \n",
       "3           3          2              164.0         audi       gas        std   \n",
       "4           4          2              164.0         audi       gas        std   \n",
       "\n",
       "  num-of-doors   body-style drive-wheels engine-location  ...  engine-size  \\\n",
       "0          two  convertible          rwd           front  ...          130   \n",
       "1          two  convertible          rwd           front  ...          130   \n",
       "2          two    hatchback          rwd           front  ...          152   \n",
       "3         four        sedan          fwd           front  ...          109   \n",
       "4         four        sedan          4wd           front  ...          136   \n",
       "\n",
       "   fuel-system  bore  stroke  compression-ratio horsepower peak-rpm  city-mpg  \\\n",
       "0         mpfi  3.47    2.68                9.0      111.0   5000.0        21   \n",
       "1         mpfi  3.47    2.68                9.0      111.0   5000.0        21   \n",
       "2         mpfi  2.68    3.47                9.0      154.0   5000.0        19   \n",
       "3         mpfi  3.19    3.40               10.0      102.0   5500.0        24   \n",
       "4         mpfi  3.19    3.40                8.0      115.0   5500.0        18   \n",
       "\n",
       "  highway-mpg  price  \n",
       "0          27  13495  \n",
       "1          27  16500  \n",
       "2          26  16500  \n",
       "3          30  13950  \n",
       "4          22  17450  \n",
       "\n",
       "[5 rows x 27 columns]"
      ]
     },
     "execution_count": 3,
     "metadata": {},
     "output_type": "execute_result"
    }
   ],
   "source": [
    "df = pd.read_csv(r\"E:\\Programming\\Machine Learning\\Data Preprocessing\\new 2\\no_null_dataset.csv\")\n",
    "df.head()"
   ]
  },
  {
   "cell_type": "code",
   "execution_count": 4,
   "id": "e8addc56-7bd5-475d-82ef-5c5d76e565b2",
   "metadata": {},
   "outputs": [
    {
     "data": {
      "text/plain": [
       "Unnamed: 0           0\n",
       "symboling            0\n",
       "normalized-losses    0\n",
       "make                 0\n",
       "fuel-type            0\n",
       "aspiration           0\n",
       "num-of-doors         0\n",
       "body-style           0\n",
       "drive-wheels         0\n",
       "engine-location      0\n",
       "wheel-base           0\n",
       "length               0\n",
       "width                0\n",
       "height               0\n",
       "curb-weight          0\n",
       "engine-type          0\n",
       "num-of-cylinders     0\n",
       "engine-size          0\n",
       "fuel-system          0\n",
       "bore                 0\n",
       "stroke               0\n",
       "compression-ratio    0\n",
       "horsepower           0\n",
       "peak-rpm             0\n",
       "city-mpg             0\n",
       "highway-mpg          0\n",
       "price                0\n",
       "dtype: int64"
      ]
     },
     "execution_count": 4,
     "metadata": {},
     "output_type": "execute_result"
    }
   ],
   "source": [
    "df.isnull().sum()"
   ]
  },
  {
   "cell_type": "code",
   "execution_count": 5,
   "id": "3db05a2f-9c2c-4c9d-849a-0402e2b6d0ab",
   "metadata": {},
   "outputs": [
    {
     "name": "stdout",
     "output_type": "stream",
     "text": [
      "<class 'pandas.core.frame.DataFrame'>\n",
      "RangeIndex: 201 entries, 0 to 200\n",
      "Data columns (total 27 columns):\n",
      " #   Column             Non-Null Count  Dtype  \n",
      "---  ------             --------------  -----  \n",
      " 0   Unnamed: 0         201 non-null    int64  \n",
      " 1   symboling          201 non-null    int64  \n",
      " 2   normalized-losses  201 non-null    float64\n",
      " 3   make               201 non-null    object \n",
      " 4   fuel-type          201 non-null    object \n",
      " 5   aspiration         201 non-null    object \n",
      " 6   num-of-doors       201 non-null    object \n",
      " 7   body-style         201 non-null    object \n",
      " 8   drive-wheels       201 non-null    object \n",
      " 9   engine-location    201 non-null    object \n",
      " 10  wheel-base         201 non-null    float64\n",
      " 11  length             201 non-null    float64\n",
      " 12  width              201 non-null    float64\n",
      " 13  height             201 non-null    float64\n",
      " 14  curb-weight        201 non-null    int64  \n",
      " 15  engine-type        201 non-null    object \n",
      " 16  num-of-cylinders   201 non-null    object \n",
      " 17  engine-size        201 non-null    int64  \n",
      " 18  fuel-system        201 non-null    object \n",
      " 19  bore               201 non-null    float64\n",
      " 20  stroke             201 non-null    float64\n",
      " 21  compression-ratio  201 non-null    float64\n",
      " 22  horsepower         201 non-null    float64\n",
      " 23  peak-rpm           201 non-null    float64\n",
      " 24  city-mpg           201 non-null    int64  \n",
      " 25  highway-mpg        201 non-null    int64  \n",
      " 26  price              201 non-null    int64  \n",
      "dtypes: float64(10), int64(7), object(10)\n",
      "memory usage: 42.5+ KB\n"
     ]
    }
   ],
   "source": [
    "df.info()"
   ]
  },
  {
   "cell_type": "markdown",
   "id": "be4c6e5c-c756-411e-a98a-75bddb6eada2",
   "metadata": {},
   "source": [
    "DATA FORMATTING\n",
    "->CHECKING AND MAKING SURE THAT ALL DATA IN CORRECT FORMAT(INT, FLOAT,TEXT, OTHER)"
   ]
  },
  {
   "cell_type": "code",
   "execution_count": 6,
   "id": "16397d52-fae3-4ba7-92e4-0bc05b09ab86",
   "metadata": {},
   "outputs": [],
   "source": [
    "# convert [\"bore\", \"stroke\",\"peak-rpm\",\"price\",\"normalized-losses\"] datatype as float\n",
    "ls =[\"bore\", \"stroke\",\"peak-rpm\",\"price\",\"normalized-losses\"]\n",
    "df[ls] = df[ls].astype('float')"
   ]
  },
  {
   "cell_type": "code",
   "execution_count": 7,
   "id": "cec5d345-dbb7-4646-816f-50c4b7c13231",
   "metadata": {},
   "outputs": [
    {
     "name": "stdout",
     "output_type": "stream",
     "text": [
      "<class 'pandas.core.frame.DataFrame'>\n",
      "RangeIndex: 201 entries, 0 to 200\n",
      "Data columns (total 27 columns):\n",
      " #   Column             Non-Null Count  Dtype  \n",
      "---  ------             --------------  -----  \n",
      " 0   Unnamed: 0         201 non-null    int64  \n",
      " 1   symboling          201 non-null    int64  \n",
      " 2   normalized-losses  201 non-null    float64\n",
      " 3   make               201 non-null    object \n",
      " 4   fuel-type          201 non-null    object \n",
      " 5   aspiration         201 non-null    object \n",
      " 6   num-of-doors       201 non-null    object \n",
      " 7   body-style         201 non-null    object \n",
      " 8   drive-wheels       201 non-null    object \n",
      " 9   engine-location    201 non-null    object \n",
      " 10  wheel-base         201 non-null    float64\n",
      " 11  length             201 non-null    float64\n",
      " 12  width              201 non-null    float64\n",
      " 13  height             201 non-null    float64\n",
      " 14  curb-weight        201 non-null    int64  \n",
      " 15  engine-type        201 non-null    object \n",
      " 16  num-of-cylinders   201 non-null    object \n",
      " 17  engine-size        201 non-null    int64  \n",
      " 18  fuel-system        201 non-null    object \n",
      " 19  bore               201 non-null    float64\n",
      " 20  stroke             201 non-null    float64\n",
      " 21  compression-ratio  201 non-null    float64\n",
      " 22  horsepower         201 non-null    float64\n",
      " 23  peak-rpm           201 non-null    float64\n",
      " 24  city-mpg           201 non-null    int64  \n",
      " 25  highway-mpg        201 non-null    int64  \n",
      " 26  price              201 non-null    float64\n",
      "dtypes: float64(11), int64(6), object(10)\n",
      "memory usage: 42.5+ KB\n"
     ]
    }
   ],
   "source": [
    " df.info()"
   ]
  },
  {
   "cell_type": "markdown",
   "id": "e46ebdbc-4006-4d93-8603-e7e743ee1cb3",
   "metadata": {},
   "source": [
    "DATA BINNING\n",
    "->PROCESS OF TRANSFORMING CONTINOUS NUMERICAL VARIABLES INTO DISCRETE CATEGORICAL 'BINS' FOR GROUPED ANALYSIS"
   ]
  },
  {
   "cell_type": "code",
   "execution_count": 9,
   "id": "cfb78a3d-0fee-460e-b961-36c96d120752",
   "metadata": {},
   "outputs": [
    {
     "data": {
      "text/plain": [
       "dtype('float64')"
      ]
     },
     "execution_count": 9,
     "metadata": {},
     "output_type": "execute_result"
    }
   ],
   "source": [
    "# CONVERT HORESEPOWER DATAYPE TO INT OR FLOAT\n",
    "df['horsepower'] = df['horsepower'].astype('float')\n",
    "df['horsepower'].dtypes"
   ]
  },
  {
   "cell_type": "markdown",
   "id": "9c3e44e7-e15a-4834-bc08-4332eab9fcd3",
   "metadata": {},
   "source": [
    "let visualize the horsepower data"
   ]
  },
  {
   "cell_type": "code",
   "execution_count": 15,
   "id": "df038e40-133c-453b-8bd2-8a44402a2401",
   "metadata": {},
   "outputs": [],
   "source": [
    "import matplotlib.pyplot as plt\n",
    "%matplotlib inline\n",
    "import numpy as np"
   ]
  },
  {
   "cell_type": "code",
   "execution_count": 14,
   "id": "dd3f5359-79ec-4d7a-97db-9f8baa4fad07",
   "metadata": {},
   "outputs": [
    {
     "data": {
      "text/plain": [
       "Text(0, 0.5, 'frequency count')"
      ]
     },
     "execution_count": 14,
     "metadata": {},
     "output_type": "execute_result"
    },
    {
     "data": {
      "image/png": "[encoded data removed]",
      "text/plain": [
       "<Figure size 640x480 with 1 Axes>"
      ]
     },
     "metadata": {},
     "output_type": "display_data"
    }
   ],
   "source": [
    "plt.hist(df['horsepower'])\n",
    "plt.xlabel('horsepower value')\n",
    "plt.ylabel('frequency count')"
   ]
  },
  {
   "cell_type": "code",
   "execution_count": 17,
   "id": "57ac4733-4315-45f2-ad09-9d75e0a6e9ab",
   "metadata": {},
   "outputs": [
    {
     "data": {
      "text/plain": [
       "array([ 48.        , 119.33333333, 190.66666667, 262.        ])"
      ]
     },
     "execution_count": 17,
     "metadata": {},
     "output_type": "execute_result"
    }
   ],
   "source": [
    "# create bins\n",
    "bins = np.linspace(min(df['horsepower']), max(df['horsepower']), 4)\n",
    "bins"
   ]
  },
  {
   "cell_type": "code",
   "execution_count": 18,
   "id": "8d798443-57b7-4e55-9d85-5d6f16aab9e0",
   "metadata": {},
   "outputs": [],
   "source": [
    "# create group names\n",
    "group_names = ['Low', 'Medium', 'High']"
   ]
  },
  {
   "cell_type": "code",
   "execution_count": 20,
   "id": "36cddcb4-9074-49f8-bd9c-f90f889e1daa",
   "metadata": {},
   "outputs": [
    {
     "data": {
      "text/html": [
       "<div>\n",
       "<style scoped>\n",
       "    .dataframe tbody tr th:only-of-type {\n",
       "        vertical-align: middle;\n",
       "    }\n",
       "\n",
       "    .dataframe tbody tr th {\n",
       "        vertical-align: top;\n",
       "    }\n",
       "\n",
       "    .dataframe thead th {\n",
       "        text-align: right;\n",
       "    }\n",
       "</style>\n",
       "<table border=\"1\" class=\"dataframe\">\n",
       "  <thead>\n",
       "    <tr style=\"text-align: right;\">\n",
       "      <th></th>\n",
       "      <th>horsepower</th>\n",
       "      <th>horsepower-binned</th>\n",
       "    </tr>\n",
       "  </thead>\n",
       "  <tbody>\n",
       "    <tr>\n",
       "      <th>0</th>\n",
       "      <td>111.0</td>\n",
       "      <td>Low</td>\n",
       "    </tr>\n",
       "    <tr>\n",
       "      <th>1</th>\n",
       "      <td>111.0</td>\n",
       "      <td>Low</td>\n",
       "    </tr>\n",
       "    <tr>\n",
       "      <th>2</th>\n",
       "      <td>154.0</td>\n",
       "      <td>Medium</td>\n",
       "    </tr>\n",
       "    <tr>\n",
       "      <th>3</th>\n",
       "      <td>102.0</td>\n",
       "      <td>Low</td>\n",
       "    </tr>\n",
       "    <tr>\n",
       "      <th>4</th>\n",
       "      <td>115.0</td>\n",
       "      <td>Low</td>\n",
       "    </tr>\n",
       "    <tr>\n",
       "      <th>5</th>\n",
       "      <td>110.0</td>\n",
       "      <td>Low</td>\n",
       "    </tr>\n",
       "    <tr>\n",
       "      <th>6</th>\n",
       "      <td>110.0</td>\n",
       "      <td>Low</td>\n",
       "    </tr>\n",
       "    <tr>\n",
       "      <th>7</th>\n",
       "      <td>110.0</td>\n",
       "      <td>Low</td>\n",
       "    </tr>\n",
       "    <tr>\n",
       "      <th>8</th>\n",
       "      <td>140.0</td>\n",
       "      <td>Medium</td>\n",
       "    </tr>\n",
       "    <tr>\n",
       "      <th>9</th>\n",
       "      <td>101.0</td>\n",
       "      <td>Low</td>\n",
       "    </tr>\n",
       "  </tbody>\n",
       "</table>\n",
       "</div>"
      ],
      "text/plain": [
       "   horsepower horsepower-binned\n",
       "0       111.0               Low\n",
       "1       111.0               Low\n",
       "2       154.0            Medium\n",
       "3       102.0               Low\n",
       "4       115.0               Low\n",
       "5       110.0               Low\n",
       "6       110.0               Low\n",
       "7       110.0               Low\n",
       "8       140.0            Medium\n",
       "9       101.0               Low"
      ]
     },
     "execution_count": 20,
     "metadata": {},
     "output_type": "execute_result"
    }
   ],
   "source": [
    "# perform binning\n",
    "df['horsepower-binned'] = pd.cut(df['horsepower'], bins, labels=group_names, include_lowest=True)\n",
    "df[['horsepower', 'horsepower-binned']].head(10)"
   ]
  },
  {
   "cell_type": "code",
   "execution_count": 21,
   "id": "a83207f6-e645-48fb-8c77-7a1d777fe689",
   "metadata": {},
   "outputs": [
    {
     "data": {
      "text/plain": [
       "horsepower-binned\n",
       "Low       153\n",
       "Medium     43\n",
       "High        5\n",
       "Name: count, dtype: int64"
      ]
     },
     "execution_count": 21,
     "metadata": {},
     "output_type": "execute_result"
    }
   ],
   "source": [
    "# see the frequency of each bin with value_counts()\n",
    "df['horsepower-binned'].value_counts()"
   ]
  },
  {
   "cell_type": "code",
   "execution_count": 23,
   "id": "cbb9bd15-d8bd-47ad-8f7f-001196c52aa5",
   "metadata": {},
   "outputs": [
    {
     "data": {
      "text/plain": [
       "Text(0, 0.5, 'counts')"
      ]
     },
     "execution_count": 23,
     "metadata": {},
     "output_type": "execute_result"
    },
    {
     "data": {
      "image/png": "[encoded data removed]",
      "text/plain": [
       "<Figure size 640x480 with 1 Axes>"
      ]
     },
     "metadata": {},
     "output_type": "display_data"
    }
   ],
   "source": [
    "plt.bar(group_names, df['horsepower-binned'].value_counts())\n",
    "plt.xlabel('horsepower')\n",
    "plt.ylabel('counts')"
   ]
  },
  {
   "cell_type": "code",
   "execution_count": null,
   "id": "7f233815-223d-49b8-88ad-078c86153052",
   "metadata": {},
   "outputs": [],
   "source": []
  }
 ],
 "metadata": {
  "kernelspec": {
   "display_name": "Python 3 (ipykernel)",
   "language": "python",
   "name": "python3"
  },
  "language_info": {
   "codemirror_mode": {
    "name": "ipython",
    "version": 3
   },
   "file_extension": ".py",
   "mimetype": "text/x-python",
   "name": "python",
   "nbconvert_exporter": "python",
   "pygments_lexer": "ipython3",
   "version": "3.11.6"
  }
 },
 "nbformat": 4,
 "nbformat_minor": 5
}
