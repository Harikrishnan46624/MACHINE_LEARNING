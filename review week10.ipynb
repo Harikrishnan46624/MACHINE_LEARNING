{
 "cells": [
  {
   "cell_type": "code",
   "execution_count": 1,
   "id": "d8b01ede-507d-4c5b-a859-600a75758616",
   "metadata": {},
   "outputs": [],
   "source": [
    "import numpy as np"
   ]
  },
  {
   "cell_type": "code",
   "execution_count": 4,
   "id": "cdc86c75-6d9b-429a-9646-424191e3244a",
   "metadata": {},
   "outputs": [],
   "source": [
    "x = np.random.randint(0, 100, size=(10,10))"
   ]
  },
  {
   "cell_type": "code",
   "execution_count": 5,
   "id": "d34421e2-876c-4128-9b71-1c72e30aff01",
   "metadata": {},
   "outputs": [
    {
     "data": {
      "text/plain": [
       "array([[63, 25, 43, 82, 70, 96, 59,  2, 81, 72],\n",
       "       [95, 29, 19, 25, 82,  5,  8, 83, 42, 21],\n",
       "       [56, 58,  3, 68, 92, 39, 75, 67, 23, 98],\n",
       "       [70, 89, 10, 73, 79, 39, 14, 10,  8, 30],\n",
       "       [ 0, 58, 99, 92,  3, 11, 91, 67, 76, 82],\n",
       "       [88, 58, 17, 20, 95, 82, 29, 34, 31, 82],\n",
       "       [28, 62, 80, 81, 62,  0,  8, 78,  2, 46],\n",
       "       [62, 42, 76, 98, 69, 43, 69, 47, 29, 59],\n",
       "       [38, 23, 64, 87, 59,  6, 18, 59, 28, 66],\n",
       "       [90, 87, 12, 46, 42, 25, 15, 32,  7, 63]])"
      ]
     },
     "execution_count": 5,
     "metadata": {},
     "output_type": "execute_result"
    }
   ],
   "source": [
    "x"
   ]
  },
  {
   "cell_type": "code",
   "execution_count": 6,
   "id": "2de8ee5e-f04d-4249-9329-16ee06da7df2",
   "metadata": {},
   "outputs": [
    {
     "data": {
      "text/plain": [
       "numpy.ndarray"
      ]
     },
     "execution_count": 6,
     "metadata": {},
     "output_type": "execute_result"
    }
   ],
   "source": []
  },
  {
   "cell_type": "code",
   "execution_count": 9,
   "id": "d14d275b-b8f5-4f02-bdb2-2ef2934c60a9",
   "metadata": {},
   "outputs": [
    {
     "data": {
      "text/plain": [
       "array([[63., 25., 43., 82., 70., 96., 59.,  2., 81., 72.],\n",
       "       [95., 29., 19., 25., 82.,  5.,  8., 83., 42., 21.],\n",
       "       [56., 58.,  3., 68., 92., 39., 75., 67., 23., 98.],\n",
       "       [70., 89., 10., 73., 79., 39., 14., 10.,  8., 30.],\n",
       "       [ 0., 58., 99., 92.,  3., 11., 91., 67., 76., 82.],\n",
       "       [88., 58., 17., 20., 95., 82., 29., 34., 31., 82.],\n",
       "       [28., 62., 80., 81., 62.,  0.,  8., 78.,  2., 46.],\n",
       "       [62., 42., 76., 98., 69., 43., 69., 47., 29., 59.],\n",
       "       [38., 23., 64., 87., 59.,  6., 18., 59., 28., 66.],\n",
       "       [90., 87., 12., 46., 42., 25., 15., 32.,  7., 63.]])"
      ]
     },
     "execution_count": 9,
     "metadata": {},
     "output_type": "execute_result"
    }
   ],
   "source": [
    "a = np.float64\n",
    "y = x.astype(a)\n",
    "y"
   ]
  },
  {
   "cell_type": "code",
   "execution_count": 14,
   "id": "f9177497-46a0-4005-bf32-5f8d38f6921e",
   "metadata": {},
   "outputs": [
    {
     "data": {
      "text/plain": [
       "array([  0., 101.])"
      ]
     },
     "execution_count": 14,
     "metadata": {},
     "output_type": "execute_result"
    }
   ],
   "source": [
    "z = np.linspace(0, 101, 2)\n",
    "z"
   ]
  },
  {
   "cell_type": "code",
   "execution_count": 16,
   "id": "4e21ba5d-7e6a-4e9f-a809-ff45de52958b",
   "metadata": {},
   "outputs": [
    {
     "data": {
      "text/plain": [
       "array([96, 95, 98, 89, 99, 95, 81, 98, 87, 90])"
      ]
     },
     "execution_count": 16,
     "metadata": {},
     "output_type": "execute_result"
    }
   ],
   "source": [
    "max_value = np.max(x, axis=1)\n",
    "max_value"
   ]
  },
  {
   "cell_type": "code",
   "execution_count": 17,
   "id": "29959af4-be0d-4f44-b74a-7dcc5ed9dbde",
   "metadata": {},
   "outputs": [],
   "source": [
    "import pandas as pd"
   ]
  },
  {
   "cell_type": "code",
   "execution_count": 18,
   "id": "f66ccdca-ea3d-4a37-8bc2-a1d6ce7c5d0c",
   "metadata": {},
   "outputs": [],
   "source": [
    "df = pd.read_csv(\"E:\\Programming\\Machine Learning\\Libaries\\pandas\\weather.csv\")"
   ]
  },
  {
   "cell_type": "code",
   "execution_count": 19,
   "id": "1a98bb32-b6a6-44d7-aa19-eef763c5fb26",
   "metadata": {},
   "outputs": [
    {
     "data": {
      "text/html": [
       "<div>\n",
       "<style scoped>\n",
       "    .dataframe tbody tr th:only-of-type {\n",
       "        vertical-align: middle;\n",
       "    }\n",
       "\n",
       "    .dataframe tbody tr th {\n",
       "        vertical-align: top;\n",
       "    }\n",
       "\n",
       "    .dataframe thead th {\n",
       "        text-align: right;\n",
       "    }\n",
       "</style>\n",
       "<table border=\"1\" class=\"dataframe\">\n",
       "  <thead>\n",
       "    <tr style=\"text-align: right;\">\n",
       "      <th></th>\n",
       "      <th>date</th>\n",
       "      <th>city</th>\n",
       "      <th>temperature</th>\n",
       "      <th>humidity</th>\n",
       "    </tr>\n",
       "  </thead>\n",
       "  <tbody>\n",
       "    <tr>\n",
       "      <th>0</th>\n",
       "      <td>5/1/2017</td>\n",
       "      <td>new york</td>\n",
       "      <td>65</td>\n",
       "      <td>56</td>\n",
       "    </tr>\n",
       "    <tr>\n",
       "      <th>1</th>\n",
       "      <td>5/2/2017</td>\n",
       "      <td>new york</td>\n",
       "      <td>66</td>\n",
       "      <td>58</td>\n",
       "    </tr>\n",
       "    <tr>\n",
       "      <th>2</th>\n",
       "      <td>5/3/2017</td>\n",
       "      <td>new york</td>\n",
       "      <td>68</td>\n",
       "      <td>60</td>\n",
       "    </tr>\n",
       "    <tr>\n",
       "      <th>3</th>\n",
       "      <td>5/1/2017</td>\n",
       "      <td>mumbai</td>\n",
       "      <td>75</td>\n",
       "      <td>80</td>\n",
       "    </tr>\n",
       "    <tr>\n",
       "      <th>4</th>\n",
       "      <td>5/2/2017</td>\n",
       "      <td>mumbai</td>\n",
       "      <td>78</td>\n",
       "      <td>83</td>\n",
       "    </tr>\n",
       "  </tbody>\n",
       "</table>\n",
       "</div>"
      ],
      "text/plain": [
       "       date      city  temperature  humidity\n",
       "0  5/1/2017  new york           65        56\n",
       "1  5/2/2017  new york           66        58\n",
       "2  5/3/2017  new york           68        60\n",
       "3  5/1/2017    mumbai           75        80\n",
       "4  5/2/2017    mumbai           78        83"
      ]
     },
     "execution_count": 19,
     "metadata": {},
     "output_type": "execute_result"
    }
   ],
   "source": [
    "df.head()"
   ]
  },
  {
   "cell_type": "code",
   "execution_count": 20,
   "id": "cf39f1da-e612-4d2b-8754-31964702083d",
   "metadata": {},
   "outputs": [
    {
     "data": {
      "text/plain": [
       "array(['new york', 'mumbai', 'beijing'], dtype=object)"
      ]
     },
     "execution_count": 20,
     "metadata": {},
     "output_type": "execute_result"
    }
   ],
   "source": [
    "df['city'].unique()"
   ]
  },
  {
   "cell_type": "code",
   "execution_count": 23,
   "id": "207a546c-93ca-4599-af2b-21c120977715",
   "metadata": {},
   "outputs": [
    {
     "data": {
      "text/html": [
       "<div>\n",
       "<style scoped>\n",
       "    .dataframe tbody tr th:only-of-type {\n",
       "        vertical-align: middle;\n",
       "    }\n",
       "\n",
       "    .dataframe tbody tr th {\n",
       "        vertical-align: top;\n",
       "    }\n",
       "\n",
       "    .dataframe thead th {\n",
       "        text-align: right;\n",
       "    }\n",
       "</style>\n",
       "<table border=\"1\" class=\"dataframe\">\n",
       "  <thead>\n",
       "    <tr style=\"text-align: right;\">\n",
       "      <th></th>\n",
       "      <th>date</th>\n",
       "      <th>city</th>\n",
       "      <th>temperature</th>\n",
       "      <th>humidity</th>\n",
       "    </tr>\n",
       "  </thead>\n",
       "  <tbody>\n",
       "    <tr>\n",
       "      <th>1</th>\n",
       "      <td>5/2/2017</td>\n",
       "      <td>new york</td>\n",
       "      <td>66</td>\n",
       "      <td>58</td>\n",
       "    </tr>\n",
       "    <tr>\n",
       "      <th>2</th>\n",
       "      <td>5/3/2017</td>\n",
       "      <td>new york</td>\n",
       "      <td>68</td>\n",
       "      <td>60</td>\n",
       "    </tr>\n",
       "    <tr>\n",
       "      <th>3</th>\n",
       "      <td>5/1/2017</td>\n",
       "      <td>mumbai</td>\n",
       "      <td>75</td>\n",
       "      <td>80</td>\n",
       "    </tr>\n",
       "    <tr>\n",
       "      <th>4</th>\n",
       "      <td>5/2/2017</td>\n",
       "      <td>mumbai</td>\n",
       "      <td>78</td>\n",
       "      <td>83</td>\n",
       "    </tr>\n",
       "    <tr>\n",
       "      <th>5</th>\n",
       "      <td>5/3/2017</td>\n",
       "      <td>mumbai</td>\n",
       "      <td>82</td>\n",
       "      <td>85</td>\n",
       "    </tr>\n",
       "    <tr>\n",
       "      <th>6</th>\n",
       "      <td>5/1/2017</td>\n",
       "      <td>beijing</td>\n",
       "      <td>80</td>\n",
       "      <td>26</td>\n",
       "    </tr>\n",
       "    <tr>\n",
       "      <th>7</th>\n",
       "      <td>5/2/2017</td>\n",
       "      <td>beijing</td>\n",
       "      <td>77</td>\n",
       "      <td>30</td>\n",
       "    </tr>\n",
       "    <tr>\n",
       "      <th>8</th>\n",
       "      <td>5/3/2017</td>\n",
       "      <td>beijing</td>\n",
       "      <td>79</td>\n",
       "      <td>35</td>\n",
       "    </tr>\n",
       "  </tbody>\n",
       "</table>\n",
       "</div>"
      ],
      "text/plain": [
       "       date      city  temperature  humidity\n",
       "1  5/2/2017  new york           66        58\n",
       "2  5/3/2017  new york           68        60\n",
       "3  5/1/2017    mumbai           75        80\n",
       "4  5/2/2017    mumbai           78        83\n",
       "5  5/3/2017    mumbai           82        85\n",
       "6  5/1/2017   beijing           80        26\n",
       "7  5/2/2017   beijing           77        30\n",
       "8  5/3/2017   beijing           79        35"
      ]
     },
     "execution_count": 23,
     "metadata": {},
     "output_type": "execute_result"
    }
   ],
   "source": [
    "df.drop(0)\n"
   ]
  },
  {
   "cell_type": "code",
   "execution_count": 25,
   "id": "29e08b25-d8b0-4798-ab3f-19781a1af6ec",
   "metadata": {},
   "outputs": [
    {
     "data": {
      "text/plain": [
       "<pandas.core.groupby.generic.DataFrameGroupBy object at 0x000001F80100E890>"
      ]
     },
     "execution_count": 25,
     "metadata": {},
     "output_type": "execute_result"
    }
   ],
   "source": [
    "g = df.groupby('city')\n"
   ]
  },
  {
   "cell_type": "code",
   "execution_count": 27,
   "id": "f6cecb68-557e-4fa8-89cd-571e82d865a7",
   "metadata": {},
   "outputs": [
    {
     "ename": "KeyError",
     "evalue": "'Column not found: temprature'",
     "output_type": "error",
     "traceback": [
      "\u001b[1;31m---------------------------------------------------------------------------\u001b[0m",
      "\u001b[1;31mKeyError\u001b[0m                                  Traceback (most recent call last)",
      "Cell \u001b[1;32mIn[27], line 1\u001b[0m\n\u001b[1;32m----> 1\u001b[0m g \u001b[38;5;241m=\u001b[39m \u001b[43mg\u001b[49m\u001b[43m[\u001b[49m\u001b[38;5;124;43m'\u001b[39;49m\u001b[38;5;124;43mtemprature\u001b[39;49m\u001b[38;5;124;43m'\u001b[39;49m\u001b[43m]\u001b[49m\u001b[38;5;241m.\u001b[39mmean()\n",
      "File \u001b[1;32m~\\AppData\\Local\\Packages\\PythonSoftwareFoundation.Python.3.11_qbz5n2kfra8p0\\LocalCache\\local-packages\\Python311\\site-packages\\pandas\\core\\groupby\\generic.py:1771\u001b[0m, in \u001b[0;36mDataFrameGroupBy.__getitem__\u001b[1;34m(self, key)\u001b[0m\n\u001b[0;32m   1764\u001b[0m \u001b[38;5;28;01mif\u001b[39;00m \u001b[38;5;28misinstance\u001b[39m(key, \u001b[38;5;28mtuple\u001b[39m) \u001b[38;5;129;01mand\u001b[39;00m \u001b[38;5;28mlen\u001b[39m(key) \u001b[38;5;241m>\u001b[39m \u001b[38;5;241m1\u001b[39m:\n\u001b[0;32m   1765\u001b[0m     \u001b[38;5;66;03m# if len == 1, then it becomes a SeriesGroupBy and this is actually\u001b[39;00m\n\u001b[0;32m   1766\u001b[0m     \u001b[38;5;66;03m# valid syntax, so don't raise\u001b[39;00m\n\u001b[0;32m   1767\u001b[0m     \u001b[38;5;28;01mraise\u001b[39;00m \u001b[38;5;167;01mValueError\u001b[39;00m(\n\u001b[0;32m   1768\u001b[0m         \u001b[38;5;124m\"\u001b[39m\u001b[38;5;124mCannot subset columns with a tuple with more than one element. \u001b[39m\u001b[38;5;124m\"\u001b[39m\n\u001b[0;32m   1769\u001b[0m         \u001b[38;5;124m\"\u001b[39m\u001b[38;5;124mUse a list instead.\u001b[39m\u001b[38;5;124m\"\u001b[39m\n\u001b[0;32m   1770\u001b[0m     )\n\u001b[1;32m-> 1771\u001b[0m \u001b[38;5;28;01mreturn\u001b[39;00m \u001b[38;5;28;43msuper\u001b[39;49m\u001b[43m(\u001b[49m\u001b[43m)\u001b[49m\u001b[38;5;241;43m.\u001b[39;49m\u001b[38;5;21;43m__getitem__\u001b[39;49m\u001b[43m(\u001b[49m\u001b[43mkey\u001b[49m\u001b[43m)\u001b[49m\n",
      "File \u001b[1;32m~\\AppData\\Local\\Packages\\PythonSoftwareFoundation.Python.3.11_qbz5n2kfra8p0\\LocalCache\\local-packages\\Python311\\site-packages\\pandas\\core\\base.py:244\u001b[0m, in \u001b[0;36mSelectionMixin.__getitem__\u001b[1;34m(self, key)\u001b[0m\n\u001b[0;32m    242\u001b[0m \u001b[38;5;28;01melse\u001b[39;00m:\n\u001b[0;32m    243\u001b[0m     \u001b[38;5;28;01mif\u001b[39;00m key \u001b[38;5;129;01mnot\u001b[39;00m \u001b[38;5;129;01min\u001b[39;00m \u001b[38;5;28mself\u001b[39m\u001b[38;5;241m.\u001b[39mobj:\n\u001b[1;32m--> 244\u001b[0m         \u001b[38;5;28;01mraise\u001b[39;00m \u001b[38;5;167;01mKeyError\u001b[39;00m(\u001b[38;5;124mf\u001b[39m\u001b[38;5;124m\"\u001b[39m\u001b[38;5;124mColumn not found: \u001b[39m\u001b[38;5;132;01m{\u001b[39;00mkey\u001b[38;5;132;01m}\u001b[39;00m\u001b[38;5;124m\"\u001b[39m)\n\u001b[0;32m    245\u001b[0m     ndim \u001b[38;5;241m=\u001b[39m \u001b[38;5;28mself\u001b[39m\u001b[38;5;241m.\u001b[39mobj[key]\u001b[38;5;241m.\u001b[39mndim\n\u001b[0;32m    246\u001b[0m     \u001b[38;5;28;01mreturn\u001b[39;00m \u001b[38;5;28mself\u001b[39m\u001b[38;5;241m.\u001b[39m_gotitem(key, ndim\u001b[38;5;241m=\u001b[39mndim)\n",
      "\u001b[1;31mKeyError\u001b[0m: 'Column not found: temprature'"
     ]
    }
   ],
   "source": [
    "g = g['temprature'].mean()"
   ]
  },
  {
   "cell_type": "code",
   "execution_count": 29,
   "id": "23b960c4-73ea-4047-96ca-353abf8b36cb",
   "metadata": {},
   "outputs": [],
   "source": [
    "import seaborn as sns"
   ]
  },
  {
   "cell_type": "code",
   "execution_count": 31,
   "id": "0e6446f9-a7bd-4223-8fa4-95c42a10cc7a",
   "metadata": {},
   "outputs": [
    {
     "data": {
      "text/plain": [
       "Text(0, 0.5, 'y')"
      ]
     },
     "execution_count": 31,
     "metadata": {},
     "output_type": "execute_result"
    },
    {
     "data": {
      "image/png": "[encoded data removed]",
      "text/plain": [
       "<Figure size 640x480 with 1 Axes>"
      ]
     },
     "metadata": {},
     "output_type": "display_data"
    }
   ],
   "source": [
    "sns.countplot(x='city', data=df)\n",
    "plt.xlabel('x')\n",
    "plt.ylabel('y')"
   ]
  },
  {
   "cell_type": "code",
   "execution_count": 32,
   "id": "276c6516-e394-4584-aaee-e53b8c6c4801",
   "metadata": {},
   "outputs": [],
   "source": [
    "import matplotlib.pyplot as plt"
   ]
  },
  {
   "cell_type": "code",
   "execution_count": 33,
   "id": "788fbceb-7055-4569-aa43-e310a7f4f9fb",
   "metadata": {},
   "outputs": [],
   "source": [
    "c = df['city'].value_counts()"
   ]
  },
  {
   "cell_type": "code",
   "execution_count": 34,
   "id": "8233bfc6-af63-4007-9746-857a8ffd72f8",
   "metadata": {},
   "outputs": [
    {
     "data": {
      "text/plain": [
       "([<matplotlib.patches.Wedge at 0x1f816e55dd0>,\n",
       "  <matplotlib.patches.Wedge at 0x1f819361050>,\n",
       "  <matplotlib.patches.Wedge at 0x1f819363150>],\n",
       " [Text(0.5499999702695115, 0.9526279613277875, ''),\n",
       "  Text(-1.0999999999999954, -1.0298943258065002e-07, ''),\n",
       "  Text(0.5500001486524352, -0.9526278583383436, '')])"
      ]
     },
     "execution_count": 34,
     "metadata": {},
     "output_type": "execute_result"
    },
    {
     "data": {
      "image/png": "[encoded data removed]",
      "text/plain": [
       "<Figure size 640x480 with 1 Axes>"
      ]
     },
     "metadata": {},
     "output_type": "display_data"
    }
   ],
   "source": [
    "plt.pie(c, labels='city')"
   ]
  },
  {
   "cell_type": "code",
   "execution_count": null,
   "id": "f8e4c056-f2e1-4c81-b3fb-2bd962a62ab5",
   "metadata": {},
   "outputs": [],
   "source": []
  }
 ],
 "metadata": {
  "kernelspec": {
   "display_name": "Python 3 (ipykernel)",
   "language": "python",
   "name": "python3"
  },
  "language_info": {
   "codemirror_mode": {
    "name": "ipython",
    "version": 3
   },
   "file_extension": ".py",
   "mimetype": "text/x-python",
   "name": "python",
   "nbconvert_exporter": "python",
   "pygments_lexer": "ipython3",
   "version": "3.11.5"
  }
 },
 "nbformat": 4,
 "nbformat_minor": 5
}
