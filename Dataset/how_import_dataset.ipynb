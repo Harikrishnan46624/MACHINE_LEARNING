{
 "cells": [
  {
   "cell_type": "markdown",
   "id": "c1126211-47ee-41a5-aae4-ab4f7b28b0b1",
   "metadata": {},
   "source": [
    "API - APPLICATION PROGRAMMING INTERFACE"
   ]
  },
  {
   "cell_type": "markdown",
   "id": "bc3abf0b-808f-41b1-8739-f08df714210d",
   "metadata": {},
   "source": [
    "UPLOAD A KAGGEL.JSON FILE"
   ]
  },
  {
   "cell_type": "code",
   "execution_count": 3,
   "id": "6b31e958-32cb-4685-a488-a46fe3053b1d",
   "metadata": {},
   "outputs": [
    {
     "ename": "SyntaxError",
     "evalue": "invalid syntax (2937563628.py, line 2)",
     "output_type": "error",
     "traceback": [
      "\u001b[1;36m  Cell \u001b[1;32mIn[3], line 2\u001b[1;36m\u001b[0m\n\u001b[1;33m    mkdir -p ~/.kaggle\u001b[0m\n\u001b[1;37m             ^\u001b[0m\n\u001b[1;31mSyntaxError\u001b[0m\u001b[1;31m:\u001b[0m invalid syntax\n"
     ]
    }
   ],
   "source": [
    "#configuring the path of Kaggle.json file\n",
    "mkdir \"%E:\\Programming\\Machine Learning\\Dataset%\"\\.kaggle\n",
    "copy kaggle.json \"E:\\Programming\\Machine Learning\\Dataset%\\.kaggle\\\"/\n",
    "chmod 600 ~/.kaggle/kaggle.json"
   ]
  },
  {
   "cell_type": "code",
   "execution_count": null,
   "id": "d4937b69-f7ea-4ca1-8d97-e19d2ac09a08",
   "metadata": {},
   "outputs": [],
   "source": []
  }
 ],
 "metadata": {
  "kernelspec": {
   "display_name": "Python 3 (ipykernel)",
   "language": "python",
   "name": "python3"
  },
  "language_info": {
   "codemirror_mode": {
    "name": "ipython",
    "version": 3
   },
   "file_extension": ".py",
   "mimetype": "text/x-python",
   "name": "python",
   "nbconvert_exporter": "python",
   "pygments_lexer": "ipython3",
   "version": "3.11.4"
  }
 },
 "nbformat": 4,
 "nbformat_minor": 5
}
