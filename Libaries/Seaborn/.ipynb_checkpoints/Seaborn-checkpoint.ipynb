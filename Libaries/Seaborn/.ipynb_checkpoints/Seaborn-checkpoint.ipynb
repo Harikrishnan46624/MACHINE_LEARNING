{
 "cells": [
  {
   "cell_type": "markdown",
   "id": "d2506d82-106a-4513-acf6-c4d5704e3d41",
   "metadata": {},
   "source": [
    "DATA VISULIZATION LIBRARY"
   ]
  },
  {
   "cell_type": "code",
   "execution_count": null,
   "id": "41c6f3d7-99f5-4098-8baa-a3fb529f6ae3",
   "metadata": {},
   "outputs": [],
   "source": [
    "import seaborn as sns\n",
    "import matplotlib.pyplot as plt\n",
    "import numpy as np\n",
    "import pandas as "
   ]
  }
 ],
 "metadata": {
  "kernelspec": {
   "display_name": "Python 3 (ipykernel)",
   "language": "python",
   "name": "python3"
  },
  "language_info": {
   "codemirror_mode": {
    "name": "ipython",
    "version": 3
   },
   "file_extension": ".py",
   "mimetype": "text/x-python",
   "name": "python",
   "nbconvert_exporter": "python",
   "pygments_lexer": "ipython3",
   "version": "3.11.4"
  }
 },
 "nbformat": 4,
 "nbformat_minor": 5
}
