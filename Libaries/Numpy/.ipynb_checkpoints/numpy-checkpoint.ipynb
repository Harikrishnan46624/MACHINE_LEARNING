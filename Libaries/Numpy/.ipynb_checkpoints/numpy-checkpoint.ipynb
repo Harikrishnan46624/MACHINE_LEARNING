{
 "cells": [
  {
   "cell_type": "markdown",
   "id": "959b7462-1ea3-4a36-8806-3bb8306442a4",
   "metadata": {},
   "source": [
    "ALLOWS SEVERAL MATHAMETICAL OPERATIONS\n",
    "FASTER OPERATIONS"
   ]
  },
  {
   "cell_type": "code",
   "execution_count": 11,
   "id": "f8a2a5a0-2264-479d-ab80-db8190f84c9e",
   "metadata": {},
   "outputs": [],
   "source": [
    "import numpy as np"
   ]
  },
  {
   "cell_type": "markdown",
   "id": "8d8f93f1-af9e-49fe-98d9-19d9e5ef05b0",
   "metadata": {},
   "source": [
    "TIME OF LIST VS NUMPY"
   ]
  },
  {
   "cell_type": "code",
   "execution_count": 12,
   "id": "4ecc2b7e-c158-4868-85c2-7ba570225342",
   "metadata": {},
   "outputs": [],
   "source": [
    "from time import process_time"
   ]
  },
  {
   "cell_type": "code",
   "execution_count": 13,
   "id": "937e8f0a-3d3d-4c2e-adf5-25a45d567a02",
   "metadata": {},
   "outputs": [
    {
     "name": "stdout",
     "output_type": "stream",
     "text": [
      "0.140625\n"
     ]
    }
   ],
   "source": [
    "python_list = [i for i in range(1000000)]\n",
    "start_time = process_time()\n",
    "python_list = [i+5 for i in python_list]\n",
    "end_time = process_time()\n",
    "print(end_time - start_time)"
   ]
  },
  {
   "cell_type": "code",
   "execution_count": 14,
   "id": "cd22f62e-6989-433f-87ee-575a67ad6e0f",
   "metadata": {},
   "outputs": [
    {
     "name": "stdout",
     "output_type": "stream",
     "text": [
      "-0.171875\n"
     ]
    }
   ],
   "source": [
    "np_array = np.array([i for i in range(1000000)])\n",
    "start_time = process_time()\n",
    "np_array += 5\n",
    "print(end_time - start_time)"
   ]
  },
  {
   "cell_type": "markdown",
   "id": "d34f78c0-f16c-4ad4-899a-e4b5188070ae",
   "metadata": {},
   "source": [
    "CREATE IDENTITY MATRIX"
   ]
  },
  {
   "cell_type": "code",
   "execution_count": 15,
   "id": "3b56c049-bb5d-4a54-bd97-bf6169060606",
   "metadata": {},
   "outputs": [
    {
     "data": {
      "text/plain": [
       "array([[1., 0., 0., 0., 0.],\n",
       "       [0., 1., 0., 0., 0.],\n",
       "       [0., 0., 1., 0., 0.],\n",
       "       [0., 0., 0., 1., 0.],\n",
       "       [0., 0., 0., 0., 1.]])"
      ]
     },
     "execution_count": 15,
     "metadata": {},
     "output_type": "execute_result"
    }
   ],
   "source": [
    "A = np.eye(5)\n",
    "A"
   ]
  },
  {
   "cell_type": "markdown",
   "id": "dd88b5b9-36c4-4e07-95a1-fc456a6f6f83",
   "metadata": {},
   "source": [
    "CREATE RANDOM MATRIX"
   ]
  },
  {
   "cell_type": "code",
   "execution_count": 17,
   "id": "9d321b04-f9fc-4f19-926d-e61c6088eb31",
   "metadata": {},
   "outputs": [
    {
     "data": {
      "text/plain": [
       "array([[0.49238003, 0.53838333, 0.48715946, 0.25325577],\n",
       "       [0.94145086, 0.7985639 , 0.64515833, 0.65323915],\n",
       "       [0.87497193, 0.82237242, 0.18995645, 0.51661568]])"
      ]
     },
     "execution_count": 17,
     "metadata": {},
     "output_type": "execute_result"
    }
   ],
   "source": [
    "b = np.random.random((3, 4))\n",
    "b"
   ]
  },
  {
   "cell_type": "code",
   "execution_count": 19,
   "id": "5dd605a9-b3e2-4987-bf00-9eeeca4fe226",
   "metadata": {},
   "outputs": [
    {
     "data": {
      "text/plain": [
       "array([[88, 33, 18, 74, 74],\n",
       "       [76, 83, 37, 12, 74],\n",
       "       [61, 74, 91, 12, 37]])"
      ]
     },
     "execution_count": 19,
     "metadata": {},
     "output_type": "execute_result"
    }
   ],
   "source": [
    "#random integar values within a specfic range\n",
    "c = np.random.randint(10, 100, (3, 5))\n",
    "c"
   ]
  },
  {
   "cell_type": "code",
   "execution_count": 21,
   "id": "4a4964f0-c48f-43ea-b523-a09dd8914fa9",
   "metadata": {},
   "outputs": [
    {
     "data": {
      "text/plain": [
       "array([10., 15., 20., 25., 30.])"
      ]
     },
     "execution_count": 21,
     "metadata": {},
     "output_type": "execute_result"
    }
   ],
   "source": [
    "#evenly specfied values\n",
    "d = np.linspace(10, 30, 5)\n",
    "d"
   ]
  },
  {
   "cell_type": "code",
   "execution_count": 24,
   "id": "915570f9-1be8-419b-a3e3-1303831ac3d9",
   "metadata": {},
   "outputs": [
    {
     "name": "stdout",
     "output_type": "stream",
     "text": [
      "[10 20 30 40]\n"
     ]
    },
    {
     "data": {
      "text/plain": [
       "numpy.ndarray"
      ]
     },
     "execution_count": 24,
     "metadata": {},
     "output_type": "execute_result"
    }
   ],
   "source": [
    "#conver list to numpy array\n",
    "list1 = [10,20,30,40]\n",
    "np_array = np.asarray(list1)\n",
    "print(np_array)\n",
    "type(np_array)"
   ]
  },
  {
   "cell_type": "markdown",
   "id": "4a86974c-0e18-479c-bee8-03b5bb2dc33b",
   "metadata": {},
   "source": [
    "ANALYSING NUMPY ARRAY"
   ]
  },
  {
   "cell_type": "code",
   "execution_count": 25,
   "id": "a18cca74-ed67-402a-816d-d1ea39250083",
   "metadata": {},
   "outputs": [
    {
     "data": {
      "text/plain": [
       "array([[50, 41, 16, 56, 56],\n",
       "       [83, 26, 43, 11, 35],\n",
       "       [62, 19, 59, 72, 44],\n",
       "       [89, 70, 75, 35, 11],\n",
       "       [85, 86, 19, 84, 48]])"
      ]
     },
     "execution_count": 25,
     "metadata": {},
     "output_type": "execute_result"
    }
   ],
   "source": [
    "c = np.random.randint(10, 90,(5,5))\n",
    "c"
   ]
  },
  {
   "cell_type": "code",
   "execution_count": 27,
   "id": "e0ed97c1-697d-4d85-bd24-4e30a68a521f",
   "metadata": {},
   "outputs": [
    {
     "data": {
      "text/plain": [
       "(5, 5)"
      ]
     },
     "execution_count": 27,
     "metadata": {},
     "output_type": "execute_result"
    }
   ],
   "source": [
    "#Shape of array\n",
    "c.shape"
   ]
  },
  {
   "cell_type": "code",
   "execution_count": 28,
   "id": "e7d4fe56-425f-4b34-ae6b-71b89e01ef85",
   "metadata": {},
   "outputs": [
    {
     "data": {
      "text/plain": [
       "2"
      ]
     },
     "execution_count": 28,
     "metadata": {},
     "output_type": "execute_result"
    }
   ],
   "source": [
    "#number of dimensions\n",
    "c.ndim"
   ]
  },
  {
   "cell_type": "code",
   "execution_count": 29,
   "id": "0180bc06-3d43-4c61-938f-b5955795bf86",
   "metadata": {},
   "outputs": [
    {
     "data": {
      "text/plain": [
       "25"
      ]
     },
     "execution_count": 29,
     "metadata": {},
     "output_type": "execute_result"
    }
   ],
   "source": [
    "#number of elements in an array\n",
    "c.size"
   ]
  },
  {
   "cell_type": "code",
   "execution_count": 30,
   "id": "6bdd0301-c8a5-4d09-bfa3-8b6bf3d3f4bb",
   "metadata": {},
   "outputs": [
    {
     "data": {
      "text/plain": [
       "dtype('int32')"
      ]
     },
     "execution_count": 30,
     "metadata": {},
     "output_type": "execute_result"
    }
   ],
   "source": [
    "#check datatype\n",
    "c.dtype"
   ]
  },
  {
   "cell_type": "markdown",
   "id": "8c050758-8df3-48e4-8924-bb6fc809e12b",
   "metadata": {},
   "source": [
    "MATHEMATICAL OPERATOPNS ON NUMPY ARRAY"
   ]
  },
  {
   "cell_type": "code",
   "execution_count": 31,
   "id": "cfa6e987-de07-46a9-ba03-0e8f06c3a0e9",
   "metadata": {},
   "outputs": [
    {
     "name": "stdout",
     "output_type": "stream",
     "text": [
      "[1, 2, 3, 4, 5, 6, 7, 8]\n"
     ]
    }
   ],
   "source": [
    "list1 = [1,2,3,4]\n",
    "list2 = [5,6,7,8,]\n",
    "print(list1 + list2)"
   ]
  },
  {
   "cell_type": "code",
   "execution_count": 33,
   "id": "56d5c7ca-1448-4331-a549-a820a6744b34",
   "metadata": {},
   "outputs": [
    {
     "name": "stdout",
     "output_type": "stream",
     "text": [
      "A [[6 9 0]\n",
      " [9 2 7]\n",
      " [9 7 8]]\n",
      "B [[19 15 11]\n",
      " [14 19 18]\n",
      " [13 10 14]]\n"
     ]
    }
   ],
   "source": [
    "a  = np.random.randint(0, 10, (3,3))\n",
    "b  = np.random.randint(10, 20, (3,3))\n",
    "print(\"A\",a)\n",
    "print(\"B\",b)"
   ]
  },
  {
   "cell_type": "code",
   "execution_count": 34,
   "id": "3e4b2f09-1932-4504-a922-e2820c758b41",
   "metadata": {},
   "outputs": [
    {
     "name": "stdout",
     "output_type": "stream",
     "text": [
      "[[25 24 11]\n",
      " [23 21 25]\n",
      " [22 17 22]]\n",
      "[[-13  -6 -11]\n",
      " [ -5 -17 -11]\n",
      " [ -4  -3  -6]]\n",
      "[[114 135   0]\n",
      " [126  38 126]\n",
      " [117  70 112]]\n",
      "[[0.31578947 0.6        0.        ]\n",
      " [0.64285714 0.10526316 0.38888889]\n",
      " [0.69230769 0.7        0.57142857]]\n"
     ]
    }
   ],
   "source": [
    "print(a + b)\n",
    "print(a - b)\n",
    "print(a * b)\n",
    "print(a / b)"
   ]
  },
  {
   "cell_type": "code",
   "execution_count": 35,
   "id": "38ea33d8-1134-4335-bb63-ff08532e7403",
   "metadata": {},
   "outputs": [],
   "source": [
    "d  = np.random.randint(0, 10, (3,3))\n",
    "f  = np.random.randint(10, 20, (3,3))"
   ]
  },
  {
   "cell_type": "code",
   "execution_count": 37,
   "id": "baf6140e-464c-4574-9065-ae0cf4060ae8",
   "metadata": {},
   "outputs": [
    {
     "name": "stdout",
     "output_type": "stream",
     "text": [
      "[[25 24 11]\n",
      " [23 21 25]\n",
      " [22 17 22]]\n",
      "[[-13  -6 -11]\n",
      " [ -5 -17 -11]\n",
      " [ -4  -3  -6]]\n",
      "[[114 135   0]\n",
      " [126  38 126]\n",
      " [117  70 112]]\n",
      "[[0.31578947 0.6        0.        ]\n",
      " [0.64285714 0.10526316 0.38888889]\n",
      " [0.69230769 0.7        0.57142857]]\n"
     ]
    }
   ],
   "source": [
    "#ADD TWO ARRAY\n",
    "print(np.add(a, b))\n",
    "print(np.subtract(a, b))\n",
    "print(np.multiply(a, b))\n",
    "print(np.divide(a, b))"
   ]
  },
  {
   "cell_type": "markdown",
   "id": "161820c4-d396-45ae-9f85-001baae4047b",
   "metadata": {},
   "source": [
    "ARRAY MANIPULATION"
   ]
  },
  {
   "cell_type": "code",
   "execution_count": 38,
   "id": "77b529e5-f211-422e-8c75-a1ccdc6cde72",
   "metadata": {},
   "outputs": [
    {
     "name": "stdout",
     "output_type": "stream",
     "text": [
      "[[3 3 2]\n",
      " [8 0 5]]\n",
      "(2, 3)\n"
     ]
    }
   ],
   "source": [
    "arr1 = np.random.randint(0, 10,(2, 3))\n",
    "print(arr1)\n",
    "print(arr1.shape)"
   ]
  },
  {
   "cell_type": "code",
   "execution_count": 41,
   "id": "d1a52366-938e-4aae-8690-c213d6a3ae37",
   "metadata": {},
   "outputs": [
    {
     "name": "stdout",
     "output_type": "stream",
     "text": [
      "[[3 8]\n",
      " [3 0]\n",
      " [2 5]]\n",
      "(3, 2)\n"
     ]
    }
   ],
   "source": [
    "#Transpose\n",
    "t = np.transpose(arr1)\n",
    "print(t)\n",
    "print(t.shape)"
   ]
  },
  {
   "cell_type": "code",
   "execution_count": 44,
   "id": "8ae36dce-1ba2-4418-b2ae-c385198ca5fa",
   "metadata": {},
   "outputs": [
    {
     "data": {
      "text/plain": [
       "array([[3, 8],\n",
       "       [3, 0],\n",
       "       [2, 5]])"
      ]
     },
     "execution_count": 44,
     "metadata": {},
     "output_type": "execute_result"
    }
   ],
   "source": [
    "t2 = arr1.T\n",
    "t2"
   ]
  },
  {
   "cell_type": "code",
   "execution_count": 45,
   "id": "82306a0f-3499-4a92-9076-390e4ec05a25",
   "metadata": {},
   "outputs": [
    {
     "name": "stdout",
     "output_type": "stream",
     "text": [
      "[[2 6 0]\n",
      " [0 2 9]]\n",
      "(2, 3)\n"
     ]
    }
   ],
   "source": [
    "# Reshape a array\n",
    "g = np.random.randint(0, 10,(2, 3)) \n",
    "print(g) \n",
    "print(g.shape)"
   ]
  },
  {
   "cell_type": "code",
   "execution_count": 46,
   "id": "dbf42b36-fc6e-40ad-8b3a-ffefb1a0a158",
   "metadata": {},
   "outputs": [
    {
     "name": "stdout",
     "output_type": "stream",
     "text": [
      "[[2 6]\n",
      " [0 0]\n",
      " [2 9]]\n",
      "(3, 2)\n"
     ]
    }
   ],
   "source": [
    "r = g.reshape(3, 2)\n",
    "print(r)\n",
    "print(r.shape)"
   ]
  }
 ],
 "metadata": {
  "kernelspec": {
   "display_name": "Python 3 (ipykernel)",
   "language": "python",
   "name": "python3"
  },
  "language_info": {
   "codemirror_mode": {
    "name": "ipython",
    "version": 3
   },
   "file_extension": ".py",
   "mimetype": "text/x-python",
   "name": "python",
   "nbconvert_exporter": "python",
   "pygments_lexer": "ipython3",
   "version": "3.11.4"
  }
 },
 "nbformat": 4,
 "nbformat_minor": 5
}
